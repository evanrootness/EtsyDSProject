{
 "cells": [
  {
   "cell_type": "markdown",
   "metadata": {},
   "source": [
    "# Imports"
   ]
  },
  {
   "cell_type": "code",
   "execution_count": 3,
   "metadata": {},
   "outputs": [
    {
     "name": "stdout",
     "output_type": "stream",
     "text": [
      "/Users/evanrootness/DS_Projects/EtsyDSProject\n"
     ]
    }
   ],
   "source": [
    "import os\n",
    "os.chdir(\"/Users/evanrootness/DS_Projects/EtsyDSProject\")\n",
    "pwd = os.getcwd()\n",
    "print(pwd)"
   ]
  },
  {
   "cell_type": "code",
   "execution_count": 463,
   "metadata": {},
   "outputs": [],
   "source": [
    "import pandas as pd\n",
    "import numpy as np\n",
    "import matplotlib as mpl\n",
    "import matplotlib.pyplot as plt\n",
    "%matplotlib inline\n",
    "import math\n",
    "import scipy.optimize as opt\n",
    "import seaborn as sns\n",
    "from sklearn.model_selection import train_test_split\n",
    "import sys\n",
    "import re"
   ]
  },
  {
   "cell_type": "code",
   "execution_count": 658,
   "metadata": {},
   "outputs": [],
   "source": [
    "import_data = pd.read_csv(pwd + '/data/ArtAllPages.csv')\n",
    "# import_data = pd.read_csv(pwd + '/data/art_map.csv')\n",
    "raw_data = import_data.copy()"
   ]
  },
  {
   "cell_type": "markdown",
   "metadata": {},
   "source": [
    "# Data Cleaning"
   ]
  },
  {
   "cell_type": "code",
   "execution_count": 659,
   "metadata": {},
   "outputs": [],
   "source": [
    "data = raw_data.drop(['web-scraper-order', 'web-scraper-start-url', 'product_link-href', 'Pagination', 'product_link'], axis = 1)"
   ]
  },
  {
   "cell_type": "code",
   "execution_count": 660,
   "metadata": {},
   "outputs": [
    {
     "name": "stdout",
     "output_type": "stream",
     "text": [
      "(1111, 3)\n"
     ]
    },
    {
     "data": {
      "text/html": [
       "<div>\n",
       "<style scoped>\n",
       "    .dataframe tbody tr th:only-of-type {\n",
       "        vertical-align: middle;\n",
       "    }\n",
       "\n",
       "    .dataframe tbody tr th {\n",
       "        vertical-align: top;\n",
       "    }\n",
       "\n",
       "    .dataframe thead th {\n",
       "        text-align: right;\n",
       "    }\n",
       "</style>\n",
       "<table border=\"1\" class=\"dataframe\">\n",
       "  <thead>\n",
       "    <tr style=\"text-align: right;\">\n",
       "      <th></th>\n",
       "      <th>name</th>\n",
       "      <th>min_price</th>\n",
       "      <th>size_options</th>\n",
       "    </tr>\n",
       "  </thead>\n",
       "  <tbody>\n",
       "    <tr>\n",
       "      <th>0</th>\n",
       "      <td>Pastel Art, Mint Green Wall Art, Mint Green Ar...</td>\n",
       "      <td>Price:\\n        $6.00</td>\n",
       "      <td>[]</td>\n",
       "    </tr>\n",
       "    <tr>\n",
       "      <th>1</th>\n",
       "      <td>San Francisco Print, Golden Gate Bridge Wall A...</td>\n",
       "      <td>Price:\\n        $18.00+</td>\n",
       "      <td>[{\"size_options\":\"Select an option\\n          ...</td>\n",
       "    </tr>\n",
       "    <tr>\n",
       "      <th>2</th>\n",
       "      <td>Set 4 Coral Prints Mist Blue/Green, Nautical p...</td>\n",
       "      <td>Price:\\n        $82.00+</td>\n",
       "      <td>[{\"size_options\":\"Select a size\\n             ...</td>\n",
       "    </tr>\n",
       "    <tr>\n",
       "      <th>3</th>\n",
       "      <td>Whale nursery art. Whale Rider print</td>\n",
       "      <td>Price:\\n        $20.00+</td>\n",
       "      <td>[{\"size_options\":\"Select a size\\n             ...</td>\n",
       "    </tr>\n",
       "    <tr>\n",
       "      <th>4</th>\n",
       "      <td>Valentine's Day Copper Rose / Seventh Annivers...</td>\n",
       "      <td>Price:\\n        $160.00+</td>\n",
       "      <td>[{\"size_options\":\"Select an option\\n          ...</td>\n",
       "    </tr>\n",
       "    <tr>\n",
       "      <th>...</th>\n",
       "      <td>...</td>\n",
       "      <td>...</td>\n",
       "      <td>...</td>\n",
       "    </tr>\n",
       "    <tr>\n",
       "      <th>1106</th>\n",
       "      <td>Yellow Leopard 20oz Tumbler Sublimation Wrap,G...</td>\n",
       "      <td>Price:\\n        $4.80</td>\n",
       "      <td>[]</td>\n",
       "    </tr>\n",
       "    <tr>\n",
       "      <th>1107</th>\n",
       "      <td>Tropical Little Thing Mini Crab, Driftwood Wal...</td>\n",
       "      <td>Price:\\n        $150.00</td>\n",
       "      <td>[]</td>\n",
       "    </tr>\n",
       "    <tr>\n",
       "      <th>1108</th>\n",
       "      <td>Fall Pumpkin Mug Sublimation, Watercolor Flora...</td>\n",
       "      <td>Price:\\n        $2.00</td>\n",
       "      <td>[]</td>\n",
       "    </tr>\n",
       "    <tr>\n",
       "      <th>1109</th>\n",
       "      <td>Pheasant Art Print Giclee Limited Edition</td>\n",
       "      <td>Price:\\n        $39.89</td>\n",
       "      <td>[]</td>\n",
       "    </tr>\n",
       "    <tr>\n",
       "      <th>1110</th>\n",
       "      <td>Rabbit Print - Spring Decor, Watercolor Rabbit...</td>\n",
       "      <td>Price:\\n        $14.00+</td>\n",
       "      <td>[{\"size_options\":\"Select a size\\n             ...</td>\n",
       "    </tr>\n",
       "  </tbody>\n",
       "</table>\n",
       "<p>1111 rows × 3 columns</p>\n",
       "</div>"
      ],
      "text/plain": [
       "                                                   name  \\\n",
       "0     Pastel Art, Mint Green Wall Art, Mint Green Ar...   \n",
       "1     San Francisco Print, Golden Gate Bridge Wall A...   \n",
       "2     Set 4 Coral Prints Mist Blue/Green, Nautical p...   \n",
       "3                  Whale nursery art. Whale Rider print   \n",
       "4     Valentine's Day Copper Rose / Seventh Annivers...   \n",
       "...                                                 ...   \n",
       "1106  Yellow Leopard 20oz Tumbler Sublimation Wrap,G...   \n",
       "1107  Tropical Little Thing Mini Crab, Driftwood Wal...   \n",
       "1108  Fall Pumpkin Mug Sublimation, Watercolor Flora...   \n",
       "1109          Pheasant Art Print Giclee Limited Edition   \n",
       "1110  Rabbit Print - Spring Decor, Watercolor Rabbit...   \n",
       "\n",
       "                     min_price  \\\n",
       "0        Price:\\n        $6.00   \n",
       "1      Price:\\n        $18.00+   \n",
       "2      Price:\\n        $82.00+   \n",
       "3      Price:\\n        $20.00+   \n",
       "4     Price:\\n        $160.00+   \n",
       "...                        ...   \n",
       "1106     Price:\\n        $4.80   \n",
       "1107   Price:\\n        $150.00   \n",
       "1108     Price:\\n        $2.00   \n",
       "1109    Price:\\n        $39.89   \n",
       "1110   Price:\\n        $14.00+   \n",
       "\n",
       "                                           size_options  \n",
       "0                                                    []  \n",
       "1     [{\"size_options\":\"Select an option\\n          ...  \n",
       "2     [{\"size_options\":\"Select a size\\n             ...  \n",
       "3     [{\"size_options\":\"Select a size\\n             ...  \n",
       "4     [{\"size_options\":\"Select an option\\n          ...  \n",
       "...                                                 ...  \n",
       "1106                                                 []  \n",
       "1107                                                 []  \n",
       "1108                                                 []  \n",
       "1109                                                 []  \n",
       "1110  [{\"size_options\":\"Select a size\\n             ...  \n",
       "\n",
       "[1111 rows x 3 columns]"
      ]
     },
     "execution_count": 660,
     "metadata": {},
     "output_type": "execute_result"
    }
   ],
   "source": [
    "print(data.shape)\n",
    "data"
   ]
  },
  {
   "cell_type": "code",
   "execution_count": 661,
   "metadata": {},
   "outputs": [
    {
     "data": {
      "text/html": [
       "<div>\n",
       "<style scoped>\n",
       "    .dataframe tbody tr th:only-of-type {\n",
       "        vertical-align: middle;\n",
       "    }\n",
       "\n",
       "    .dataframe tbody tr th {\n",
       "        vertical-align: top;\n",
       "    }\n",
       "\n",
       "    .dataframe thead th {\n",
       "        text-align: right;\n",
       "    }\n",
       "</style>\n",
       "<table border=\"1\" class=\"dataframe\">\n",
       "  <thead>\n",
       "    <tr style=\"text-align: right;\">\n",
       "      <th></th>\n",
       "      <th>name</th>\n",
       "      <th>min_price</th>\n",
       "      <th>size_options</th>\n",
       "    </tr>\n",
       "  </thead>\n",
       "  <tbody>\n",
       "    <tr>\n",
       "      <th>count</th>\n",
       "      <td>1111</td>\n",
       "      <td>1111</td>\n",
       "      <td>1111</td>\n",
       "    </tr>\n",
       "    <tr>\n",
       "      <th>unique</th>\n",
       "      <td>1041</td>\n",
       "      <td>508</td>\n",
       "      <td>412</td>\n",
       "    </tr>\n",
       "    <tr>\n",
       "      <th>top</th>\n",
       "      <td>Yellow Leopard 20oz Tumbler Sublimation Wrap,G...</td>\n",
       "      <td>Price:\\n        $18.00+</td>\n",
       "      <td>[]</td>\n",
       "    </tr>\n",
       "    <tr>\n",
       "      <th>freq</th>\n",
       "      <td>5</td>\n",
       "      <td>32</td>\n",
       "      <td>547</td>\n",
       "    </tr>\n",
       "  </tbody>\n",
       "</table>\n",
       "</div>"
      ],
      "text/plain": [
       "                                                     name  \\\n",
       "count                                                1111   \n",
       "unique                                               1041   \n",
       "top     Yellow Leopard 20oz Tumbler Sublimation Wrap,G...   \n",
       "freq                                                    5   \n",
       "\n",
       "                      min_price size_options  \n",
       "count                      1111         1111  \n",
       "unique                      508          412  \n",
       "top     Price:\\n        $18.00+           []  \n",
       "freq                         32          547  "
      ]
     },
     "execution_count": 661,
     "metadata": {},
     "output_type": "execute_result"
    }
   ],
   "source": [
    "data.describe()"
   ]
  },
  {
   "cell_type": "code",
   "execution_count": 662,
   "metadata": {},
   "outputs": [
    {
     "data": {
      "text/plain": [
       "name            string[python]\n",
       "min_price       string[python]\n",
       "size_options    string[python]\n",
       "dtype: object"
      ]
     },
     "execution_count": 662,
     "metadata": {},
     "output_type": "execute_result"
    }
   ],
   "source": [
    "data = data.astype(dtype='string')\n",
    "data.dtypes"
   ]
  },
  {
   "cell_type": "code",
   "execution_count": 663,
   "metadata": {},
   "outputs": [],
   "source": [
    "price = []\n",
    "\n",
    "for i in range(len(data['min_price'])):\n",
    "    price.append(re.search('[^+]*', data['min_price'][i]).group(0))\n",
    "    price[i] = re.search('[^\\$]*$', price[i]).group(0).replace(',', '')\n",
    "\n",
    "data['min_price'] = price\n",
    "data['min_price'] = data['min_price'].astype(float)"
   ]
  },
  {
   "cell_type": "markdown",
   "metadata": {},
   "source": [
    "## Convert Names to Categorical Data"
   ]
  },
  {
   "cell_type": "code",
   "execution_count": 664,
   "metadata": {},
   "outputs": [],
   "source": [
    "sys.path.insert(1, '/Users/evanrootness/DS_Projects/EtsyDSProject/py_scripts/')\n",
    "import scripts_explore"
   ]
  },
  {
   "cell_type": "code",
   "execution_count": 665,
   "metadata": {},
   "outputs": [],
   "source": [
    "# one-hot encode categorical data from listing names (encode most popular keywords)\n",
    "data = scripts_explore.addCategoricalLists(data, ['Watercolor', 'Portrait', 'Pet', 'Print', 'Family', 'Paint', 'Painting', 'Nature', 'Custom', 'Abstract', 'House', 'Map'])"
   ]
  },
  {
   "cell_type": "code",
   "execution_count": 666,
   "metadata": {},
   "outputs": [],
   "source": [
    "# I don't want to include maps in my analysis so get rid of them\n",
    "data = data.query('Map != 1')\n",
    "data = data.drop(columns='Map')\n",
    "data = data.reset_index(drop=True)"
   ]
  },
  {
   "cell_type": "code",
   "execution_count": 667,
   "metadata": {},
   "outputs": [
    {
     "data": {
      "text/html": [
       "<div>\n",
       "<style scoped>\n",
       "    .dataframe tbody tr th:only-of-type {\n",
       "        vertical-align: middle;\n",
       "    }\n",
       "\n",
       "    .dataframe tbody tr th {\n",
       "        vertical-align: top;\n",
       "    }\n",
       "\n",
       "    .dataframe thead th {\n",
       "        text-align: right;\n",
       "    }\n",
       "</style>\n",
       "<table border=\"1\" class=\"dataframe\">\n",
       "  <thead>\n",
       "    <tr style=\"text-align: right;\">\n",
       "      <th></th>\n",
       "      <th>name</th>\n",
       "      <th>min_price</th>\n",
       "      <th>size_options</th>\n",
       "      <th>Watercolor</th>\n",
       "      <th>Portrait</th>\n",
       "      <th>Pet</th>\n",
       "      <th>Print</th>\n",
       "      <th>Family</th>\n",
       "      <th>Paint</th>\n",
       "      <th>Painting</th>\n",
       "      <th>Nature</th>\n",
       "      <th>Custom</th>\n",
       "      <th>Abstract</th>\n",
       "      <th>House</th>\n",
       "    </tr>\n",
       "  </thead>\n",
       "  <tbody>\n",
       "    <tr>\n",
       "      <th>0</th>\n",
       "      <td>Pastel Art, Mint Green Wall Art, Mint Green Ar...</td>\n",
       "      <td>6.00</td>\n",
       "      <td>[]</td>\n",
       "      <td>1</td>\n",
       "      <td>0</td>\n",
       "      <td>0</td>\n",
       "      <td>1</td>\n",
       "      <td>0</td>\n",
       "      <td>0</td>\n",
       "      <td>0</td>\n",
       "      <td>0</td>\n",
       "      <td>0</td>\n",
       "      <td>1</td>\n",
       "      <td>0</td>\n",
       "    </tr>\n",
       "    <tr>\n",
       "      <th>1</th>\n",
       "      <td>San Francisco Print, Golden Gate Bridge Wall A...</td>\n",
       "      <td>18.00</td>\n",
       "      <td>[{\"size_options\":\"Select an option\\n          ...</td>\n",
       "      <td>0</td>\n",
       "      <td>0</td>\n",
       "      <td>0</td>\n",
       "      <td>1</td>\n",
       "      <td>0</td>\n",
       "      <td>0</td>\n",
       "      <td>0</td>\n",
       "      <td>0</td>\n",
       "      <td>0</td>\n",
       "      <td>0</td>\n",
       "      <td>0</td>\n",
       "    </tr>\n",
       "    <tr>\n",
       "      <th>2</th>\n",
       "      <td>Set 4 Coral Prints Mist Blue/Green, Nautical p...</td>\n",
       "      <td>82.00</td>\n",
       "      <td>[{\"size_options\":\"Select a size\\n             ...</td>\n",
       "      <td>0</td>\n",
       "      <td>0</td>\n",
       "      <td>0</td>\n",
       "      <td>1</td>\n",
       "      <td>0</td>\n",
       "      <td>0</td>\n",
       "      <td>0</td>\n",
       "      <td>0</td>\n",
       "      <td>0</td>\n",
       "      <td>0</td>\n",
       "      <td>0</td>\n",
       "    </tr>\n",
       "    <tr>\n",
       "      <th>3</th>\n",
       "      <td>Whale nursery art. Whale Rider print</td>\n",
       "      <td>20.00</td>\n",
       "      <td>[{\"size_options\":\"Select a size\\n             ...</td>\n",
       "      <td>0</td>\n",
       "      <td>0</td>\n",
       "      <td>0</td>\n",
       "      <td>0</td>\n",
       "      <td>0</td>\n",
       "      <td>0</td>\n",
       "      <td>0</td>\n",
       "      <td>0</td>\n",
       "      <td>0</td>\n",
       "      <td>0</td>\n",
       "      <td>0</td>\n",
       "    </tr>\n",
       "    <tr>\n",
       "      <th>4</th>\n",
       "      <td>Valentine's Day Copper Rose / Seventh Annivers...</td>\n",
       "      <td>160.00</td>\n",
       "      <td>[{\"size_options\":\"Select an option\\n          ...</td>\n",
       "      <td>0</td>\n",
       "      <td>0</td>\n",
       "      <td>0</td>\n",
       "      <td>0</td>\n",
       "      <td>0</td>\n",
       "      <td>0</td>\n",
       "      <td>0</td>\n",
       "      <td>0</td>\n",
       "      <td>0</td>\n",
       "      <td>0</td>\n",
       "      <td>0</td>\n",
       "    </tr>\n",
       "    <tr>\n",
       "      <th>...</th>\n",
       "      <td>...</td>\n",
       "      <td>...</td>\n",
       "      <td>...</td>\n",
       "      <td>...</td>\n",
       "      <td>...</td>\n",
       "      <td>...</td>\n",
       "      <td>...</td>\n",
       "      <td>...</td>\n",
       "      <td>...</td>\n",
       "      <td>...</td>\n",
       "      <td>...</td>\n",
       "      <td>...</td>\n",
       "      <td>...</td>\n",
       "      <td>...</td>\n",
       "    </tr>\n",
       "    <tr>\n",
       "      <th>1048</th>\n",
       "      <td>Yellow Leopard 20oz Tumbler Sublimation Wrap,G...</td>\n",
       "      <td>4.80</td>\n",
       "      <td>[]</td>\n",
       "      <td>0</td>\n",
       "      <td>0</td>\n",
       "      <td>0</td>\n",
       "      <td>0</td>\n",
       "      <td>0</td>\n",
       "      <td>0</td>\n",
       "      <td>0</td>\n",
       "      <td>0</td>\n",
       "      <td>0</td>\n",
       "      <td>0</td>\n",
       "      <td>0</td>\n",
       "    </tr>\n",
       "    <tr>\n",
       "      <th>1049</th>\n",
       "      <td>Tropical Little Thing Mini Crab, Driftwood Wal...</td>\n",
       "      <td>150.00</td>\n",
       "      <td>[]</td>\n",
       "      <td>0</td>\n",
       "      <td>0</td>\n",
       "      <td>0</td>\n",
       "      <td>0</td>\n",
       "      <td>0</td>\n",
       "      <td>0</td>\n",
       "      <td>0</td>\n",
       "      <td>0</td>\n",
       "      <td>0</td>\n",
       "      <td>0</td>\n",
       "      <td>1</td>\n",
       "    </tr>\n",
       "    <tr>\n",
       "      <th>1050</th>\n",
       "      <td>Fall Pumpkin Mug Sublimation, Watercolor Flora...</td>\n",
       "      <td>2.00</td>\n",
       "      <td>[]</td>\n",
       "      <td>1</td>\n",
       "      <td>0</td>\n",
       "      <td>0</td>\n",
       "      <td>0</td>\n",
       "      <td>0</td>\n",
       "      <td>0</td>\n",
       "      <td>0</td>\n",
       "      <td>0</td>\n",
       "      <td>0</td>\n",
       "      <td>0</td>\n",
       "      <td>0</td>\n",
       "    </tr>\n",
       "    <tr>\n",
       "      <th>1051</th>\n",
       "      <td>Pheasant Art Print Giclee Limited Edition</td>\n",
       "      <td>39.89</td>\n",
       "      <td>[]</td>\n",
       "      <td>0</td>\n",
       "      <td>0</td>\n",
       "      <td>0</td>\n",
       "      <td>1</td>\n",
       "      <td>0</td>\n",
       "      <td>0</td>\n",
       "      <td>0</td>\n",
       "      <td>0</td>\n",
       "      <td>0</td>\n",
       "      <td>0</td>\n",
       "      <td>0</td>\n",
       "    </tr>\n",
       "    <tr>\n",
       "      <th>1052</th>\n",
       "      <td>Rabbit Print - Spring Decor, Watercolor Rabbit...</td>\n",
       "      <td>14.00</td>\n",
       "      <td>[{\"size_options\":\"Select a size\\n             ...</td>\n",
       "      <td>1</td>\n",
       "      <td>0</td>\n",
       "      <td>0</td>\n",
       "      <td>1</td>\n",
       "      <td>0</td>\n",
       "      <td>1</td>\n",
       "      <td>1</td>\n",
       "      <td>0</td>\n",
       "      <td>0</td>\n",
       "      <td>0</td>\n",
       "      <td>0</td>\n",
       "    </tr>\n",
       "  </tbody>\n",
       "</table>\n",
       "<p>1053 rows × 14 columns</p>\n",
       "</div>"
      ],
      "text/plain": [
       "                                                   name  min_price  \\\n",
       "0     Pastel Art, Mint Green Wall Art, Mint Green Ar...       6.00   \n",
       "1     San Francisco Print, Golden Gate Bridge Wall A...      18.00   \n",
       "2     Set 4 Coral Prints Mist Blue/Green, Nautical p...      82.00   \n",
       "3                  Whale nursery art. Whale Rider print      20.00   \n",
       "4     Valentine's Day Copper Rose / Seventh Annivers...     160.00   \n",
       "...                                                 ...        ...   \n",
       "1048  Yellow Leopard 20oz Tumbler Sublimation Wrap,G...       4.80   \n",
       "1049  Tropical Little Thing Mini Crab, Driftwood Wal...     150.00   \n",
       "1050  Fall Pumpkin Mug Sublimation, Watercolor Flora...       2.00   \n",
       "1051          Pheasant Art Print Giclee Limited Edition      39.89   \n",
       "1052  Rabbit Print - Spring Decor, Watercolor Rabbit...      14.00   \n",
       "\n",
       "                                           size_options  Watercolor  Portrait  \\\n",
       "0                                                    []           1         0   \n",
       "1     [{\"size_options\":\"Select an option\\n          ...           0         0   \n",
       "2     [{\"size_options\":\"Select a size\\n             ...           0         0   \n",
       "3     [{\"size_options\":\"Select a size\\n             ...           0         0   \n",
       "4     [{\"size_options\":\"Select an option\\n          ...           0         0   \n",
       "...                                                 ...         ...       ...   \n",
       "1048                                                 []           0         0   \n",
       "1049                                                 []           0         0   \n",
       "1050                                                 []           1         0   \n",
       "1051                                                 []           0         0   \n",
       "1052  [{\"size_options\":\"Select a size\\n             ...           1         0   \n",
       "\n",
       "      Pet  Print  Family  Paint  Painting  Nature  Custom  Abstract  House  \n",
       "0       0      1       0      0         0       0       0         1      0  \n",
       "1       0      1       0      0         0       0       0         0      0  \n",
       "2       0      1       0      0         0       0       0         0      0  \n",
       "3       0      0       0      0         0       0       0         0      0  \n",
       "4       0      0       0      0         0       0       0         0      0  \n",
       "...   ...    ...     ...    ...       ...     ...     ...       ...    ...  \n",
       "1048    0      0       0      0         0       0       0         0      0  \n",
       "1049    0      0       0      0         0       0       0         0      1  \n",
       "1050    0      0       0      0         0       0       0         0      0  \n",
       "1051    0      1       0      0         0       0       0         0      0  \n",
       "1052    0      1       0      1         1       0       0         0      0  \n",
       "\n",
       "[1053 rows x 14 columns]"
      ]
     },
     "execution_count": 667,
     "metadata": {},
     "output_type": "execute_result"
    }
   ],
   "source": [
    "data"
   ]
  },
  {
   "cell_type": "markdown",
   "metadata": {},
   "source": [
    "## Convert \"size options\" to price and size lists"
   ]
  },
  {
   "cell_type": "code",
   "execution_count": 670,
   "metadata": {},
   "outputs": [
    {
     "data": {
      "text/plain": [
       "'[]'"
      ]
     },
     "execution_count": 670,
     "metadata": {},
     "output_type": "execute_result"
    }
   ],
   "source": [
    "# example of string that needs to be parsed into sizes and prices\n",
    "data['size_options'][27]"
   ]
  },
  {
   "cell_type": "markdown",
   "metadata": {},
   "source": [
    "Types of patterns we need to match for sizes:\n",
    "- \"#x#\" (inches assumed, but no units)\n",
    "- \"#x# inches\"\n",
    "- \"# x # inches\"\n",
    "- \"#x#in\"\n",
    "- \"#x#cm\"\n",
    "- \"#x# cm\"\n",
    "- '#\\\\\" x #\\\\\" inches'"
   ]
  },
  {
   "cell_type": "code",
   "execution_count": 669,
   "metadata": {},
   "outputs": [
    {
     "data": {
      "text/plain": [
       "[]"
      ]
     },
     "execution_count": 669,
     "metadata": {},
     "output_type": "execute_result"
    }
   ],
   "source": [
    "pattern = r'(\\d+)\\\\\" x (\\d+)\\\\\"'\n",
    "string = data['size_options'][27]\n",
    "matches = re.findall(pattern, string)\n",
    "# floats_only = [(float(match[0]), float(match[2])) for match in matches]\n",
    "# floats_only\n",
    "matches"
   ]
  },
  {
   "cell_type": "code",
   "execution_count": 671,
   "metadata": {},
   "outputs": [
    {
     "data": {
      "text/html": [
       "<div>\n",
       "<style scoped>\n",
       "    .dataframe tbody tr th:only-of-type {\n",
       "        vertical-align: middle;\n",
       "    }\n",
       "\n",
       "    .dataframe tbody tr th {\n",
       "        vertical-align: top;\n",
       "    }\n",
       "\n",
       "    .dataframe thead th {\n",
       "        text-align: right;\n",
       "    }\n",
       "</style>\n",
       "<table border=\"1\" class=\"dataframe\">\n",
       "  <thead>\n",
       "    <tr style=\"text-align: right;\">\n",
       "      <th></th>\n",
       "      <th>name</th>\n",
       "      <th>min_price</th>\n",
       "      <th>size_options</th>\n",
       "      <th>Watercolor</th>\n",
       "      <th>Portrait</th>\n",
       "      <th>Pet</th>\n",
       "      <th>Print</th>\n",
       "      <th>Family</th>\n",
       "      <th>Paint</th>\n",
       "      <th>Painting</th>\n",
       "      <th>Nature</th>\n",
       "      <th>Custom</th>\n",
       "      <th>Abstract</th>\n",
       "      <th>House</th>\n",
       "    </tr>\n",
       "  </thead>\n",
       "  <tbody>\n",
       "    <tr>\n",
       "      <th>0</th>\n",
       "      <td>Pastel Art, Mint Green Wall Art, Mint Green Ar...</td>\n",
       "      <td>6.00</td>\n",
       "      <td>[]</td>\n",
       "      <td>1</td>\n",
       "      <td>0</td>\n",
       "      <td>0</td>\n",
       "      <td>1</td>\n",
       "      <td>0</td>\n",
       "      <td>0</td>\n",
       "      <td>0</td>\n",
       "      <td>0</td>\n",
       "      <td>0</td>\n",
       "      <td>1</td>\n",
       "      <td>0</td>\n",
       "    </tr>\n",
       "    <tr>\n",
       "      <th>1</th>\n",
       "      <td>San Francisco Print, Golden Gate Bridge Wall A...</td>\n",
       "      <td>18.00</td>\n",
       "      <td>[{\"size_options\":\"Select an option\\n          ...</td>\n",
       "      <td>0</td>\n",
       "      <td>0</td>\n",
       "      <td>0</td>\n",
       "      <td>1</td>\n",
       "      <td>0</td>\n",
       "      <td>0</td>\n",
       "      <td>0</td>\n",
       "      <td>0</td>\n",
       "      <td>0</td>\n",
       "      <td>0</td>\n",
       "      <td>0</td>\n",
       "    </tr>\n",
       "    <tr>\n",
       "      <th>2</th>\n",
       "      <td>Set 4 Coral Prints Mist Blue/Green, Nautical p...</td>\n",
       "      <td>82.00</td>\n",
       "      <td>[{\"size_options\":\"Select a size\\n             ...</td>\n",
       "      <td>0</td>\n",
       "      <td>0</td>\n",
       "      <td>0</td>\n",
       "      <td>1</td>\n",
       "      <td>0</td>\n",
       "      <td>0</td>\n",
       "      <td>0</td>\n",
       "      <td>0</td>\n",
       "      <td>0</td>\n",
       "      <td>0</td>\n",
       "      <td>0</td>\n",
       "    </tr>\n",
       "    <tr>\n",
       "      <th>3</th>\n",
       "      <td>Whale nursery art. Whale Rider print</td>\n",
       "      <td>20.00</td>\n",
       "      <td>[{\"size_options\":\"Select a size\\n             ...</td>\n",
       "      <td>0</td>\n",
       "      <td>0</td>\n",
       "      <td>0</td>\n",
       "      <td>0</td>\n",
       "      <td>0</td>\n",
       "      <td>0</td>\n",
       "      <td>0</td>\n",
       "      <td>0</td>\n",
       "      <td>0</td>\n",
       "      <td>0</td>\n",
       "      <td>0</td>\n",
       "    </tr>\n",
       "    <tr>\n",
       "      <th>4</th>\n",
       "      <td>Valentine's Day Copper Rose / Seventh Annivers...</td>\n",
       "      <td>160.00</td>\n",
       "      <td>[{\"size_options\":\"Select an option\\n          ...</td>\n",
       "      <td>0</td>\n",
       "      <td>0</td>\n",
       "      <td>0</td>\n",
       "      <td>0</td>\n",
       "      <td>0</td>\n",
       "      <td>0</td>\n",
       "      <td>0</td>\n",
       "      <td>0</td>\n",
       "      <td>0</td>\n",
       "      <td>0</td>\n",
       "      <td>0</td>\n",
       "    </tr>\n",
       "    <tr>\n",
       "      <th>...</th>\n",
       "      <td>...</td>\n",
       "      <td>...</td>\n",
       "      <td>...</td>\n",
       "      <td>...</td>\n",
       "      <td>...</td>\n",
       "      <td>...</td>\n",
       "      <td>...</td>\n",
       "      <td>...</td>\n",
       "      <td>...</td>\n",
       "      <td>...</td>\n",
       "      <td>...</td>\n",
       "      <td>...</td>\n",
       "      <td>...</td>\n",
       "      <td>...</td>\n",
       "    </tr>\n",
       "    <tr>\n",
       "      <th>1048</th>\n",
       "      <td>Yellow Leopard 20oz Tumbler Sublimation Wrap,G...</td>\n",
       "      <td>4.80</td>\n",
       "      <td>[]</td>\n",
       "      <td>0</td>\n",
       "      <td>0</td>\n",
       "      <td>0</td>\n",
       "      <td>0</td>\n",
       "      <td>0</td>\n",
       "      <td>0</td>\n",
       "      <td>0</td>\n",
       "      <td>0</td>\n",
       "      <td>0</td>\n",
       "      <td>0</td>\n",
       "      <td>0</td>\n",
       "    </tr>\n",
       "    <tr>\n",
       "      <th>1049</th>\n",
       "      <td>Tropical Little Thing Mini Crab, Driftwood Wal...</td>\n",
       "      <td>150.00</td>\n",
       "      <td>[]</td>\n",
       "      <td>0</td>\n",
       "      <td>0</td>\n",
       "      <td>0</td>\n",
       "      <td>0</td>\n",
       "      <td>0</td>\n",
       "      <td>0</td>\n",
       "      <td>0</td>\n",
       "      <td>0</td>\n",
       "      <td>0</td>\n",
       "      <td>0</td>\n",
       "      <td>1</td>\n",
       "    </tr>\n",
       "    <tr>\n",
       "      <th>1050</th>\n",
       "      <td>Fall Pumpkin Mug Sublimation, Watercolor Flora...</td>\n",
       "      <td>2.00</td>\n",
       "      <td>[]</td>\n",
       "      <td>1</td>\n",
       "      <td>0</td>\n",
       "      <td>0</td>\n",
       "      <td>0</td>\n",
       "      <td>0</td>\n",
       "      <td>0</td>\n",
       "      <td>0</td>\n",
       "      <td>0</td>\n",
       "      <td>0</td>\n",
       "      <td>0</td>\n",
       "      <td>0</td>\n",
       "    </tr>\n",
       "    <tr>\n",
       "      <th>1051</th>\n",
       "      <td>Pheasant Art Print Giclee Limited Edition</td>\n",
       "      <td>39.89</td>\n",
       "      <td>[]</td>\n",
       "      <td>0</td>\n",
       "      <td>0</td>\n",
       "      <td>0</td>\n",
       "      <td>1</td>\n",
       "      <td>0</td>\n",
       "      <td>0</td>\n",
       "      <td>0</td>\n",
       "      <td>0</td>\n",
       "      <td>0</td>\n",
       "      <td>0</td>\n",
       "      <td>0</td>\n",
       "    </tr>\n",
       "    <tr>\n",
       "      <th>1052</th>\n",
       "      <td>Rabbit Print - Spring Decor, Watercolor Rabbit...</td>\n",
       "      <td>14.00</td>\n",
       "      <td>[{\"size_options\":\"Select a size\\n             ...</td>\n",
       "      <td>1</td>\n",
       "      <td>0</td>\n",
       "      <td>0</td>\n",
       "      <td>1</td>\n",
       "      <td>0</td>\n",
       "      <td>1</td>\n",
       "      <td>1</td>\n",
       "      <td>0</td>\n",
       "      <td>0</td>\n",
       "      <td>0</td>\n",
       "      <td>0</td>\n",
       "    </tr>\n",
       "  </tbody>\n",
       "</table>\n",
       "<p>1053 rows × 14 columns</p>\n",
       "</div>"
      ],
      "text/plain": [
       "                                                   name  min_price  \\\n",
       "0     Pastel Art, Mint Green Wall Art, Mint Green Ar...       6.00   \n",
       "1     San Francisco Print, Golden Gate Bridge Wall A...      18.00   \n",
       "2     Set 4 Coral Prints Mist Blue/Green, Nautical p...      82.00   \n",
       "3                  Whale nursery art. Whale Rider print      20.00   \n",
       "4     Valentine's Day Copper Rose / Seventh Annivers...     160.00   \n",
       "...                                                 ...        ...   \n",
       "1048  Yellow Leopard 20oz Tumbler Sublimation Wrap,G...       4.80   \n",
       "1049  Tropical Little Thing Mini Crab, Driftwood Wal...     150.00   \n",
       "1050  Fall Pumpkin Mug Sublimation, Watercolor Flora...       2.00   \n",
       "1051          Pheasant Art Print Giclee Limited Edition      39.89   \n",
       "1052  Rabbit Print - Spring Decor, Watercolor Rabbit...      14.00   \n",
       "\n",
       "                                           size_options  Watercolor  Portrait  \\\n",
       "0                                                    []           1         0   \n",
       "1     [{\"size_options\":\"Select an option\\n          ...           0         0   \n",
       "2     [{\"size_options\":\"Select a size\\n             ...           0         0   \n",
       "3     [{\"size_options\":\"Select a size\\n             ...           0         0   \n",
       "4     [{\"size_options\":\"Select an option\\n          ...           0         0   \n",
       "...                                                 ...         ...       ...   \n",
       "1048                                                 []           0         0   \n",
       "1049                                                 []           0         0   \n",
       "1050                                                 []           1         0   \n",
       "1051                                                 []           0         0   \n",
       "1052  [{\"size_options\":\"Select a size\\n             ...           1         0   \n",
       "\n",
       "      Pet  Print  Family  Paint  Painting  Nature  Custom  Abstract  House  \n",
       "0       0      1       0      0         0       0       0         1      0  \n",
       "1       0      1       0      0         0       0       0         0      0  \n",
       "2       0      1       0      0         0       0       0         0      0  \n",
       "3       0      0       0      0         0       0       0         0      0  \n",
       "4       0      0       0      0         0       0       0         0      0  \n",
       "...   ...    ...     ...    ...       ...     ...     ...       ...    ...  \n",
       "1048    0      0       0      0         0       0       0         0      0  \n",
       "1049    0      0       0      0         0       0       0         0      1  \n",
       "1050    0      0       0      0         0       0       0         0      0  \n",
       "1051    0      1       0      0         0       0       0         0      0  \n",
       "1052    0      1       0      1         1       0       0         0      0  \n",
       "\n",
       "[1053 rows x 14 columns]"
      ]
     },
     "execution_count": 671,
     "metadata": {},
     "output_type": "execute_result"
    }
   ],
   "source": [
    "data"
   ]
  },
  {
   "cell_type": "code",
   "execution_count": 672,
   "metadata": {},
   "outputs": [],
   "source": [
    "# the regex patterns to match\n",
    "prices_pattern = re.compile('\\$(.+?)\\)')\n",
    "\n",
    "pattern_nothing = r'(\\d+)x(\\d+)'\n",
    "pattern_nothing_dec = r'(\\d+(\\.\\d+)?x\\d+(\\.\\d+)?)'\n",
    "pattern_space_nothing = r'(\\d+) x (\\d+)'\n",
    "\n",
    "pattern_space_space_inches = r'(\\d+) x (\\d+)(?= in)'\n",
    "pattern_space_inches = r'(\\d+)?x(\\d+)(?= in)'\n",
    "pattern_inches = r'(\\d+)x(\\d+)(?=in)'\n",
    "pattern_space_space_inches_dec = r'(\\d+(\\.\\d+)?) x (\\d+(\\.\\d+)?(?= in))'\n",
    "pattern_space_inches_dec = r'(\\d+(\\.\\d+)?x\\d+(\\.\\d+)?(?= in))'\n",
    "pattern_inches_dec = r'(\\d+(\\.\\d+)?x\\d+(\\.\\d+)?(?=in))'\n",
    "\n",
    "pattern_space_space_cm = r'(\\d+) x (\\d+)(?= cm)'\n",
    "pattern_space_cm = r'(\\d+)?x(\\d+)(?= cm)'\n",
    "pattern_cm = r'(\\d+)x(\\d+)(?=cm)'\n",
    "pattern_space_space_cm_dec = r'(\\d+(\\.\\d+)?) x (\\d+(\\.\\d+)?(?= cm))'\n",
    "pattern_space_cm_dec = r'(\\d+(\\.\\d+)?x\\d+(\\.\\d+)?(?= cm))'\n",
    "pattern_cm_dec = r'(\\d+(\\.\\d+)?x\\d+(\\.\\d+)?(?=cm))'\n",
    "\n",
    "weird_pattern = r'(\\d+)\\\\\" x (\\d+)\\\\\"'\n",
    "\n",
    "# initialize empty lists\n",
    "prices = []\n",
    "sizes = []\n",
    "inches = []"
   ]
  },
  {
   "cell_type": "code",
   "execution_count": 673,
   "metadata": {},
   "outputs": [],
   "source": [
    "#iterate through each listing to get a list of the size/price options\n",
    "for text in data['size_options']:\n",
    "    \n",
    "    # find all possible matches in the input string\n",
    "    nothing_matches = re.findall(pattern_nothing, text)\n",
    "    nothing_matches_dec = re.findall(pattern_nothing_dec, text)\n",
    "    sp_nothing_matches = re.findall(pattern_space_nothing, text)\n",
    "    \n",
    "    spsp_inches_matches = re.findall(pattern_space_space_inches, text)\n",
    "    sp_inches_matches = re.findall(pattern_space_inches, text)\n",
    "    inches_matches = re.findall(pattern_inches, text)\n",
    "    spsp_inches_matches_dec = re.findall(pattern_space_space_inches_dec, text)\n",
    "    sp_inches_matches_dec = re.findall(pattern_space_inches_dec, text)\n",
    "    inches_matches_dec = re.findall(pattern_inches_dec, text)\n",
    "    \n",
    "    spsp_cm_matches = re.findall(pattern_space_space_cm, text)\n",
    "    sp_cm_matches = re.findall(pattern_space_cm, text)\n",
    "    cm_matches = re.findall(pattern_cm, text)\n",
    "    spsp_cm_matches_dec = re.findall(pattern_space_space_cm_dec, text)\n",
    "    sp_cm_matches_dec = re.findall(pattern_space_cm_dec, text)\n",
    "    cm_matches_dec = re.findall(pattern_cm_dec, text)\n",
    "    \n",
    "    weird_matches = re.findall(weird_pattern, text)\n",
    "    \n",
    "    price_matches = re.findall(prices_pattern, text)\n",
    "    \n",
    "    # append current listing's list to temporary list    \n",
    "    if (not not spsp_inches_matches):\n",
    "        sizes.append(spsp_inches_matches)\n",
    "        inches.append(1)\n",
    "    elif (not not sp_inches_matches):\n",
    "        sizes.append(sp_inches_matches)\n",
    "        inches.append(1)\n",
    "    elif (not not inches_matches):\n",
    "        sizes.append(inches_matches)\n",
    "        inches.append(1)\n",
    "        \n",
    "    elif (not not spsp_inches_matches_dec):\n",
    "        sizes.append([(float(match[0]), float(match[2])) for match in spsp_inches_matches_dec])\n",
    "        inches.append(1)\n",
    "    elif (not not sp_inches_matches_dec):\n",
    "        sizes.append([(float(match[0]), float(match[2])) for match in sp_inches_matches_dec])\n",
    "        inches.append(1)\n",
    "    elif (not not inches_matches_dec):\n",
    "        sizes.append([(float(match[0]), float(match[2])) for match in inches_matches_dec])\n",
    "        inches.append(1)\n",
    "        \n",
    "        \n",
    "    elif (not not weird_matches):\n",
    "        sizes.append(weird_matches)\n",
    "        inches.append(1)\n",
    "       \n",
    "        \n",
    "    elif (not not spsp_cm_matches):\n",
    "        sizes.append(spsp_cm_matches) \n",
    "        inches.append(0)\n",
    "    elif (not not sp_cm_matches):\n",
    "        sizes.append(sp_cm_matches)\n",
    "        inches.append(0)\n",
    "    elif (not not cm_matches):\n",
    "        sizes.append(cm_matches)\n",
    "        inches.append(0)\n",
    "        \n",
    "    elif (not not spsp_cm_matches_dec):\n",
    "        sizes.append([(float(match[0]), float(match[2])) for match in spsp_cm_matches_dec])\n",
    "        inches.append(0)\n",
    "    elif (not not sp_cm_matches_dec):\n",
    "        sizes.append([(float(match[0]), float(match[2])) for match in sp_cm_matches_dec])\n",
    "        inches.append(0)\n",
    "    elif (not not cm_matches_dec):\n",
    "        sizes.append([(float(match[0]), float(match[2])) for match in cm_matches_dec])\n",
    "        inches.append(0)\n",
    "    \n",
    "    \n",
    "    elif (not not nothing_matches):\n",
    "        sizes.append(nothing_matches)\n",
    "        inches.append(1)\n",
    "    elif (not not nothing_matches_dec):\n",
    "        sizes.append([(float(match[0]), float(match[2])) for match in nothing_matches_dec])\n",
    "        inches.append(1)\n",
    "    elif (not not sp_nothing_matches):\n",
    "        sizes.append(sp_nothing_matches)\n",
    "        inches.append(1)\n",
    "        \n",
    "    else:\n",
    "        sizes.append(np.nan)\n",
    "        inches.append(np.nan)\n",
    "    \n",
    "    if (not not price_matches):\n",
    "        prices.append(price_matches)\n",
    "    else:\n",
    "        prices.append(np.nan)\n",
    "    \n",
    "# add new column on data with list of prices\n",
    "data['prices'] = prices\n",
    "data['sizes'] = sizes\n",
    "data['inches'] = inches\n",
    "\n",
    "# drop old column\n",
    "# data.drop(data['size_options'])"
   ]
  },
  {
   "cell_type": "code",
   "execution_count": 674,
   "metadata": {},
   "outputs": [
    {
     "name": "stdout",
     "output_type": "stream",
     "text": [
      "342\n"
     ]
    }
   ],
   "source": [
    "print(data['sizes'].dropna().count())"
   ]
  },
  {
   "cell_type": "code",
   "execution_count": 684,
   "metadata": {},
   "outputs": [],
   "source": [
    "data_sizes = data.dropna(subset=['sizes', 'prices'])\n",
    "data_sizes = data_sizes.reset_index(drop=False)\n",
    "# data_sizes"
   ]
  },
  {
   "cell_type": "markdown",
   "metadata": {},
   "source": [
    "## Clean prices"
   ]
  },
  {
   "cell_type": "code",
   "execution_count": 686,
   "metadata": {},
   "outputs": [
    {
     "data": {
      "text/html": [
       "<div>\n",
       "<style scoped>\n",
       "    .dataframe tbody tr th:only-of-type {\n",
       "        vertical-align: middle;\n",
       "    }\n",
       "\n",
       "    .dataframe tbody tr th {\n",
       "        vertical-align: top;\n",
       "    }\n",
       "\n",
       "    .dataframe thead th {\n",
       "        text-align: right;\n",
       "    }\n",
       "</style>\n",
       "<table border=\"1\" class=\"dataframe\">\n",
       "  <thead>\n",
       "    <tr style=\"text-align: right;\">\n",
       "      <th></th>\n",
       "      <th>index</th>\n",
       "      <th>name</th>\n",
       "      <th>min_price</th>\n",
       "      <th>size_options</th>\n",
       "      <th>Watercolor</th>\n",
       "      <th>Portrait</th>\n",
       "      <th>Pet</th>\n",
       "      <th>Print</th>\n",
       "      <th>Family</th>\n",
       "      <th>Paint</th>\n",
       "      <th>Painting</th>\n",
       "      <th>Nature</th>\n",
       "      <th>Custom</th>\n",
       "      <th>Abstract</th>\n",
       "      <th>House</th>\n",
       "      <th>prices</th>\n",
       "      <th>sizes</th>\n",
       "      <th>inches</th>\n",
       "    </tr>\n",
       "  </thead>\n",
       "  <tbody>\n",
       "    <tr>\n",
       "      <th>336</th>\n",
       "      <td>1042</td>\n",
       "      <td>Kangaroo Art Print - Rustic Australian Interio...</td>\n",
       "      <td>19.0</td>\n",
       "      <td>[{\"size_options\":\"Select a size\\n             ...</td>\n",
       "      <td>0</td>\n",
       "      <td>0</td>\n",
       "      <td>0</td>\n",
       "      <td>1</td>\n",
       "      <td>0</td>\n",
       "      <td>0</td>\n",
       "      <td>0</td>\n",
       "      <td>0</td>\n",
       "      <td>0</td>\n",
       "      <td>0</td>\n",
       "      <td>0</td>\n",
       "      <td>[19.00 - $22.00, 29.00 - $32.00, 39.00 - $42.0...</td>\n",
       "      <td>[(8, 10), (12, 16), (16, 20), (18, 24), (24, 3...</td>\n",
       "      <td>1.0</td>\n",
       "    </tr>\n",
       "  </tbody>\n",
       "</table>\n",
       "</div>"
      ],
      "text/plain": [
       "     index                                               name  min_price  \\\n",
       "336   1042  Kangaroo Art Print - Rustic Australian Interio...       19.0   \n",
       "\n",
       "                                          size_options  Watercolor  Portrait  \\\n",
       "336  [{\"size_options\":\"Select a size\\n             ...           0         0   \n",
       "\n",
       "     Pet  Print  Family  Paint  Painting  Nature  Custom  Abstract  House  \\\n",
       "336    0      1       0      0         0       0       0         0      0   \n",
       "\n",
       "                                                prices  \\\n",
       "336  [19.00 - $22.00, 29.00 - $32.00, 39.00 - $42.0...   \n",
       "\n",
       "                                                 sizes  inches  \n",
       "336  [(8, 10), (12, 16), (16, 20), (18, 24), (24, 3...     1.0  "
      ]
     },
     "execution_count": 686,
     "metadata": {},
     "output_type": "execute_result"
    }
   ],
   "source": [
    "data_sizes.loc[data_sizes['index'] == 1042]"
   ]
  },
  {
   "cell_type": "code",
   "execution_count": 692,
   "metadata": {},
   "outputs": [
    {
     "data": {
      "text/plain": [
       "'[{\"size_options\":\"Select a size\\\\n                \\\\n                \\\\n                        5x7\\\\\" ($12.13)\\\\n                \\\\n                \\\\n                        A5 ($12.13)\\\\n                \\\\n                \\\\n                        8x10\\\\\" ($24.25)\\\\n                \\\\n                \\\\n                        A4 ($24.25)\\\\n                \\\\n                \\\\n                        11x14\\\\\" ($48.50)\\\\n                \\\\n                \\\\n                        A3 ($48.50)\"}]'"
      ]
     },
     "execution_count": 692,
     "metadata": {},
     "output_type": "execute_result"
    }
   ],
   "source": [
    "data_sizes.iloc[237]['size_options']"
   ]
  },
  {
   "cell_type": "code",
   "execution_count": 694,
   "metadata": {},
   "outputs": [
    {
     "data": {
      "text/plain": [
       "['18.00',\n",
       " '36.00',\n",
       " '56.00',\n",
       " '71.00',\n",
       " '102.00',\n",
       " '128.00',\n",
       " '138.00',\n",
       " '153.00',\n",
       " '163.00']"
      ]
     },
     "execution_count": 694,
     "metadata": {},
     "output_type": "execute_result"
    }
   ],
   "source": [
    "data_sizes['prices'].iloc[0]"
   ]
  },
  {
   "cell_type": "code",
   "execution_count": 723,
   "metadata": {},
   "outputs": [],
   "source": [
    "# get rid of commas and ranges in prices, and convert to floats\n",
    "price_list = []\n",
    "for i in range(len(data_sizes)):\n",
    "    # get rid of ranged prices\n",
    "    temp_prices = []\n",
    "    for j in range(len(data_sizes['prices'].iloc[i])):\n",
    "        if ('-' in data_sizes['prices'].iloc[i][j]):\n",
    "            temp_prices.append(data_sizes['prices'].iloc[i][j].split()[0])\n",
    "        else:\n",
    "            temp_prices.append(data_sizes['prices'].iloc[i][j])\n",
    "    price_list.append(temp_prices)\n",
    "        \n",
    "    # get rid of commas in prices\n",
    "    for j in range(len(price_list[i])):\n",
    "        if (',' in price_list[i][j]):\n",
    "            price_list[i][j] = price_list[i][j].replace(',', '')\n",
    "        \n",
    "# convert to floats\n",
    "price_list_float = []\n",
    "\n",
    "for ilist in price_list:\n",
    "    temp_list = []\n",
    "    if type(ilist) is list:\n",
    "        for string in ilist:\n",
    "            temp_list.append(float(string))\n",
    "    else:\n",
    "        temp_list.append(float(ilist))\n",
    "    price_list_float.append(temp_list)\n",
    "    \n",
    "# print(price_list_float)\n",
    "data_sizes['prices'] = price_list_float"
   ]
  },
  {
   "cell_type": "markdown",
   "metadata": {},
   "source": [
    "## Create new features"
   ]
  },
  {
   "cell_type": "code",
   "execution_count": 725,
   "metadata": {},
   "outputs": [],
   "source": [
    "# convert cm to inches\n",
    "cm_to_inch_conv = 2.54\n",
    "sizes_list = []\n",
    "for i in range(len(data_sizes)):\n",
    "    # if the size is currently in cm\n",
    "    if (data_sizes['inches'].iloc[i] == 0):\n",
    "        temp_sizes = []\n",
    "        for j in range(len(data_sizes['sizes'].iloc[i])):\n",
    "            width_in = float(data_sizes['sizes'].iloc[i][j][0]) / cm_to_inch_conv\n",
    "            height_in = float(data_sizes['sizes'].iloc[i][j][1]) / cm_to_inch_conv\n",
    "            temp_sizes.append((width_in, height_in))\n",
    "        sizes_list.append(temp_sizes)\n",
    "            \n",
    "    else:\n",
    "        sizes_list.append(data_sizes['sizes'].iloc[i])\n",
    "# sizes_list\n",
    "data_sizes['sizes_in'] = sizes_list"
   ]
  },
  {
   "cell_type": "code",
   "execution_count": 726,
   "metadata": {},
   "outputs": [
    {
     "data": {
      "text/plain": [
       "0      [18.0, 36.0, 56.0, 71.0, 102.0, 128.0, 138.0, ...\n",
       "1      [82.0, 128.0, 178.0, 336.0, 448.0, 564.0, 628....\n",
       "2                                     [40.0, 30.0, 20.0]\n",
       "3                          [33.23, 44.68, 91.66, 126.03]\n",
       "4      [38.25, 52.7, 52.7, 57.8, 57.8, 68.85, 68.85, ...\n",
       "                             ...                        \n",
       "335       [13.6, 25.5, 42.5, 51.0, 76.5, 114.75, 148.75]\n",
       "336           [19.0, 29.0, 39.0, 49.0, 59.0, 59.0, 69.0]\n",
       "337           [49.5, 64.8, 79.2, 81.0, 49.5, 64.8, 81.0]\n",
       "338                                  [48.0, 125.0, 22.0]\n",
       "339                                   [14.0, 19.0, 24.0]\n",
       "Name: prices, Length: 340, dtype: object"
      ]
     },
     "execution_count": 726,
     "metadata": {},
     "output_type": "execute_result"
    }
   ],
   "source": [
    "data_sizes['prices']"
   ]
  },
  {
   "cell_type": "code",
   "execution_count": 727,
   "metadata": {},
   "outputs": [],
   "source": [
    "# create area lists\n",
    "areas_list = []\n",
    "for i in range(len(data_sizes)):\n",
    "    \n",
    "    temp_areas = []\n",
    "    for j in range(len(data_sizes['sizes_in'].iloc[i])):\n",
    "        width_in = float(data_sizes['sizes_in'].iloc[i][j][0])\n",
    "        height_in = float(data_sizes['sizes_in'].iloc[i][j][1])\n",
    "        temp_areas.append(width_in * height_in)\n",
    "    areas_list.append(temp_areas)\n",
    "    \n",
    "data_sizes['areas'] = areas_list\n",
    "    "
   ]
  },
  {
   "cell_type": "code",
   "execution_count": 728,
   "metadata": {},
   "outputs": [
    {
     "data": {
      "text/plain": [
       "0      [35.0, 80.0, 154.0, 192.0, 320.0, 480.0, 600.0...\n",
       "1      [35.0, 80.0, 154.0, 320.0, 432.0, 864.0, 320.0...\n",
       "2                                    [154.0, 80.0, 35.0]\n",
       "3      [223.2004464008928, 542.50108500217, 1085.0021...\n",
       "4      [35.0, 80.0, 88.0, 154.0, 176.0, 192.0, 216.0,...\n",
       "                             ...                        \n",
       "335      [35.0, 80.0, 154.0, 192.0, 320.0, 480.0, 720.0]\n",
       "336    [80.0, 192.0, 320.0, 432.0, 768.0, 864.0, 1200.0]\n",
       "337                           [35.0, 80.0, 154.0, 192.0]\n",
       "338                                       [216.0, 600.0]\n",
       "339                                  [35.0, 80.0, 154.0]\n",
       "Name: areas, Length: 340, dtype: object"
      ]
     },
     "execution_count": 728,
     "metadata": {},
     "output_type": "execute_result"
    }
   ],
   "source": [
    "data_sizes['areas']"
   ]
  },
  {
   "cell_type": "code",
   "execution_count": 751,
   "metadata": {},
   "outputs": [
    {
     "data": {
      "text/plain": [
       "'[{\"size_options\":\"Select an option\\\\n                \\\\n                \\\\n                        Size 21x29.7cm ($33.23)\\\\n                \\\\n                \\\\n                        Size 32x45cm ($44.68)\\\\n                \\\\n                \\\\n                        Size 50x70cm ($91.66)\\\\n                \\\\n                \\\\n                        Size 70x100cm ($126.03)\"}]'"
      ]
     },
     "execution_count": 751,
     "metadata": {},
     "output_type": "execute_result"
    }
   ],
   "source": [
    "data_sizes['size_options'][3]"
   ]
  },
  {
   "cell_type": "code",
   "execution_count": 752,
   "metadata": {},
   "outputs": [
    {
     "data": {
      "text/plain": [
       "[223.2004464008928, 542.50108500217, 1085.00217000434]"
      ]
     },
     "execution_count": 752,
     "metadata": {},
     "output_type": "execute_result"
    }
   ],
   "source": [
    "data_sizes['areas'][3]"
   ]
  },
  {
   "cell_type": "code",
   "execution_count": 753,
   "metadata": {},
   "outputs": [],
   "source": [
    "# calculate price per square inch (ppsi)\n",
    "ppsi_list = []\n",
    "for i in range(len(data_sizes)):\n",
    "    \n",
    "    temp_ppsis = []\n",
    "    \n",
    "    if (len(data_sizes['prices'][i]) == len(data_sizes['areas'][i])):\n",
    "        \n",
    "        for j in range(len(data_sizes['prices'].iloc[i])):\n",
    "            temp_ppsis.append(data_sizes['prices'].iloc[i][j] / data_sizes['areas'].iloc[i][j])\n",
    "            \n",
    "        ppsi_list.append(temp_ppsis)\n",
    "        \n",
    "    else:\n",
    "        ppsi_list.append(np.nan)\n",
    "    \n",
    "data_sizes['ppsi'] = ppsi_list"
   ]
  },
  {
   "cell_type": "code",
   "execution_count": 761,
   "metadata": {},
   "outputs": [
    {
     "data": {
      "text/plain": [
       "[2.342857142857143,\n",
       " 1.6,\n",
       " 1.155844155844156,\n",
       " 1.05,\n",
       " 1.037037037037037,\n",
       " 0.6527777777777778,\n",
       " 1.9625,\n",
       " 1.9625,\n",
       " 3.038961038961039,\n",
       " 1.4537037037037037,\n",
       " 0.9321428571428572]"
      ]
     },
     "execution_count": 761,
     "metadata": {},
     "output_type": "execute_result"
    }
   ],
   "source": [
    "data_sizes['ppsi'][1]"
   ]
  },
  {
   "cell_type": "code",
   "execution_count": 763,
   "metadata": {},
   "outputs": [
    {
     "data": {
      "text/plain": [
       "[('5', '7'),\n",
       " ('8', '10'),\n",
       " ('14', '11'),\n",
       " ('16', '20'),\n",
       " ('18', '24'),\n",
       " ('24', '36'),\n",
       " ('16', '20'),\n",
       " ('16', '20'),\n",
       " ('11', '14'),\n",
       " ('18', '24'),\n",
       " ('28', '40')]"
      ]
     },
     "execution_count": 763,
     "metadata": {},
     "output_type": "execute_result"
    }
   ],
   "source": [
    "data_sizes['sizes'].iloc[1]"
   ]
  },
  {
   "cell_type": "markdown",
   "metadata": {},
   "source": [
    "# Data Exploration"
   ]
  },
  {
   "cell_type": "code",
   "execution_count": null,
   "metadata": {},
   "outputs": [],
   "source": [
    "# sns.heatmap(data_num_int.corr())"
   ]
  },
  {
   "cell_type": "code",
   "execution_count": null,
   "metadata": {},
   "outputs": [
    {
     "data": {
      "text/plain": [
       "(array([1.037e+03, 2.300e+01, 1.100e+01, 1.100e+01, 5.000e+00, 1.000e+00,\n",
       "        1.000e+00, 0.000e+00, 2.000e+00, 2.000e+01]),\n",
       " array([1.800000e-01, 1.801620e+02, 3.601440e+02, 5.401260e+02,\n",
       "        7.201080e+02, 9.000900e+02, 1.080072e+03, 1.260054e+03,\n",
       "        1.440036e+03, 1.620018e+03, 1.800000e+03]),\n",
       " <BarContainer object of 10 artists>)"
      ]
     },
     "execution_count": 24,
     "metadata": {},
     "output_type": "execute_result"
    },
    {
     "data": {
      "image/png": "[encoded data removed]",
      "text/plain": [
       "<Figure size 640x480 with 1 Axes>"
      ]
     },
     "metadata": {},
     "output_type": "display_data"
    }
   ],
   "source": [
    "plt.hist(data['price'])"
   ]
  },
  {
   "cell_type": "code",
   "execution_count": null,
   "metadata": {},
   "outputs": [],
   "source": [
    "data_cheap = data.where(data['price'] < 200).dropna()\n",
    "data_expensive = data.where(data['price'] > 200).dropna()"
   ]
  },
  {
   "cell_type": "code",
   "execution_count": null,
   "metadata": {},
   "outputs": [
    {
     "data": {
      "text/plain": [
       "(array([526., 309.,  99.,  36.,  24.,  18.,   7.,  11.,   4.,   7.]),\n",
       " array([1.80000e-01, 2.01170e+01, 4.00540e+01, 5.99910e+01, 7.99280e+01,\n",
       "        9.98650e+01, 1.19802e+02, 1.39739e+02, 1.59676e+02, 1.79613e+02,\n",
       "        1.99550e+02]),\n",
       " <BarContainer object of 10 artists>)"
      ]
     },
     "execution_count": 26,
     "metadata": {},
     "output_type": "execute_result"
    },
    {
     "data": {
      "image/png": "[encoded data removed]",
      "text/plain": [
       "<Figure size 640x480 with 1 Axes>"
      ]
     },
     "metadata": {},
     "output_type": "display_data"
    }
   ],
   "source": [
    "plt.hist(data_cheap['price'])"
   ]
  },
  {
   "cell_type": "code",
   "execution_count": null,
   "metadata": {},
   "outputs": [
    {
     "data": {
      "text/plain": [
       "(array([18., 11.,  8.,  8.,  1.,  0.,  1.,  0.,  2., 20.]),\n",
       " array([ 210.,  369.,  528.,  687.,  846., 1005., 1164., 1323., 1482.,\n",
       "        1641., 1800.]),\n",
       " <BarContainer object of 10 artists>)"
      ]
     },
     "execution_count": 27,
     "metadata": {},
     "output_type": "execute_result"
    },
    {
     "data": {
      "image/png": "[encoded data removed]",
      "text/plain": [
       "<Figure size 640x480 with 1 Axes>"
      ]
     },
     "metadata": {},
     "output_type": "display_data"
    }
   ],
   "source": [
    "plt.hist(data_expensive['price'])"
   ]
  },
  {
   "cell_type": "markdown",
   "metadata": {},
   "source": [
    "## Histograms of individual categories"
   ]
  },
  {
   "cell_type": "code",
   "execution_count": null,
   "metadata": {},
   "outputs": [
    {
     "data": {
      "text/plain": [
       "(array([2., 0., 0., 1., 2., 1., 1., 1., 1., 1.]),\n",
       " array([ 6.75 , 11.575, 16.4  , 21.225, 26.05 , 30.875, 35.7  , 40.525,\n",
       "        45.35 , 50.175, 55.   ]),\n",
       " <BarContainer object of 10 artists>)"
      ]
     },
     "execution_count": 41,
     "metadata": {},
     "output_type": "execute_result"
    },
    {
     "data": {
      "image/png": "[encoded data removed]",
      "text/plain": [
       "<Figure size 640x480 with 1 Axes>"
      ]
     },
     "metadata": {},
     "output_type": "display_data"
    }
   ],
   "source": [
    "plt.hist(data.where(data['Pet'] == 1).dropna()['price'].astype(float))"
   ]
  },
  {
   "cell_type": "code",
   "execution_count": null,
   "metadata": {},
   "outputs": [
    {
     "data": {
      "text/plain": [
       "(array([44., 30.,  5.,  2.,  1.,  0.,  3.,  2.,  0.,  2.]),\n",
       " array([  2. ,  17.1,  32.2,  47.3,  62.4,  77.5,  92.6, 107.7, 122.8,\n",
       "        137.9, 153. ]),\n",
       " <BarContainer object of 10 artists>)"
      ]
     },
     "execution_count": 42,
     "metadata": {},
     "output_type": "execute_result"
    },
    {
     "data": {
      "image/png": "[encoded data removed]",
      "text/plain": [
       "<Figure size 640x480 with 1 Axes>"
      ]
     },
     "metadata": {},
     "output_type": "display_data"
    }
   ],
   "source": [
    "plt.hist(data.where(data['Watercolor'] == 1).dropna()['price'].astype(float))"
   ]
  },
  {
   "cell_type": "code",
   "execution_count": null,
   "metadata": {},
   "outputs": [
    {
     "data": {
      "text/plain": [
       "(array([55.,  9.,  3.,  0.,  1.,  1.,  2.,  2.,  1.,  2.]),\n",
       " array([  3.54 ,  73.186, 142.832, 212.478, 282.124, 351.77 , 421.416,\n",
       "        491.062, 560.708, 630.354, 700.   ]),\n",
       " <BarContainer object of 10 artists>)"
      ]
     },
     "execution_count": 43,
     "metadata": {},
     "output_type": "execute_result"
    },
    {
     "data": {
      "image/png": "[encoded data removed]",
      "text/plain": [
       "<Figure size 640x480 with 1 Axes>"
      ]
     },
     "metadata": {},
     "output_type": "display_data"
    }
   ],
   "source": [
    "plt.hist(data.where(data['Paint'] == 1).dropna()['price'].astype(float))"
   ]
  },
  {
   "cell_type": "code",
   "execution_count": null,
   "metadata": {},
   "outputs": [
    {
     "data": {
      "text/plain": [
       "(array([10.,  1.,  3.,  9.,  1.,  1.,  0.,  0.,  0.,  2.]),\n",
       " array([ 4.08 ,  7.672, 11.264, 14.856, 18.448, 22.04 , 25.632, 29.224,\n",
       "        32.816, 36.408, 40.   ]),\n",
       " <BarContainer object of 10 artists>)"
      ]
     },
     "execution_count": 45,
     "metadata": {},
     "output_type": "execute_result"
    },
    {
     "data": {
      "image/png": "[encoded data removed]",
      "text/plain": [
       "<Figure size 640x480 with 1 Axes>"
      ]
     },
     "metadata": {},
     "output_type": "display_data"
    }
   ],
   "source": [
    "plt.hist(data.where(data['Nature'] == 1).dropna()['price'].astype(float))"
   ]
  },
  {
   "cell_type": "markdown",
   "metadata": {},
   "source": [
    "## Cheap categories"
   ]
  },
  {
   "cell_type": "code",
   "execution_count": null,
   "metadata": {},
   "outputs": [
    {
     "data": {
      "text/plain": [
       "Text(0, 0.5, 'Average Price')"
      ]
     },
     "execution_count": 28,
     "metadata": {},
     "output_type": "execute_result"
    },
    {
     "data": {
      "image/png": "[encoded data removed]",
      "text/plain": [
       "<Figure size 640x480 with 1 Axes>"
      ]
     },
     "metadata": {},
     "output_type": "display_data"
    }
   ],
   "source": [
    "avg_price_pet = np.mean(data_cheap.where(data_cheap['Pet'] == 1).dropna()['price'].astype(float))\n",
    "avg_price_no_pet = np.mean(data_cheap.where(data_cheap['Pet'] == 0).dropna()['price'].astype(float))\n",
    "plt.bar(x=['No pet', 'Pet'], height=[avg_price_no_pet, avg_price_pet], color = 'orangered')\n",
    "plt.ylabel('Average Price')"
   ]
  },
  {
   "cell_type": "code",
   "execution_count": null,
   "metadata": {},
   "outputs": [
    {
     "data": {
      "text/plain": [
       "Text(0, 0.5, 'Average Price')"
      ]
     },
     "execution_count": 29,
     "metadata": {},
     "output_type": "execute_result"
    },
    {
     "data": {
      "image/png": "[encoded data removed]",
      "text/plain": [
       "<Figure size 640x480 with 1 Axes>"
      ]
     },
     "metadata": {},
     "output_type": "display_data"
    }
   ],
   "source": [
    "avg_price_watercolor = np.mean(data_cheap.where(data_cheap['Watercolor'] == 1).dropna()['price'].astype(float))\n",
    "avg_price_painting = np.mean(data_cheap.where((data_cheap['Paint'] == 1) | (data_cheap['Painting'] == 1)).dropna()['price'].astype(float))\n",
    "avg_price_print = np.mean(data_cheap.where(data_cheap['Print'] == 1).dropna()['price'].astype(float))\n",
    "plt.bar(x=['Watercolor', 'Painting', 'Print'], height=[avg_price_watercolor, avg_price_painting, avg_price_print], color = 'orangered')\n",
    "plt.ylabel('Average Price')"
   ]
  },
  {
   "cell_type": "code",
   "execution_count": null,
   "metadata": {},
   "outputs": [
    {
     "data": {
      "text/plain": [
       "Text(0, 0.5, 'Average Price')"
      ]
     },
     "execution_count": 38,
     "metadata": {},
     "output_type": "execute_result"
    },
    {
     "data": {
      "image/png": "[encoded data removed]",
      "text/plain": [
       "<Figure size 640x480 with 1 Axes>"
      ]
     },
     "metadata": {},
     "output_type": "display_data"
    }
   ],
   "source": [
    "avg_price_portrait = np.mean(data_cheap.where(data_cheap['Portrait'] == 1).dropna()['price'].astype(float))\n",
    "avg_price_no_portrait = np.mean(data_cheap.where(data_cheap['Portrait'] == 0).dropna()['price'].astype(float))\n",
    "plt.bar(x=['No portrait', 'Portrait'], height=[avg_price_no_portrait, avg_price_portrait], color = 'orangered')\n",
    "plt.ylabel('Average Price')"
   ]
  },
  {
   "cell_type": "code",
   "execution_count": null,
   "metadata": {},
   "outputs": [
    {
     "data": {
      "text/plain": [
       "Text(0, 0.5, 'Average Price')"
      ]
     },
     "execution_count": 31,
     "metadata": {},
     "output_type": "execute_result"
    },
    {
     "data": {
      "image/png": "[encoded data removed]",
      "text/plain": [
       "<Figure size 640x480 with 1 Axes>"
      ]
     },
     "metadata": {},
     "output_type": "display_data"
    }
   ],
   "source": [
    "avg_price_family = np.mean(data_cheap.where(data_cheap['Family'] == 1).dropna()['price'].astype(float))\n",
    "avg_price_no_family = np.mean(data_cheap.where(data_cheap['Family'] == 0).dropna()['price'].astype(float))\n",
    "plt.bar(x=['No family', 'Family'], height=[avg_price_no_family, avg_price_family], color = 'orangered')\n",
    "plt.ylabel('Average Price')"
   ]
  },
  {
   "cell_type": "code",
   "execution_count": null,
   "metadata": {},
   "outputs": [
    {
     "data": {
      "text/plain": [
       "Text(0, 0.5, 'Average Price')"
      ]
     },
     "execution_count": 76,
     "metadata": {},
     "output_type": "execute_result"
    },
    {
     "data": {
      "image/png": "[encoded data removed]",
      "text/plain": [
       "<Figure size 640x480 with 1 Axes>"
      ]
     },
     "metadata": {},
     "output_type": "display_data"
    }
   ],
   "source": [
    "avg_price = np.mean(data_cheap.where(data_cheap['Custom'] == 1).dropna()['price'].astype(float))\n",
    "avg_price_no = np.mean(data_cheap.where(data_cheap['Custom'] == 0).dropna()['price'].astype(float))\n",
    "plt.bar(x=['No Custom', 'Custom'], height=[avg_price_no, avg_price], color = 'orangered')\n",
    "plt.ylabel('Average Price')"
   ]
  },
  {
   "cell_type": "code",
   "execution_count": null,
   "metadata": {},
   "outputs": [
    {
     "data": {
      "text/plain": [
       "Text(0, 0.5, 'Average Price')"
      ]
     },
     "execution_count": 74,
     "metadata": {},
     "output_type": "execute_result"
    },
    {
     "data": {
      "image/png": "[encoded data removed]",
      "text/plain": [
       "<Figure size 640x480 with 1 Axes>"
      ]
     },
     "metadata": {},
     "output_type": "display_data"
    }
   ],
   "source": [
    "avg_price = np.mean(data_cheap.where(data_cheap['Abstract'] == 1).dropna()['price'].astype(float))\n",
    "avg_price_no = np.mean(data_cheap.where(data_cheap['Abstract'] == 0).dropna()['price'].astype(float))\n",
    "plt.bar(x=['No Abstract', 'Abstract'], height=[avg_price_no, avg_price], color = 'orangered')\n",
    "plt.ylabel('Average Price')"
   ]
  },
  {
   "cell_type": "code",
   "execution_count": null,
   "metadata": {},
   "outputs": [
    {
     "data": {
      "text/plain": [
       "Text(0, 0.5, 'Average Price')"
      ]
     },
     "execution_count": 75,
     "metadata": {},
     "output_type": "execute_result"
    },
    {
     "data": {
      "image/png": "[encoded data removed]",
      "text/plain": [
       "<Figure size 640x480 with 1 Axes>"
      ]
     },
     "metadata": {},
     "output_type": "display_data"
    }
   ],
   "source": [
    "avg_price = np.mean(data_cheap.where(data_cheap['House'] == 1).dropna()['price'].astype(float))\n",
    "avg_price_no = np.mean(data_cheap.where(data_cheap['House'] == 0).dropna()['price'].astype(float))\n",
    "plt.bar(x=['No House', 'House'], height=[avg_price_no, avg_price], color = 'orangered')\n",
    "plt.ylabel('Average Price')"
   ]
  },
  {
   "cell_type": "markdown",
   "metadata": {},
   "source": [
    "## All cheap categories"
   ]
  },
  {
   "cell_type": "code",
   "execution_count": null,
   "metadata": {},
   "outputs": [
    {
     "data": {
      "text/plain": [
       "Text(0, 0.5, 'Average Price')"
      ]
     },
     "execution_count": 78,
     "metadata": {},
     "output_type": "execute_result"
    },
    {
     "data": {
      "image/png": "[encoded data removed]",
      "text/plain": [
       "<Figure size 1400x400 with 1 Axes>"
      ]
     },
     "metadata": {},
     "output_type": "display_data"
    }
   ],
   "source": [
    "plt.figure(figsize=(14, 4))\n",
    "avg_price_pet = np.mean(data_cheap.where(data_cheap['Pet'] == 1).dropna()['price'].astype(float))\n",
    "avg_price_no_pet = np.mean(data_cheap.where(data_cheap['Pet'] == 0).dropna()['price'].astype(float))\n",
    "plt.bar(x=['No pet', 'Pet'], height=[avg_price_no_pet, avg_price_pet], color = 'orangered')\n",
    "plt.ylabel('Average Price')\n",
    "\n",
    "avg_price_watercolor = np.mean(data_cheap.where(data_cheap['Watercolor'] == 1).dropna()['price'].astype(float))\n",
    "avg_price_painting = np.mean(data_cheap.where((data_cheap['Paint'] == 1) | (data_cheap['Painting'] == 1)).dropna()['price'].astype(float))\n",
    "avg_price_print = np.mean(data_cheap.where(data_cheap['Print'] == 1).dropna()['price'].astype(float))\n",
    "plt.bar(x=['Watercolor', 'Painting', 'Print'], height=[avg_price_watercolor, avg_price_painting, avg_price_print], color = 'orangered')\n",
    "plt.ylabel('Average Price')\n",
    "\n",
    "avg_price_portrait = np.mean(data_cheap.where(data_cheap['Portrait'] == 1).dropna()['price'].astype(float))\n",
    "avg_price_no_portrait = np.mean(data_cheap.where(data_cheap['Portrait'] == 0).dropna()['price'].astype(float))\n",
    "plt.bar(x=['No portrait', 'Portrait'], height=[avg_price_no_portrait, avg_price_portrait], color = 'orangered')\n",
    "plt.ylabel('Average Price')\n",
    "\n",
    "avg_price = np.mean(data_cheap.where(data_cheap['Custom'] == 1).dropna()['price'].astype(float))\n",
    "avg_price_no = np.mean(data_cheap.where(data_cheap['Custom'] == 0).dropna()['price'].astype(float))\n",
    "plt.bar(x=['No Custom', 'Custom'], height=[avg_price_no, avg_price], color = 'orangered')\n",
    "plt.ylabel('Average Price')\n",
    "\n",
    "avg_price = np.mean(data_cheap.where(data_cheap['House'] == 1).dropna()['price'].astype(float))\n",
    "avg_price_no = np.mean(data_cheap.where(data_cheap['House'] == 0).dropna()['price'].astype(float))\n",
    "plt.bar(x=['No House', 'House'], height=[avg_price_no, avg_price], color = 'orangered')\n",
    "plt.ylabel('Average Price')"
   ]
  },
  {
   "cell_type": "markdown",
   "metadata": {},
   "source": [
    "## Expensive listings exploration"
   ]
  },
  {
   "cell_type": "code",
   "execution_count": null,
   "metadata": {},
   "outputs": [
    {
     "data": {
      "text/plain": [
       "Text(0, 0.5, 'Average Price')"
      ]
     },
     "execution_count": 34,
     "metadata": {},
     "output_type": "execute_result"
    },
    {
     "data": {
      "image/png": "[encoded data removed]",
      "text/plain": [
       "<Figure size 640x480 with 1 Axes>"
      ]
     },
     "metadata": {},
     "output_type": "display_data"
    }
   ],
   "source": [
    "# avg_price_watercolor = np.mean(data_expensive.where(data_expensive['Watercolor'] == 1).dropna()['price'].astype(float))\n",
    "avg_price_painting = np.mean(data_expensive.where((data_expensive['Paint'] == 1) | (data_expensive['Painting'] == 1)).dropna()['price'].astype(float))\n",
    "avg_price_print = np.mean(data_expensive.where(data_expensive['Print'] == 1).dropna()['price'].astype(float))\n",
    "plt.bar(x=['Painting', 'Print'], height=[avg_price_painting, avg_price_print], color = 'orangered')\n",
    "plt.ylabel('Average Price')"
   ]
  },
  {
   "cell_type": "code",
   "execution_count": null,
   "metadata": {},
   "outputs": [
    {
     "data": {
      "text/plain": [
       "39      225.00\n",
       "43      313.65\n",
       "68      390.22\n",
       "192     500.00\n",
       "200     558.84\n",
       "         ...  \n",
       "970     441.15\n",
       "1031    300.00\n",
       "1045    435.00\n",
       "1050    964.10\n",
       "1064    325.00\n",
       "Name: price, Length: 65, dtype: float64"
      ]
     },
     "execution_count": 37,
     "metadata": {},
     "output_type": "execute_result"
    }
   ],
   "source": [
    "data_expensive.where(data_expensive['Portrait'] == 0).dropna()['price'].astype(float)"
   ]
  },
  {
   "cell_type": "code",
   "execution_count": null,
   "metadata": {},
   "outputs": [
    {
     "data": {
      "text/plain": [
       "Text(0, 0.5, 'Average Price')"
      ]
     },
     "execution_count": 39,
     "metadata": {},
     "output_type": "execute_result"
    },
    {
     "data": {
      "image/png": "[encoded data removed]",
      "text/plain": [
       "<Figure size 640x480 with 1 Axes>"
      ]
     },
     "metadata": {},
     "output_type": "display_data"
    }
   ],
   "source": [
    "avg_price_portrait = np.mean(data_expensive.where(data_expensive['Portrait'] == 1).dropna()['price'].astype(float))\n",
    "avg_price_no_portrait = np.mean(data_expensive.where(data_expensive['Portrait'] == 0).dropna()['price'].astype(float))\n",
    "plt.bar(x=['No portrait', 'Portrait'], height=[avg_price_no_portrait, avg_price_portrait], color = 'orangered')\n",
    "plt.ylabel('Average Price')"
   ]
  },
  {
   "cell_type": "code",
   "execution_count": null,
   "metadata": {},
   "outputs": [
    {
     "data": {
      "text/plain": [
       "Text(0, 0.5, 'Average Price')"
      ]
     },
     "execution_count": 85,
     "metadata": {},
     "output_type": "execute_result"
    },
    {
     "data": {
      "image/png": "[encoded data removed]",
      "text/plain": [
       "<Figure size 1400x400 with 1 Axes>"
      ]
     },
     "metadata": {},
     "output_type": "display_data"
    }
   ],
   "source": [
    "plt.figure(figsize=(14, 4))\n",
    "avg_price_pet = np.mean(data_expensive.where(data_expensive['Pet'] == 1).dropna()['price'].astype(float))\n",
    "# avg_price_no_pet = np.mean(data_expensive.where(data_expensive['Pet'] == 0).dropna()['price'].astype(float))\n",
    "plt.bar(x=['Pet'], height=[avg_price_pet], color = 'orangered')\n",
    "\n",
    "avg_price_watercolor = np.mean(data_expensive.where(data_expensive['Watercolor'] == 1).dropna()['price'].astype(float))\n",
    "avg_price_painting = np.mean(data_expensive.where((data_expensive['Paint'] == 1) | (data_expensive['Painting'] == 1)).dropna()['price'].astype(float))\n",
    "avg_price_print = np.mean(data_expensive.where(data_expensive['Print'] == 1).dropna()['price'].astype(float))\n",
    "plt.bar(x=['Watercolor', 'Painting', 'Print'], height=[avg_price_watercolor, avg_price_painting, avg_price_print], color = 'orangered')\n",
    "\n",
    "avg_price_portrait = np.mean(data_expensive.where(data_expensive['Portrait'] == 1).dropna()['price'].astype(float))\n",
    "# avg_price_no_portrait = np.mean(data_expensive.where(data_expensive['Portrait'] == 0).dropna()['price'].astype(float))\n",
    "plt.bar(x=['Portrait'], height=[avg_price_portrait], color = 'orangered')\n",
    "\n",
    "avg_price = np.mean(data_expensive.where(data_expensive['Custom'] == 1).dropna()['price'].astype(float))\n",
    "# avg_price_no = np.mean(data_expensive.where(data_expensive['Custom'] == 0).dropna()['price'].astype(float))\n",
    "plt.bar(x=['Custom'], height=[avg_price], color = 'orangered')\n",
    "\n",
    "avg_price = np.mean(data_expensive.where(data_expensive['House'] == 1).dropna()['price'].astype(float))\n",
    "# avg_price_no = np.mean(data_expensive.where(data_expensive['House'] == 0).dropna()['price'].astype(float))\n",
    "plt.bar(x=['House'], height=[avg_price], color = 'orangered')\n",
    "\n",
    "avg_price = np.mean(data_expensive.where(data_expensive['Abstract'] == 1).dropna()['price'].astype(float))\n",
    "plt.bar(x=['Abstract'], height=[avg_price], color = 'orangered')\n",
    "avg_price = np.mean(data_expensive.where(data_expensive['Family'] == 1).dropna()['price'].astype(float))\n",
    "plt.bar(x=['Family'], height=[avg_price], color = 'orangered')\n",
    "avg_price = np.mean(data_expensive.where(data_expensive['Nature'] == 1).dropna()['price'].astype(float))\n",
    "plt.bar(x=['Nature'], height=[avg_price], color = 'orangered')\n",
    "\n",
    "plt.ylabel('Average Price')"
   ]
  },
  {
   "cell_type": "code",
   "execution_count": null,
   "metadata": {},
   "outputs": [
    {
     "data": {
      "text/html": [
       "<div>\n",
       "<style scoped>\n",
       "    .dataframe tbody tr th:only-of-type {\n",
       "        vertical-align: middle;\n",
       "    }\n",
       "\n",
       "    .dataframe tbody tr th {\n",
       "        vertical-align: top;\n",
       "    }\n",
       "\n",
       "    .dataframe thead th {\n",
       "        text-align: right;\n",
       "    }\n",
       "</style>\n",
       "<table border=\"1\" class=\"dataframe\">\n",
       "  <thead>\n",
       "    <tr style=\"text-align: right;\">\n",
       "      <th></th>\n",
       "      <th>name</th>\n",
       "      <th>price</th>\n",
       "      <th>size_options</th>\n",
       "      <th>Watercolor</th>\n",
       "      <th>Portrait</th>\n",
       "      <th>Pet</th>\n",
       "      <th>Print</th>\n",
       "      <th>Family</th>\n",
       "      <th>Paint</th>\n",
       "      <th>Painting</th>\n",
       "      <th>Nature</th>\n",
       "      <th>Custom</th>\n",
       "      <th>Abstract</th>\n",
       "      <th>House</th>\n",
       "    </tr>\n",
       "  </thead>\n",
       "  <tbody>\n",
       "    <tr>\n",
       "      <th>20</th>\n",
       "      <td>Custom Pastel Portrait Painting of Child from ...</td>\n",
       "      <td>650.00</td>\n",
       "      <td>[]</td>\n",
       "      <td>0.0</td>\n",
       "      <td>1.0</td>\n",
       "      <td>0.0</td>\n",
       "      <td>0.0</td>\n",
       "      <td>0.0</td>\n",
       "      <td>1.0</td>\n",
       "      <td>1.0</td>\n",
       "      <td>0.0</td>\n",
       "      <td>1.0</td>\n",
       "      <td>0.0</td>\n",
       "      <td>0.0</td>\n",
       "    </tr>\n",
       "    <tr>\n",
       "      <th>39</th>\n",
       "      <td>Tree Stump Print, Utah Art, Tree Blocks, Woodc...</td>\n",
       "      <td>225.00</td>\n",
       "      <td>[]</td>\n",
       "      <td>0.0</td>\n",
       "      <td>0.0</td>\n",
       "      <td>0.0</td>\n",
       "      <td>1.0</td>\n",
       "      <td>0.0</td>\n",
       "      <td>0.0</td>\n",
       "      <td>0.0</td>\n",
       "      <td>0.0</td>\n",
       "      <td>0.0</td>\n",
       "      <td>0.0</td>\n",
       "      <td>0.0</td>\n",
       "    </tr>\n",
       "    <tr>\n",
       "      <th>43</th>\n",
       "      <td>Portofino Italy Painting on Canvas, Original P...</td>\n",
       "      <td>313.65</td>\n",
       "      <td>[]</td>\n",
       "      <td>0.0</td>\n",
       "      <td>0.0</td>\n",
       "      <td>0.0</td>\n",
       "      <td>0.0</td>\n",
       "      <td>0.0</td>\n",
       "      <td>1.0</td>\n",
       "      <td>1.0</td>\n",
       "      <td>0.0</td>\n",
       "      <td>0.0</td>\n",
       "      <td>0.0</td>\n",
       "      <td>0.0</td>\n",
       "    </tr>\n",
       "    <tr>\n",
       "      <th>52</th>\n",
       "      <td>Baby portrait. Custom Pastel Portrait Painting...</td>\n",
       "      <td>600.00</td>\n",
       "      <td>[]</td>\n",
       "      <td>0.0</td>\n",
       "      <td>1.0</td>\n",
       "      <td>0.0</td>\n",
       "      <td>0.0</td>\n",
       "      <td>0.0</td>\n",
       "      <td>1.0</td>\n",
       "      <td>1.0</td>\n",
       "      <td>0.0</td>\n",
       "      <td>1.0</td>\n",
       "      <td>0.0</td>\n",
       "      <td>0.0</td>\n",
       "    </tr>\n",
       "    <tr>\n",
       "      <th>68</th>\n",
       "      <td>Fruit oil painting still life, fruit wall art,...</td>\n",
       "      <td>390.22</td>\n",
       "      <td>[]</td>\n",
       "      <td>0.0</td>\n",
       "      <td>0.0</td>\n",
       "      <td>0.0</td>\n",
       "      <td>0.0</td>\n",
       "      <td>0.0</td>\n",
       "      <td>0.0</td>\n",
       "      <td>0.0</td>\n",
       "      <td>0.0</td>\n",
       "      <td>0.0</td>\n",
       "      <td>0.0</td>\n",
       "      <td>0.0</td>\n",
       "    </tr>\n",
       "    <tr>\n",
       "      <th>...</th>\n",
       "      <td>...</td>\n",
       "      <td>...</td>\n",
       "      <td>...</td>\n",
       "      <td>...</td>\n",
       "      <td>...</td>\n",
       "      <td>...</td>\n",
       "      <td>...</td>\n",
       "      <td>...</td>\n",
       "      <td>...</td>\n",
       "      <td>...</td>\n",
       "      <td>...</td>\n",
       "      <td>...</td>\n",
       "      <td>...</td>\n",
       "      <td>...</td>\n",
       "    </tr>\n",
       "    <tr>\n",
       "      <th>970</th>\n",
       "      <td>Water Lily Painting on Canvas, Original Art, F...</td>\n",
       "      <td>441.15</td>\n",
       "      <td>[]</td>\n",
       "      <td>0.0</td>\n",
       "      <td>0.0</td>\n",
       "      <td>0.0</td>\n",
       "      <td>0.0</td>\n",
       "      <td>0.0</td>\n",
       "      <td>1.0</td>\n",
       "      <td>1.0</td>\n",
       "      <td>0.0</td>\n",
       "      <td>0.0</td>\n",
       "      <td>0.0</td>\n",
       "      <td>0.0</td>\n",
       "    </tr>\n",
       "    <tr>\n",
       "      <th>1031</th>\n",
       "      <td>Modern Abstract Aluminum Metal Sculpture Garde...</td>\n",
       "      <td>300.00</td>\n",
       "      <td>[]</td>\n",
       "      <td>0.0</td>\n",
       "      <td>0.0</td>\n",
       "      <td>0.0</td>\n",
       "      <td>0.0</td>\n",
       "      <td>0.0</td>\n",
       "      <td>0.0</td>\n",
       "      <td>0.0</td>\n",
       "      <td>0.0</td>\n",
       "      <td>0.0</td>\n",
       "      <td>1.0</td>\n",
       "      <td>0.0</td>\n",
       "    </tr>\n",
       "    <tr>\n",
       "      <th>1045</th>\n",
       "      <td>Flock - 11 Porcelain ceramic wall art swallows...</td>\n",
       "      <td>435.00</td>\n",
       "      <td>[]</td>\n",
       "      <td>0.0</td>\n",
       "      <td>0.0</td>\n",
       "      <td>0.0</td>\n",
       "      <td>0.0</td>\n",
       "      <td>0.0</td>\n",
       "      <td>0.0</td>\n",
       "      <td>0.0</td>\n",
       "      <td>0.0</td>\n",
       "      <td>0.0</td>\n",
       "      <td>0.0</td>\n",
       "      <td>0.0</td>\n",
       "    </tr>\n",
       "    <tr>\n",
       "      <th>1050</th>\n",
       "      <td>Mr Toad - limited edition bronze</td>\n",
       "      <td>964.10</td>\n",
       "      <td>[]</td>\n",
       "      <td>0.0</td>\n",
       "      <td>0.0</td>\n",
       "      <td>0.0</td>\n",
       "      <td>0.0</td>\n",
       "      <td>0.0</td>\n",
       "      <td>0.0</td>\n",
       "      <td>0.0</td>\n",
       "      <td>0.0</td>\n",
       "      <td>0.0</td>\n",
       "      <td>0.0</td>\n",
       "      <td>0.0</td>\n",
       "    </tr>\n",
       "    <tr>\n",
       "      <th>1064</th>\n",
       "      <td>PBJ pink &amp; gold (Artist's touch) - NOAH VERRIE...</td>\n",
       "      <td>325.00</td>\n",
       "      <td>[]</td>\n",
       "      <td>0.0</td>\n",
       "      <td>0.0</td>\n",
       "      <td>0.0</td>\n",
       "      <td>0.0</td>\n",
       "      <td>0.0</td>\n",
       "      <td>0.0</td>\n",
       "      <td>0.0</td>\n",
       "      <td>0.0</td>\n",
       "      <td>0.0</td>\n",
       "      <td>0.0</td>\n",
       "      <td>0.0</td>\n",
       "    </tr>\n",
       "  </tbody>\n",
       "</table>\n",
       "<p>69 rows × 14 columns</p>\n",
       "</div>"
      ],
      "text/plain": [
       "                                                   name   price size_options  \\\n",
       "20    Custom Pastel Portrait Painting of Child from ...  650.00           []   \n",
       "39    Tree Stump Print, Utah Art, Tree Blocks, Woodc...  225.00           []   \n",
       "43    Portofino Italy Painting on Canvas, Original P...  313.65           []   \n",
       "52    Baby portrait. Custom Pastel Portrait Painting...  600.00           []   \n",
       "68    Fruit oil painting still life, fruit wall art,...  390.22           []   \n",
       "...                                                 ...     ...          ...   \n",
       "970   Water Lily Painting on Canvas, Original Art, F...  441.15           []   \n",
       "1031  Modern Abstract Aluminum Metal Sculpture Garde...  300.00           []   \n",
       "1045  Flock - 11 Porcelain ceramic wall art swallows...  435.00           []   \n",
       "1050                   Mr Toad - limited edition bronze  964.10           []   \n",
       "1064  PBJ pink & gold (Artist's touch) - NOAH VERRIE...  325.00           []   \n",
       "\n",
       "      Watercolor  Portrait  Pet  Print  Family  Paint  Painting  Nature  \\\n",
       "20           0.0       1.0  0.0    0.0     0.0    1.0       1.0     0.0   \n",
       "39           0.0       0.0  0.0    1.0     0.0    0.0       0.0     0.0   \n",
       "43           0.0       0.0  0.0    0.0     0.0    1.0       1.0     0.0   \n",
       "52           0.0       1.0  0.0    0.0     0.0    1.0       1.0     0.0   \n",
       "68           0.0       0.0  0.0    0.0     0.0    0.0       0.0     0.0   \n",
       "...          ...       ...  ...    ...     ...    ...       ...     ...   \n",
       "970          0.0       0.0  0.0    0.0     0.0    1.0       1.0     0.0   \n",
       "1031         0.0       0.0  0.0    0.0     0.0    0.0       0.0     0.0   \n",
       "1045         0.0       0.0  0.0    0.0     0.0    0.0       0.0     0.0   \n",
       "1050         0.0       0.0  0.0    0.0     0.0    0.0       0.0     0.0   \n",
       "1064         0.0       0.0  0.0    0.0     0.0    0.0       0.0     0.0   \n",
       "\n",
       "      Custom  Abstract  House  \n",
       "20       1.0       0.0    0.0  \n",
       "39       0.0       0.0    0.0  \n",
       "43       0.0       0.0    0.0  \n",
       "52       1.0       0.0    0.0  \n",
       "68       0.0       0.0    0.0  \n",
       "...      ...       ...    ...  \n",
       "970      0.0       0.0    0.0  \n",
       "1031     0.0       1.0    0.0  \n",
       "1045     0.0       0.0    0.0  \n",
       "1050     0.0       0.0    0.0  \n",
       "1064     0.0       0.0    0.0  \n",
       "\n",
       "[69 rows x 14 columns]"
      ]
     },
     "execution_count": 89,
     "metadata": {},
     "output_type": "execute_result"
    }
   ],
   "source": [
    "data_expensive"
   ]
  },
  {
   "cell_type": "code",
   "execution_count": null,
   "metadata": {},
   "outputs": [
    {
     "data": {
      "text/html": [
       "<div>\n",
       "<style scoped>\n",
       "    .dataframe tbody tr th:only-of-type {\n",
       "        vertical-align: middle;\n",
       "    }\n",
       "\n",
       "    .dataframe tbody tr th {\n",
       "        vertical-align: top;\n",
       "    }\n",
       "\n",
       "    .dataframe thead th {\n",
       "        text-align: right;\n",
       "    }\n",
       "</style>\n",
       "<table border=\"1\" class=\"dataframe\">\n",
       "  <thead>\n",
       "    <tr style=\"text-align: right;\">\n",
       "      <th></th>\n",
       "      <th>name</th>\n",
       "      <th>price</th>\n",
       "      <th>size_options</th>\n",
       "      <th>Watercolor</th>\n",
       "      <th>Portrait</th>\n",
       "      <th>Pet</th>\n",
       "      <th>Print</th>\n",
       "      <th>Family</th>\n",
       "      <th>Paint</th>\n",
       "      <th>Painting</th>\n",
       "      <th>Nature</th>\n",
       "      <th>Custom</th>\n",
       "      <th>Abstract</th>\n",
       "      <th>House</th>\n",
       "    </tr>\n",
       "  </thead>\n",
       "  <tbody>\n",
       "    <tr>\n",
       "      <th>20</th>\n",
       "      <td>Custom Pastel Portrait Painting of Child from ...</td>\n",
       "      <td>650.0</td>\n",
       "      <td>[]</td>\n",
       "      <td>0.0</td>\n",
       "      <td>1.0</td>\n",
       "      <td>0.0</td>\n",
       "      <td>0.0</td>\n",
       "      <td>0.0</td>\n",
       "      <td>1.0</td>\n",
       "      <td>1.0</td>\n",
       "      <td>0.0</td>\n",
       "      <td>1.0</td>\n",
       "      <td>0.0</td>\n",
       "      <td>0.0</td>\n",
       "    </tr>\n",
       "    <tr>\n",
       "      <th>52</th>\n",
       "      <td>Baby portrait. Custom Pastel Portrait Painting...</td>\n",
       "      <td>600.0</td>\n",
       "      <td>[]</td>\n",
       "      <td>0.0</td>\n",
       "      <td>1.0</td>\n",
       "      <td>0.0</td>\n",
       "      <td>0.0</td>\n",
       "      <td>0.0</td>\n",
       "      <td>1.0</td>\n",
       "      <td>1.0</td>\n",
       "      <td>0.0</td>\n",
       "      <td>1.0</td>\n",
       "      <td>0.0</td>\n",
       "      <td>0.0</td>\n",
       "    </tr>\n",
       "    <tr>\n",
       "      <th>303</th>\n",
       "      <td>Portrait painting, Pastel of a boy</td>\n",
       "      <td>550.0</td>\n",
       "      <td>[]</td>\n",
       "      <td>0.0</td>\n",
       "      <td>1.0</td>\n",
       "      <td>0.0</td>\n",
       "      <td>0.0</td>\n",
       "      <td>0.0</td>\n",
       "      <td>0.0</td>\n",
       "      <td>0.0</td>\n",
       "      <td>0.0</td>\n",
       "      <td>0.0</td>\n",
       "      <td>0.0</td>\n",
       "      <td>0.0</td>\n",
       "    </tr>\n",
       "    <tr>\n",
       "      <th>706</th>\n",
       "      <td>Small Size Pastel Portrait Painting, baby port...</td>\n",
       "      <td>550.0</td>\n",
       "      <td>[]</td>\n",
       "      <td>0.0</td>\n",
       "      <td>1.0</td>\n",
       "      <td>0.0</td>\n",
       "      <td>0.0</td>\n",
       "      <td>0.0</td>\n",
       "      <td>1.0</td>\n",
       "      <td>1.0</td>\n",
       "      <td>0.0</td>\n",
       "      <td>0.0</td>\n",
       "      <td>0.0</td>\n",
       "      <td>0.0</td>\n",
       "    </tr>\n",
       "  </tbody>\n",
       "</table>\n",
       "</div>"
      ],
      "text/plain": [
       "                                                  name  price size_options  \\\n",
       "20   Custom Pastel Portrait Painting of Child from ...  650.0           []   \n",
       "52   Baby portrait. Custom Pastel Portrait Painting...  600.0           []   \n",
       "303                 Portrait painting, Pastel of a boy  550.0           []   \n",
       "706  Small Size Pastel Portrait Painting, baby port...  550.0           []   \n",
       "\n",
       "     Watercolor  Portrait  Pet  Print  Family  Paint  Painting  Nature  \\\n",
       "20          0.0       1.0  0.0    0.0     0.0    1.0       1.0     0.0   \n",
       "52          0.0       1.0  0.0    0.0     0.0    1.0       1.0     0.0   \n",
       "303         0.0       1.0  0.0    0.0     0.0    0.0       0.0     0.0   \n",
       "706         0.0       1.0  0.0    0.0     0.0    1.0       1.0     0.0   \n",
       "\n",
       "     Custom  Abstract  House  \n",
       "20      1.0       0.0    0.0  \n",
       "52      1.0       0.0    0.0  \n",
       "303     0.0       0.0    0.0  \n",
       "706     0.0       0.0    0.0  "
      ]
     },
     "execution_count": 88,
     "metadata": {},
     "output_type": "execute_result"
    }
   ],
   "source": [
    "data_expensive.where(data_expensive['Portrait'] == 1).dropna()"
   ]
  }
 ],
 "metadata": {
  "interpreter": {
   "hash": "1e915f0a29dc84041eaeb02b7b1a21c440e37a87b61d44d5e84a515737dc82bc"
  },
  "kernelspec": {
   "display_name": "Python 3.8.5 64-bit ('base': conda)",
   "name": "python3"
  },
  "language_info": {
   "codemirror_mode": {
    "name": "ipython",
    "version": 3
   },
   "file_extension": ".py",
   "mimetype": "text/x-python",
   "name": "python",
   "nbconvert_exporter": "python",
   "pygments_lexer": "ipython3",
   "version": "3.11.5"
  },
  "orig_nbformat": 4
 },
 "nbformat": 4,
 "nbformat_minor": 2
}
