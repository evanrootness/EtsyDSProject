{
 "cells": [
  {
   "cell_type": "markdown",
   "metadata": {},
   "source": [
    "# Imports"
   ]
  },
  {
   "cell_type": "code",
   "execution_count": 4,
   "metadata": {},
   "outputs": [
    {
     "name": "stdout",
     "output_type": "stream",
     "text": [
      "/Users/evanrootness/Project1/EtsyDSProject\n"
     ]
    }
   ],
   "source": [
    "import os\n",
    "os.chdir(\"/Users/evanrootness/Project1/EtsyDSProject\")\n",
    "pwd = os.getcwd()\n",
    "print(pwd)"
   ]
  },
  {
   "cell_type": "code",
   "execution_count": 2,
   "metadata": {},
   "outputs": [],
   "source": [
    "import pandas as pd\n",
    "import numpy as np\n",
    "import matplotlib as mpl\n",
    "import matplotlib.pyplot as plt\n",
    "%matplotlib inline\n",
    "import math\n",
    "import scipy.optimize as opt\n",
    "import seaborn as sns\n",
    "from sklearn.model_selection import train_test_split\n",
    "import sys  "
   ]
  },
  {
   "cell_type": "code",
   "execution_count": 5,
   "metadata": {},
   "outputs": [],
   "source": [
    "import_data = pd.read_csv(pwd + '/data/art_map.csv')\n",
    "raw_data = import_data.copy()"
   ]
  },
  {
   "cell_type": "markdown",
   "metadata": {},
   "source": [
    "# Data Exploration"
   ]
  },
  {
   "cell_type": "code",
   "execution_count": 181,
   "metadata": {},
   "outputs": [],
   "source": [
    "data = raw_data.drop(['web-scraper-order', 'web-scraper-start-url', 'product-href'], axis = 1)"
   ]
  },
  {
   "cell_type": "code",
   "execution_count": 11,
   "metadata": {},
   "outputs": [
    {
     "name": "stdout",
     "output_type": "stream",
     "text": [
      "(64, 6)\n"
     ]
    },
    {
     "data": {
      "text/html": [
       "<div>\n",
       "<style scoped>\n",
       "    .dataframe tbody tr th:only-of-type {\n",
       "        vertical-align: middle;\n",
       "    }\n",
       "\n",
       "    .dataframe tbody tr th {\n",
       "        vertical-align: top;\n",
       "    }\n",
       "\n",
       "    .dataframe thead th {\n",
       "        text-align: right;\n",
       "    }\n",
       "</style>\n",
       "<table border=\"1\" class=\"dataframe\">\n",
       "  <thead>\n",
       "    <tr style=\"text-align: right;\">\n",
       "      <th></th>\n",
       "      <th>product</th>\n",
       "      <th>name</th>\n",
       "      <th>price</th>\n",
       "      <th>reviews_product</th>\n",
       "      <th>reviews_shop</th>\n",
       "      <th>shop_star_rating</th>\n",
       "    </tr>\n",
       "  </thead>\n",
       "  <tbody>\n",
       "    <tr>\n",
       "      <th>0</th>\n",
       "      <td>My Home is the Sea . giclee art print\\n       ...</td>\n",
       "      <td>My Home is the Sea . giclee art print</td>\n",
       "      <td>Price:\\n        $35.00+</td>\n",
       "      <td>107</td>\n",
       "      <td>9,854</td>\n",
       "      <td>5 out of 5 stars</td>\n",
       "    </tr>\n",
       "    <tr>\n",
       "      <th>1</th>\n",
       "      <td>Giclée art print of Abstract painting signed b...</td>\n",
       "      <td>Giclée art print of Abstract painting signed b...</td>\n",
       "      <td>Price:\\n        $48.45+</td>\n",
       "      <td>48</td>\n",
       "      <td>1,050</td>\n",
       "      <td>5 out of 5 stars</td>\n",
       "    </tr>\n",
       "    <tr>\n",
       "      <th>2</th>\n",
       "      <td>Trout Watercolor Art Print. Blue &amp; Green Water...</td>\n",
       "      <td>Trout Watercolor Art Print. Blue &amp; Green Water...</td>\n",
       "      <td>Price:\\n        $18.00+</td>\n",
       "      <td>17</td>\n",
       "      <td>2,781</td>\n",
       "      <td>5 out of 5 stars</td>\n",
       "    </tr>\n",
       "    <tr>\n",
       "      <th>3</th>\n",
       "      <td>Tree rings Print, Three Panel Wall Art, Woodcu...</td>\n",
       "      <td>Tree rings Print, Three Panel Wall Art, Woodcu...</td>\n",
       "      <td>Price:\\n        $209.60</td>\n",
       "      <td>240</td>\n",
       "      <td>2,917</td>\n",
       "      <td>5 out of 5 stars</td>\n",
       "    </tr>\n",
       "    <tr>\n",
       "      <th>4</th>\n",
       "      <td>Christmas pysanka Goose egg, Ukrainian Easter ...</td>\n",
       "      <td>Christmas pysanka Goose egg, Ukrainian Easter ...</td>\n",
       "      <td>Price:\\n        $150.00+</td>\n",
       "      <td>NaN</td>\n",
       "      <td>NaN</td>\n",
       "      <td>5 out of 5 stars</td>\n",
       "    </tr>\n",
       "    <tr>\n",
       "      <th>...</th>\n",
       "      <td>...</td>\n",
       "      <td>...</td>\n",
       "      <td>...</td>\n",
       "      <td>...</td>\n",
       "      <td>...</td>\n",
       "      <td>...</td>\n",
       "    </tr>\n",
       "    <tr>\n",
       "      <th>59</th>\n",
       "      <td>Family Portrait Illustration Custom Family Por...</td>\n",
       "      <td>Family Portrait Illustration Custom Family Por...</td>\n",
       "      <td>Price:\\n        $25.22+</td>\n",
       "      <td>131</td>\n",
       "      <td>650</td>\n",
       "      <td>5 out of 5 stars</td>\n",
       "    </tr>\n",
       "    <tr>\n",
       "      <th>60</th>\n",
       "      <td>Pet Portrait Custom Dog Portrait Personalize P...</td>\n",
       "      <td>Pet Portrait Custom Dog Portrait Personalize P...</td>\n",
       "      <td>Price:\\n        $7.09+</td>\n",
       "      <td>100</td>\n",
       "      <td>2,485</td>\n",
       "      <td>5 out of 5 stars</td>\n",
       "    </tr>\n",
       "    <tr>\n",
       "      <th>61</th>\n",
       "      <td>watercolor painting from photo, custom dog por...</td>\n",
       "      <td>watercolor painting from photo, custom dog por...</td>\n",
       "      <td>Price:\\n        $18.75+</td>\n",
       "      <td>1,024</td>\n",
       "      <td>6,155</td>\n",
       "      <td>5 out of 5 stars</td>\n",
       "    </tr>\n",
       "    <tr>\n",
       "      <th>62</th>\n",
       "      <td>Pet Painting, Watercolor Pet Portrait, Pet Mem...</td>\n",
       "      <td>Pet Painting, Watercolor Pet Portrait, Pet Mem...</td>\n",
       "      <td>Price:\\n        $29.95+</td>\n",
       "      <td>697</td>\n",
       "      <td>4,852</td>\n",
       "      <td>5 out of 5 stars</td>\n",
       "    </tr>\n",
       "    <tr>\n",
       "      <th>63</th>\n",
       "      <td>Custom Watercolor Portrait drawing, Personalis...</td>\n",
       "      <td>Custom Watercolor Portrait drawing, Personalis...</td>\n",
       "      <td>Price:\\n        $18.77+</td>\n",
       "      <td>14</td>\n",
       "      <td>191</td>\n",
       "      <td>5 out of 5 stars</td>\n",
       "    </tr>\n",
       "  </tbody>\n",
       "</table>\n",
       "<p>64 rows × 6 columns</p>\n",
       "</div>"
      ],
      "text/plain": [
       "                                              product  \\\n",
       "0   My Home is the Sea . giclee art print\\n       ...   \n",
       "1   Giclée art print of Abstract painting signed b...   \n",
       "2   Trout Watercolor Art Print. Blue & Green Water...   \n",
       "3   Tree rings Print, Three Panel Wall Art, Woodcu...   \n",
       "4   Christmas pysanka Goose egg, Ukrainian Easter ...   \n",
       "..                                                ...   \n",
       "59  Family Portrait Illustration Custom Family Por...   \n",
       "60  Pet Portrait Custom Dog Portrait Personalize P...   \n",
       "61  watercolor painting from photo, custom dog por...   \n",
       "62  Pet Painting, Watercolor Pet Portrait, Pet Mem...   \n",
       "63  Custom Watercolor Portrait drawing, Personalis...   \n",
       "\n",
       "                                                 name  \\\n",
       "0               My Home is the Sea . giclee art print   \n",
       "1   Giclée art print of Abstract painting signed b...   \n",
       "2   Trout Watercolor Art Print. Blue & Green Water...   \n",
       "3   Tree rings Print, Three Panel Wall Art, Woodcu...   \n",
       "4   Christmas pysanka Goose egg, Ukrainian Easter ...   \n",
       "..                                                ...   \n",
       "59  Family Portrait Illustration Custom Family Por...   \n",
       "60  Pet Portrait Custom Dog Portrait Personalize P...   \n",
       "61  watercolor painting from photo, custom dog por...   \n",
       "62  Pet Painting, Watercolor Pet Portrait, Pet Mem...   \n",
       "63  Custom Watercolor Portrait drawing, Personalis...   \n",
       "\n",
       "                       price reviews_product reviews_shop  shop_star_rating  \n",
       "0    Price:\\n        $35.00+             107        9,854  5 out of 5 stars  \n",
       "1    Price:\\n        $48.45+              48        1,050  5 out of 5 stars  \n",
       "2    Price:\\n        $18.00+              17        2,781  5 out of 5 stars  \n",
       "3    Price:\\n        $209.60             240        2,917  5 out of 5 stars  \n",
       "4   Price:\\n        $150.00+             NaN          NaN  5 out of 5 stars  \n",
       "..                       ...             ...          ...               ...  \n",
       "59   Price:\\n        $25.22+             131          650  5 out of 5 stars  \n",
       "60    Price:\\n        $7.09+             100        2,485  5 out of 5 stars  \n",
       "61   Price:\\n        $18.75+           1,024        6,155  5 out of 5 stars  \n",
       "62   Price:\\n        $29.95+             697        4,852  5 out of 5 stars  \n",
       "63   Price:\\n        $18.77+              14          191  5 out of 5 stars  \n",
       "\n",
       "[64 rows x 6 columns]"
      ]
     },
     "execution_count": 11,
     "metadata": {},
     "output_type": "execute_result"
    }
   ],
   "source": [
    "print(data.shape)\n",
    "data"
   ]
  },
  {
   "cell_type": "code",
   "execution_count": 16,
   "metadata": {},
   "outputs": [
    {
     "data": {
      "text/html": [
       "<div>\n",
       "<style scoped>\n",
       "    .dataframe tbody tr th:only-of-type {\n",
       "        vertical-align: middle;\n",
       "    }\n",
       "\n",
       "    .dataframe tbody tr th {\n",
       "        vertical-align: top;\n",
       "    }\n",
       "\n",
       "    .dataframe thead th {\n",
       "        text-align: right;\n",
       "    }\n",
       "</style>\n",
       "<table border=\"1\" class=\"dataframe\">\n",
       "  <thead>\n",
       "    <tr style=\"text-align: right;\">\n",
       "      <th></th>\n",
       "      <th>product</th>\n",
       "      <th>name</th>\n",
       "      <th>price</th>\n",
       "      <th>reviews_product</th>\n",
       "      <th>reviews_shop</th>\n",
       "      <th>shop_star_rating</th>\n",
       "    </tr>\n",
       "  </thead>\n",
       "  <tbody>\n",
       "    <tr>\n",
       "      <th>count</th>\n",
       "      <td>64</td>\n",
       "      <td>64</td>\n",
       "      <td>64</td>\n",
       "      <td>61</td>\n",
       "      <td>61</td>\n",
       "      <td>64</td>\n",
       "    </tr>\n",
       "    <tr>\n",
       "      <th>unique</th>\n",
       "      <td>64</td>\n",
       "      <td>64</td>\n",
       "      <td>47</td>\n",
       "      <td>52</td>\n",
       "      <td>43</td>\n",
       "      <td>2</td>\n",
       "    </tr>\n",
       "    <tr>\n",
       "      <th>top</th>\n",
       "      <td>My Home is the Sea . giclee art print\\n       ...</td>\n",
       "      <td>My Home is the Sea . giclee art print</td>\n",
       "      <td>Price:\\n        $18.00+</td>\n",
       "      <td>71</td>\n",
       "      <td>2,781</td>\n",
       "      <td>5 out of 5 stars</td>\n",
       "    </tr>\n",
       "    <tr>\n",
       "      <th>freq</th>\n",
       "      <td>1</td>\n",
       "      <td>1</td>\n",
       "      <td>8</td>\n",
       "      <td>2</td>\n",
       "      <td>7</td>\n",
       "      <td>62</td>\n",
       "    </tr>\n",
       "  </tbody>\n",
       "</table>\n",
       "</div>"
      ],
      "text/plain": [
       "                                                  product  \\\n",
       "count                                                  64   \n",
       "unique                                                 64   \n",
       "top     My Home is the Sea . giclee art print\\n       ...   \n",
       "freq                                                    1   \n",
       "\n",
       "                                         name                    price  \\\n",
       "count                                      64                       64   \n",
       "unique                                     64                       47   \n",
       "top     My Home is the Sea . giclee art print  Price:\\n        $18.00+   \n",
       "freq                                        1                        8   \n",
       "\n",
       "       reviews_product reviews_shop  shop_star_rating  \n",
       "count               61           61                64  \n",
       "unique              52           43                 2  \n",
       "top                 71        2,781  5 out of 5 stars  \n",
       "freq                 2            7                62  "
      ]
     },
     "execution_count": 16,
     "metadata": {},
     "output_type": "execute_result"
    }
   ],
   "source": [
    "data.describe()"
   ]
  },
  {
   "cell_type": "code",
   "execution_count": 182,
   "metadata": {},
   "outputs": [],
   "source": [
    "data.rename(columns={'shop_star_rating': 'stars'}, inplace=True)"
   ]
  },
  {
   "cell_type": "code",
   "execution_count": 183,
   "metadata": {},
   "outputs": [],
   "source": [
    "data.fillna(value='0', inplace=True)"
   ]
  },
  {
   "cell_type": "code",
   "execution_count": 184,
   "metadata": {},
   "outputs": [],
   "source": [
    "data = data.astype(dtype='string')"
   ]
  },
  {
   "cell_type": "code",
   "execution_count": 185,
   "metadata": {},
   "outputs": [
    {
     "data": {
      "text/plain": [
       "product            string[python]\n",
       "name               string[python]\n",
       "price              string[python]\n",
       "reviews_product    string[python]\n",
       "reviews_shop       string[python]\n",
       "stars              string[python]\n",
       "dtype: object"
      ]
     },
     "execution_count": 185,
     "metadata": {},
     "output_type": "execute_result"
    }
   ],
   "source": [
    "data.dtypes"
   ]
  },
  {
   "cell_type": "code",
   "execution_count": 186,
   "metadata": {},
   "outputs": [
    {
     "data": {
      "text/html": [
       "<div>\n",
       "<style scoped>\n",
       "    .dataframe tbody tr th:only-of-type {\n",
       "        vertical-align: middle;\n",
       "    }\n",
       "\n",
       "    .dataframe tbody tr th {\n",
       "        vertical-align: top;\n",
       "    }\n",
       "\n",
       "    .dataframe thead th {\n",
       "        text-align: right;\n",
       "    }\n",
       "</style>\n",
       "<table border=\"1\" class=\"dataframe\">\n",
       "  <thead>\n",
       "    <tr style=\"text-align: right;\">\n",
       "      <th></th>\n",
       "      <th>price</th>\n",
       "      <th>reviews_product</th>\n",
       "      <th>reviews_shop</th>\n",
       "      <th>stars</th>\n",
       "    </tr>\n",
       "  </thead>\n",
       "  <tbody>\n",
       "    <tr>\n",
       "      <th>0</th>\n",
       "      <td>Price:\n",
       "        $35.00+</td>\n",
       "      <td>107</td>\n",
       "      <td>9,854</td>\n",
       "      <td>5 out of 5 stars</td>\n",
       "    </tr>\n",
       "    <tr>\n",
       "      <th>1</th>\n",
       "      <td>Price:\n",
       "        $48.45+</td>\n",
       "      <td>48</td>\n",
       "      <td>1,050</td>\n",
       "      <td>5 out of 5 stars</td>\n",
       "    </tr>\n",
       "    <tr>\n",
       "      <th>2</th>\n",
       "      <td>Price:\n",
       "        $18.00+</td>\n",
       "      <td>17</td>\n",
       "      <td>2,781</td>\n",
       "      <td>5 out of 5 stars</td>\n",
       "    </tr>\n",
       "    <tr>\n",
       "      <th>3</th>\n",
       "      <td>Price:\n",
       "        $209.60</td>\n",
       "      <td>240</td>\n",
       "      <td>2,917</td>\n",
       "      <td>5 out of 5 stars</td>\n",
       "    </tr>\n",
       "    <tr>\n",
       "      <th>4</th>\n",
       "      <td>Price:\n",
       "        $150.00+</td>\n",
       "      <td>0</td>\n",
       "      <td>0</td>\n",
       "      <td>5 out of 5 stars</td>\n",
       "    </tr>\n",
       "    <tr>\n",
       "      <th>...</th>\n",
       "      <td>...</td>\n",
       "      <td>...</td>\n",
       "      <td>...</td>\n",
       "      <td>...</td>\n",
       "    </tr>\n",
       "    <tr>\n",
       "      <th>59</th>\n",
       "      <td>Price:\n",
       "        $25.22+</td>\n",
       "      <td>131</td>\n",
       "      <td>650</td>\n",
       "      <td>5 out of 5 stars</td>\n",
       "    </tr>\n",
       "    <tr>\n",
       "      <th>60</th>\n",
       "      <td>Price:\n",
       "        $7.09+</td>\n",
       "      <td>100</td>\n",
       "      <td>2,485</td>\n",
       "      <td>5 out of 5 stars</td>\n",
       "    </tr>\n",
       "    <tr>\n",
       "      <th>61</th>\n",
       "      <td>Price:\n",
       "        $18.75+</td>\n",
       "      <td>1,024</td>\n",
       "      <td>6,155</td>\n",
       "      <td>5 out of 5 stars</td>\n",
       "    </tr>\n",
       "    <tr>\n",
       "      <th>62</th>\n",
       "      <td>Price:\n",
       "        $29.95+</td>\n",
       "      <td>697</td>\n",
       "      <td>4,852</td>\n",
       "      <td>5 out of 5 stars</td>\n",
       "    </tr>\n",
       "    <tr>\n",
       "      <th>63</th>\n",
       "      <td>Price:\n",
       "        $18.77+</td>\n",
       "      <td>14</td>\n",
       "      <td>191</td>\n",
       "      <td>5 out of 5 stars</td>\n",
       "    </tr>\n",
       "  </tbody>\n",
       "</table>\n",
       "<p>64 rows × 4 columns</p>\n",
       "</div>"
      ],
      "text/plain": [
       "                      price reviews_product reviews_shop             stars\n",
       "0    Price:\n",
       "        $35.00+             107        9,854  5 out of 5 stars\n",
       "1    Price:\n",
       "        $48.45+              48        1,050  5 out of 5 stars\n",
       "2    Price:\n",
       "        $18.00+              17        2,781  5 out of 5 stars\n",
       "3    Price:\n",
       "        $209.60             240        2,917  5 out of 5 stars\n",
       "4   Price:\n",
       "        $150.00+               0            0  5 out of 5 stars\n",
       "..                      ...             ...          ...               ...\n",
       "59   Price:\n",
       "        $25.22+             131          650  5 out of 5 stars\n",
       "60    Price:\n",
       "        $7.09+             100        2,485  5 out of 5 stars\n",
       "61   Price:\n",
       "        $18.75+           1,024        6,155  5 out of 5 stars\n",
       "62   Price:\n",
       "        $29.95+             697        4,852  5 out of 5 stars\n",
       "63   Price:\n",
       "        $18.77+              14          191  5 out of 5 stars\n",
       "\n",
       "[64 rows x 4 columns]"
      ]
     },
     "execution_count": 186,
     "metadata": {},
     "output_type": "execute_result"
    }
   ],
   "source": [
    "data_num = pd.DataFrame(data={'price': data['price'], 'reviews_product': data['reviews_product'], \n",
    "                              'reviews_shop': data['reviews_shop'], 'stars': data['stars']})\n",
    "data_num"
   ]
  },
  {
   "cell_type": "code",
   "execution_count": 175,
   "metadata": {},
   "outputs": [
    {
     "name": "stdout",
     "output_type": "stream",
     "text": [
      "<re.Match object; span=(8, 13), match='48.00'>\n",
      "48.00\n"
     ]
    }
   ],
   "source": [
    "import re\n",
    "name = \"price: $48.00\"\n",
    "test = re.search('[^\\$]*$', name)\n",
    "print(test)\n",
    "print(test.group(0))"
   ]
  },
  {
   "cell_type": "code",
   "execution_count": 227,
   "metadata": {},
   "outputs": [
    {
     "name": "stdout",
     "output_type": "stream",
     "text": [
      "4.5\n"
     ]
    }
   ],
   "source": [
    "print(re.search('[^\\s]*', data_num['stars'].astype(dtype='string')[i]).group(0))"
   ]
  },
  {
   "cell_type": "code",
   "execution_count": 239,
   "metadata": {},
   "outputs": [],
   "source": [
    "price = []\n",
    "reviews_product = []\n",
    "reviews_shop = []\n",
    "stars = []\n",
    "\n",
    "\n",
    "for i in range(len(data_num['price'])):\n",
    "    price.append(re.search('[^+]*', data_num['price'][i]).group(0))\n",
    "    price[i] = re.search('[^\\$]*$', price[i]).group(0)\n",
    "    # if (data_num['reviews_product'][i].__contains__(','))\n",
    "    reviews_product.append(int(data_num['reviews_product'][i].replace(',', '')))\n",
    "    reviews_shop.append(int(data_num['reviews_shop'][i].replace(',', '')))\n",
    "    stars.append(re.search('[^\\s]*', data_num['stars'].astype(dtype='string')[i]).group(0))\n",
    "    # if ()\n",
    "\n",
    "datnum = []\n",
    "all_rows = [price, reviews_product, reviews_shop, stars]\n",
    "for row in all_rows:\n",
    "    datnum.append(row)\n",
    "data_num_int = pd.DataFrame(data={'price': datnum[0], 'reviews_product': datnum[1], \n",
    "                                  'reviews_shop': datnum[2], 'stars': datnum[3]})"
   ]
  },
  {
   "cell_type": "code",
   "execution_count": 240,
   "metadata": {},
   "outputs": [
    {
     "data": {
      "text/html": [
       "<div>\n",
       "<style scoped>\n",
       "    .dataframe tbody tr th:only-of-type {\n",
       "        vertical-align: middle;\n",
       "    }\n",
       "\n",
       "    .dataframe tbody tr th {\n",
       "        vertical-align: top;\n",
       "    }\n",
       "\n",
       "    .dataframe thead th {\n",
       "        text-align: right;\n",
       "    }\n",
       "</style>\n",
       "<table border=\"1\" class=\"dataframe\">\n",
       "  <thead>\n",
       "    <tr style=\"text-align: right;\">\n",
       "      <th></th>\n",
       "      <th>price</th>\n",
       "      <th>reviews_product</th>\n",
       "      <th>reviews_shop</th>\n",
       "      <th>stars</th>\n",
       "    </tr>\n",
       "  </thead>\n",
       "  <tbody>\n",
       "    <tr>\n",
       "      <th>0</th>\n",
       "      <td>35.00</td>\n",
       "      <td>107</td>\n",
       "      <td>9854</td>\n",
       "      <td>5</td>\n",
       "    </tr>\n",
       "    <tr>\n",
       "      <th>1</th>\n",
       "      <td>48.45</td>\n",
       "      <td>48</td>\n",
       "      <td>1050</td>\n",
       "      <td>5</td>\n",
       "    </tr>\n",
       "    <tr>\n",
       "      <th>2</th>\n",
       "      <td>18.00</td>\n",
       "      <td>17</td>\n",
       "      <td>2781</td>\n",
       "      <td>5</td>\n",
       "    </tr>\n",
       "    <tr>\n",
       "      <th>3</th>\n",
       "      <td>209.60</td>\n",
       "      <td>240</td>\n",
       "      <td>2917</td>\n",
       "      <td>5</td>\n",
       "    </tr>\n",
       "    <tr>\n",
       "      <th>4</th>\n",
       "      <td>150.00</td>\n",
       "      <td>0</td>\n",
       "      <td>0</td>\n",
       "      <td>5</td>\n",
       "    </tr>\n",
       "    <tr>\n",
       "      <th>...</th>\n",
       "      <td>...</td>\n",
       "      <td>...</td>\n",
       "      <td>...</td>\n",
       "      <td>...</td>\n",
       "    </tr>\n",
       "    <tr>\n",
       "      <th>59</th>\n",
       "      <td>25.22</td>\n",
       "      <td>131</td>\n",
       "      <td>650</td>\n",
       "      <td>5</td>\n",
       "    </tr>\n",
       "    <tr>\n",
       "      <th>60</th>\n",
       "      <td>7.09</td>\n",
       "      <td>100</td>\n",
       "      <td>2485</td>\n",
       "      <td>5</td>\n",
       "    </tr>\n",
       "    <tr>\n",
       "      <th>61</th>\n",
       "      <td>18.75</td>\n",
       "      <td>1024</td>\n",
       "      <td>6155</td>\n",
       "      <td>5</td>\n",
       "    </tr>\n",
       "    <tr>\n",
       "      <th>62</th>\n",
       "      <td>29.95</td>\n",
       "      <td>697</td>\n",
       "      <td>4852</td>\n",
       "      <td>5</td>\n",
       "    </tr>\n",
       "    <tr>\n",
       "      <th>63</th>\n",
       "      <td>18.77</td>\n",
       "      <td>14</td>\n",
       "      <td>191</td>\n",
       "      <td>5</td>\n",
       "    </tr>\n",
       "  </tbody>\n",
       "</table>\n",
       "<p>64 rows × 4 columns</p>\n",
       "</div>"
      ],
      "text/plain": [
       "     price  reviews_product  reviews_shop stars\n",
       "0    35.00              107          9854     5\n",
       "1    48.45               48          1050     5\n",
       "2    18.00               17          2781     5\n",
       "3   209.60              240          2917     5\n",
       "4   150.00                0             0     5\n",
       "..     ...              ...           ...   ...\n",
       "59   25.22              131           650     5\n",
       "60    7.09              100          2485     5\n",
       "61   18.75             1024          6155     5\n",
       "62   29.95              697          4852     5\n",
       "63   18.77               14           191     5\n",
       "\n",
       "[64 rows x 4 columns]"
      ]
     },
     "execution_count": 240,
     "metadata": {},
     "output_type": "execute_result"
    }
   ],
   "source": [
    "data_num_int"
   ]
  },
  {
   "cell_type": "markdown",
   "metadata": {},
   "source": [
    "Pause"
   ]
  },
  {
   "cell_type": "code",
   "execution_count": 241,
   "metadata": {},
   "outputs": [
    {
     "data": {
      "text/plain": [
       "<Axes: >"
      ]
     },
     "execution_count": 241,
     "metadata": {},
     "output_type": "execute_result"
    },
    {
     "data": {
      "image/png": "[encoded data removed]",
      "text/plain": [
       "<Figure size 640x480 with 2 Axes>"
      ]
     },
     "metadata": {},
     "output_type": "display_data"
    }
   ],
   "source": [
    "sns.heatmap(data_num_int.corr())"
   ]
  },
  {
   "cell_type": "code",
   "execution_count": 237,
   "metadata": {},
   "outputs": [
    {
     "data": {
      "text/plain": [
       "(0.0, 100.0)"
      ]
     },
     "execution_count": 237,
     "metadata": {},
     "output_type": "execute_result"
    },
    {
     "data": {
      "image/png": "[encoded data removed]",
      "text/plain": [
       "<Figure size 640x480 with 1 Axes>"
      ]
     },
     "metadata": {},
     "output_type": "display_data"
    }
   ],
   "source": [
    "plt.scatter(data_num_int['reviews_product'], data_num_int['price'])\n",
    "plt.xlim(0, 100)"
   ]
  },
  {
   "cell_type": "code",
   "execution_count": 243,
   "metadata": {},
   "outputs": [
    {
     "data": {
      "text/plain": [
       "(0.0, 5000.0)"
      ]
     },
     "execution_count": 243,
     "metadata": {},
     "output_type": "execute_result"
    },
    {
     "data": {
      "image/png": "[encoded data removed]",
      "text/plain": [
       "<Figure size 640x480 with 1 Axes>"
      ]
     },
     "metadata": {},
     "output_type": "display_data"
    }
   ],
   "source": [
    "plt.scatter(data_num_int['reviews_shop'], data_num_int['price'])\n",
    "plt.xlim(0, 5000)"
   ]
  }
 ],
 "metadata": {
  "interpreter": {
   "hash": "1e915f0a29dc84041eaeb02b7b1a21c440e37a87b61d44d5e84a515737dc82bc"
  },
  "kernelspec": {
   "display_name": "Python 3.8.5 64-bit ('base': conda)",
   "name": "python3"
  },
  "language_info": {
   "codemirror_mode": {
    "name": "ipython",
    "version": 3
   },
   "file_extension": ".py",
   "mimetype": "text/x-python",
   "name": "python",
   "nbconvert_exporter": "python",
   "pygments_lexer": "ipython3",
   "version": "3.11.5"
  },
  "orig_nbformat": 4
 },
 "nbformat": 4,
 "nbformat_minor": 2
}
