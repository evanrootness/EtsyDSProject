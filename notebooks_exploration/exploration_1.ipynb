{
 "cells": [
  {
   "cell_type": "markdown",
   "metadata": {},
   "source": [
    "# Imports"
   ]
  },
  {
   "cell_type": "code",
   "execution_count": 4,
   "metadata": {},
   "outputs": [
    {
     "name": "stdout",
     "output_type": "stream",
     "text": [
      "/Users/evanrootness/DS_Projects/EtsyDSProject\n"
     ]
    }
   ],
   "source": [
    "import os\n",
    "os.chdir(\"/Users/evanrootness/DS_Projects/EtsyDSProject\")\n",
    "pwd = os.getcwd()\n",
    "print(pwd)"
   ]
  },
  {
   "cell_type": "code",
   "execution_count": 5,
   "metadata": {},
   "outputs": [],
   "source": [
    "import pandas as pd\n",
    "import numpy as np\n",
    "import matplotlib as mpl\n",
    "import matplotlib.pyplot as plt\n",
    "%matplotlib inline\n",
    "import math\n",
    "import scipy.optimize as opt\n",
    "import seaborn as sns\n",
    "from sklearn.model_selection import train_test_split\n",
    "import sys\n",
    "import re"
   ]
  },
  {
   "cell_type": "code",
   "execution_count": 6,
   "metadata": {},
   "outputs": [],
   "source": [
    "import_data = pd.read_csv(pwd + '/data/ArtAllPages.csv')\n",
    "# import_data = pd.read_csv(pwd + '/data/art_map.csv')\n",
    "raw_data = import_data.copy()"
   ]
  },
  {
   "cell_type": "markdown",
   "metadata": {},
   "source": [
    "# Data Cleaning"
   ]
  },
  {
   "cell_type": "code",
   "execution_count": 7,
   "metadata": {},
   "outputs": [],
   "source": [
    "data = raw_data.drop(['web-scraper-order', 'web-scraper-start-url', 'product_link-href', 'Pagination', 'product_link'], axis = 1)"
   ]
  },
  {
   "cell_type": "code",
   "execution_count": 8,
   "metadata": {},
   "outputs": [
    {
     "name": "stdout",
     "output_type": "stream",
     "text": [
      "(1111, 3)\n"
     ]
    },
    {
     "data": {
      "text/html": [
       "<div>\n",
       "<style scoped>\n",
       "    .dataframe tbody tr th:only-of-type {\n",
       "        vertical-align: middle;\n",
       "    }\n",
       "\n",
       "    .dataframe tbody tr th {\n",
       "        vertical-align: top;\n",
       "    }\n",
       "\n",
       "    .dataframe thead th {\n",
       "        text-align: right;\n",
       "    }\n",
       "</style>\n",
       "<table border=\"1\" class=\"dataframe\">\n",
       "  <thead>\n",
       "    <tr style=\"text-align: right;\">\n",
       "      <th></th>\n",
       "      <th>name</th>\n",
       "      <th>min_price</th>\n",
       "      <th>size_options</th>\n",
       "    </tr>\n",
       "  </thead>\n",
       "  <tbody>\n",
       "    <tr>\n",
       "      <th>0</th>\n",
       "      <td>Pastel Art, Mint Green Wall Art, Mint Green Ar...</td>\n",
       "      <td>Price:\\n        $6.00</td>\n",
       "      <td>[]</td>\n",
       "    </tr>\n",
       "    <tr>\n",
       "      <th>1</th>\n",
       "      <td>San Francisco Print, Golden Gate Bridge Wall A...</td>\n",
       "      <td>Price:\\n        $18.00+</td>\n",
       "      <td>[{\"size_options\":\"Select an option\\n          ...</td>\n",
       "    </tr>\n",
       "    <tr>\n",
       "      <th>2</th>\n",
       "      <td>Set 4 Coral Prints Mist Blue/Green, Nautical p...</td>\n",
       "      <td>Price:\\n        $82.00+</td>\n",
       "      <td>[{\"size_options\":\"Select a size\\n             ...</td>\n",
       "    </tr>\n",
       "    <tr>\n",
       "      <th>3</th>\n",
       "      <td>Whale nursery art. Whale Rider print</td>\n",
       "      <td>Price:\\n        $20.00+</td>\n",
       "      <td>[{\"size_options\":\"Select a size\\n             ...</td>\n",
       "    </tr>\n",
       "    <tr>\n",
       "      <th>4</th>\n",
       "      <td>Valentine's Day Copper Rose / Seventh Annivers...</td>\n",
       "      <td>Price:\\n        $160.00+</td>\n",
       "      <td>[{\"size_options\":\"Select an option\\n          ...</td>\n",
       "    </tr>\n",
       "    <tr>\n",
       "      <th>...</th>\n",
       "      <td>...</td>\n",
       "      <td>...</td>\n",
       "      <td>...</td>\n",
       "    </tr>\n",
       "    <tr>\n",
       "      <th>1106</th>\n",
       "      <td>Yellow Leopard 20oz Tumbler Sublimation Wrap,G...</td>\n",
       "      <td>Price:\\n        $4.80</td>\n",
       "      <td>[]</td>\n",
       "    </tr>\n",
       "    <tr>\n",
       "      <th>1107</th>\n",
       "      <td>Tropical Little Thing Mini Crab, Driftwood Wal...</td>\n",
       "      <td>Price:\\n        $150.00</td>\n",
       "      <td>[]</td>\n",
       "    </tr>\n",
       "    <tr>\n",
       "      <th>1108</th>\n",
       "      <td>Fall Pumpkin Mug Sublimation, Watercolor Flora...</td>\n",
       "      <td>Price:\\n        $2.00</td>\n",
       "      <td>[]</td>\n",
       "    </tr>\n",
       "    <tr>\n",
       "      <th>1109</th>\n",
       "      <td>Pheasant Art Print Giclee Limited Edition</td>\n",
       "      <td>Price:\\n        $39.89</td>\n",
       "      <td>[]</td>\n",
       "    </tr>\n",
       "    <tr>\n",
       "      <th>1110</th>\n",
       "      <td>Rabbit Print - Spring Decor, Watercolor Rabbit...</td>\n",
       "      <td>Price:\\n        $14.00+</td>\n",
       "      <td>[{\"size_options\":\"Select a size\\n             ...</td>\n",
       "    </tr>\n",
       "  </tbody>\n",
       "</table>\n",
       "<p>1111 rows × 3 columns</p>\n",
       "</div>"
      ],
      "text/plain": [
       "                                                   name  \\\n",
       "0     Pastel Art, Mint Green Wall Art, Mint Green Ar...   \n",
       "1     San Francisco Print, Golden Gate Bridge Wall A...   \n",
       "2     Set 4 Coral Prints Mist Blue/Green, Nautical p...   \n",
       "3                  Whale nursery art. Whale Rider print   \n",
       "4     Valentine's Day Copper Rose / Seventh Annivers...   \n",
       "...                                                 ...   \n",
       "1106  Yellow Leopard 20oz Tumbler Sublimation Wrap,G...   \n",
       "1107  Tropical Little Thing Mini Crab, Driftwood Wal...   \n",
       "1108  Fall Pumpkin Mug Sublimation, Watercolor Flora...   \n",
       "1109          Pheasant Art Print Giclee Limited Edition   \n",
       "1110  Rabbit Print - Spring Decor, Watercolor Rabbit...   \n",
       "\n",
       "                     min_price  \\\n",
       "0        Price:\\n        $6.00   \n",
       "1      Price:\\n        $18.00+   \n",
       "2      Price:\\n        $82.00+   \n",
       "3      Price:\\n        $20.00+   \n",
       "4     Price:\\n        $160.00+   \n",
       "...                        ...   \n",
       "1106     Price:\\n        $4.80   \n",
       "1107   Price:\\n        $150.00   \n",
       "1108     Price:\\n        $2.00   \n",
       "1109    Price:\\n        $39.89   \n",
       "1110   Price:\\n        $14.00+   \n",
       "\n",
       "                                           size_options  \n",
       "0                                                    []  \n",
       "1     [{\"size_options\":\"Select an option\\n          ...  \n",
       "2     [{\"size_options\":\"Select a size\\n             ...  \n",
       "3     [{\"size_options\":\"Select a size\\n             ...  \n",
       "4     [{\"size_options\":\"Select an option\\n          ...  \n",
       "...                                                 ...  \n",
       "1106                                                 []  \n",
       "1107                                                 []  \n",
       "1108                                                 []  \n",
       "1109                                                 []  \n",
       "1110  [{\"size_options\":\"Select a size\\n             ...  \n",
       "\n",
       "[1111 rows x 3 columns]"
      ]
     },
     "execution_count": 8,
     "metadata": {},
     "output_type": "execute_result"
    }
   ],
   "source": [
    "print(data.shape)\n",
    "data"
   ]
  },
  {
   "cell_type": "code",
   "execution_count": 9,
   "metadata": {},
   "outputs": [
    {
     "data": {
      "text/html": [
       "<div>\n",
       "<style scoped>\n",
       "    .dataframe tbody tr th:only-of-type {\n",
       "        vertical-align: middle;\n",
       "    }\n",
       "\n",
       "    .dataframe tbody tr th {\n",
       "        vertical-align: top;\n",
       "    }\n",
       "\n",
       "    .dataframe thead th {\n",
       "        text-align: right;\n",
       "    }\n",
       "</style>\n",
       "<table border=\"1\" class=\"dataframe\">\n",
       "  <thead>\n",
       "    <tr style=\"text-align: right;\">\n",
       "      <th></th>\n",
       "      <th>name</th>\n",
       "      <th>min_price</th>\n",
       "      <th>size_options</th>\n",
       "    </tr>\n",
       "  </thead>\n",
       "  <tbody>\n",
       "    <tr>\n",
       "      <th>count</th>\n",
       "      <td>1111</td>\n",
       "      <td>1111</td>\n",
       "      <td>1111</td>\n",
       "    </tr>\n",
       "    <tr>\n",
       "      <th>unique</th>\n",
       "      <td>1041</td>\n",
       "      <td>508</td>\n",
       "      <td>412</td>\n",
       "    </tr>\n",
       "    <tr>\n",
       "      <th>top</th>\n",
       "      <td>Yellow Leopard 20oz Tumbler Sublimation Wrap,G...</td>\n",
       "      <td>Price:\\n        $18.00+</td>\n",
       "      <td>[]</td>\n",
       "    </tr>\n",
       "    <tr>\n",
       "      <th>freq</th>\n",
       "      <td>5</td>\n",
       "      <td>32</td>\n",
       "      <td>547</td>\n",
       "    </tr>\n",
       "  </tbody>\n",
       "</table>\n",
       "</div>"
      ],
      "text/plain": [
       "                                                     name  \\\n",
       "count                                                1111   \n",
       "unique                                               1041   \n",
       "top     Yellow Leopard 20oz Tumbler Sublimation Wrap,G...   \n",
       "freq                                                    5   \n",
       "\n",
       "                      min_price size_options  \n",
       "count                      1111         1111  \n",
       "unique                      508          412  \n",
       "top     Price:\\n        $18.00+           []  \n",
       "freq                         32          547  "
      ]
     },
     "execution_count": 9,
     "metadata": {},
     "output_type": "execute_result"
    }
   ],
   "source": [
    "data.describe()"
   ]
  },
  {
   "cell_type": "code",
   "execution_count": 10,
   "metadata": {},
   "outputs": [
    {
     "data": {
      "text/plain": [
       "name            string[python]\n",
       "min_price       string[python]\n",
       "size_options    string[python]\n",
       "dtype: object"
      ]
     },
     "execution_count": 10,
     "metadata": {},
     "output_type": "execute_result"
    }
   ],
   "source": [
    "data = data.astype(dtype='string')\n",
    "data.dtypes"
   ]
  },
  {
   "cell_type": "code",
   "execution_count": 11,
   "metadata": {},
   "outputs": [],
   "source": [
    "price = []\n",
    "\n",
    "for i in range(len(data['min_price'])):\n",
    "    price.append(re.search('[^+]*', data['min_price'][i]).group(0))\n",
    "    price[i] = re.search('[^\\$]*$', price[i]).group(0).replace(',', '')\n",
    "\n",
    "data['min_price'] = price\n",
    "data['min_price'] = data['min_price'].astype(float)"
   ]
  },
  {
   "cell_type": "markdown",
   "metadata": {},
   "source": [
    "## Convert Names to Categorical Data"
   ]
  },
  {
   "cell_type": "code",
   "execution_count": 12,
   "metadata": {},
   "outputs": [],
   "source": [
    "sys.path.insert(1, '/Users/evanrootness/DS_Projects/EtsyDSProject/py_scripts/')\n",
    "import scripts_explore"
   ]
  },
  {
   "cell_type": "code",
   "execution_count": 13,
   "metadata": {},
   "outputs": [],
   "source": [
    "# one-hot encode categorical data from listing names (encode most popular keywords)\n",
    "data = scripts_explore.one_hot_encode(data, ['Watercolor', 'Portrait', 'Pet', 'Print', 'Family', 'Paint', 'Painting', 'Nature', 'Custom', 'Abstract', 'House', 'Map'])\n",
    "# data"
   ]
  },
  {
   "cell_type": "markdown",
   "metadata": {},
   "source": [
    "*Considering parsing all names and doing a full count of all possible words to see which are most common rather than guessing."
   ]
  },
  {
   "cell_type": "code",
   "execution_count": 14,
   "metadata": {},
   "outputs": [],
   "source": [
    "# I don't want to include maps in my analysis so get rid of them\n",
    "data = data.query('Map != 1')\n",
    "data = data.drop(columns='Map')\n",
    "data = data.reset_index(drop=True)"
   ]
  },
  {
   "cell_type": "markdown",
   "metadata": {},
   "source": [
    "## Convert \"size options\" to price and size lists"
   ]
  },
  {
   "cell_type": "code",
   "execution_count": 15,
   "metadata": {},
   "outputs": [
    {
     "data": {
      "text/plain": [
       "'[]'"
      ]
     },
     "execution_count": 15,
     "metadata": {},
     "output_type": "execute_result"
    }
   ],
   "source": [
    "# example of string that needs to be parsed into sizes and prices\n",
    "data['size_options'][27]"
   ]
  },
  {
   "cell_type": "markdown",
   "metadata": {},
   "source": [
    "Types of patterns we need to match for sizes:\n",
    "- \"#x#\" (inches assumed, but no units)\n",
    "- \"#x# inches\"\n",
    "- \"# x # inches\"\n",
    "- \"#x#in\"\n",
    "- \"#x#cm\"\n",
    "- \"#x# cm\"\n",
    "- '#\\\\\" x #\\\\\" inches'"
   ]
  },
  {
   "cell_type": "code",
   "execution_count": 16,
   "metadata": {},
   "outputs": [
    {
     "data": {
      "text/plain": [
       "[]"
      ]
     },
     "execution_count": 16,
     "metadata": {},
     "output_type": "execute_result"
    }
   ],
   "source": [
    "pattern = r'(\\d+)\\\\\" x (\\d+)\\\\\"'\n",
    "string = data['size_options'][27]\n",
    "matches = re.findall(pattern, string)\n",
    "# floats_only = [(float(match[0]), float(match[2])) for match in matches]\n",
    "# floats_only\n",
    "matches"
   ]
  },
  {
   "cell_type": "code",
   "execution_count": 17,
   "metadata": {},
   "outputs": [
    {
     "data": {
      "text/html": [
       "<div>\n",
       "<style scoped>\n",
       "    .dataframe tbody tr th:only-of-type {\n",
       "        vertical-align: middle;\n",
       "    }\n",
       "\n",
       "    .dataframe tbody tr th {\n",
       "        vertical-align: top;\n",
       "    }\n",
       "\n",
       "    .dataframe thead th {\n",
       "        text-align: right;\n",
       "    }\n",
       "</style>\n",
       "<table border=\"1\" class=\"dataframe\">\n",
       "  <thead>\n",
       "    <tr style=\"text-align: right;\">\n",
       "      <th></th>\n",
       "      <th>name</th>\n",
       "      <th>min_price</th>\n",
       "      <th>size_options</th>\n",
       "      <th>Watercolor</th>\n",
       "      <th>Portrait</th>\n",
       "      <th>Pet</th>\n",
       "      <th>Print</th>\n",
       "      <th>Family</th>\n",
       "      <th>Paint</th>\n",
       "      <th>Painting</th>\n",
       "      <th>Nature</th>\n",
       "      <th>Custom</th>\n",
       "      <th>Abstract</th>\n",
       "      <th>House</th>\n",
       "    </tr>\n",
       "  </thead>\n",
       "  <tbody>\n",
       "    <tr>\n",
       "      <th>0</th>\n",
       "      <td>Pastel Art, Mint Green Wall Art, Mint Green Ar...</td>\n",
       "      <td>6.00</td>\n",
       "      <td>[]</td>\n",
       "      <td>1</td>\n",
       "      <td>0</td>\n",
       "      <td>0</td>\n",
       "      <td>1</td>\n",
       "      <td>0</td>\n",
       "      <td>0</td>\n",
       "      <td>0</td>\n",
       "      <td>0</td>\n",
       "      <td>0</td>\n",
       "      <td>1</td>\n",
       "      <td>0</td>\n",
       "    </tr>\n",
       "    <tr>\n",
       "      <th>1</th>\n",
       "      <td>San Francisco Print, Golden Gate Bridge Wall A...</td>\n",
       "      <td>18.00</td>\n",
       "      <td>[{\"size_options\":\"Select an option\\n          ...</td>\n",
       "      <td>0</td>\n",
       "      <td>0</td>\n",
       "      <td>0</td>\n",
       "      <td>1</td>\n",
       "      <td>0</td>\n",
       "      <td>0</td>\n",
       "      <td>0</td>\n",
       "      <td>0</td>\n",
       "      <td>0</td>\n",
       "      <td>0</td>\n",
       "      <td>0</td>\n",
       "    </tr>\n",
       "    <tr>\n",
       "      <th>2</th>\n",
       "      <td>Set 4 Coral Prints Mist Blue/Green, Nautical p...</td>\n",
       "      <td>82.00</td>\n",
       "      <td>[{\"size_options\":\"Select a size\\n             ...</td>\n",
       "      <td>0</td>\n",
       "      <td>0</td>\n",
       "      <td>0</td>\n",
       "      <td>1</td>\n",
       "      <td>0</td>\n",
       "      <td>0</td>\n",
       "      <td>0</td>\n",
       "      <td>0</td>\n",
       "      <td>0</td>\n",
       "      <td>0</td>\n",
       "      <td>0</td>\n",
       "    </tr>\n",
       "    <tr>\n",
       "      <th>3</th>\n",
       "      <td>Whale nursery art. Whale Rider print</td>\n",
       "      <td>20.00</td>\n",
       "      <td>[{\"size_options\":\"Select a size\\n             ...</td>\n",
       "      <td>0</td>\n",
       "      <td>0</td>\n",
       "      <td>0</td>\n",
       "      <td>0</td>\n",
       "      <td>0</td>\n",
       "      <td>0</td>\n",
       "      <td>0</td>\n",
       "      <td>0</td>\n",
       "      <td>0</td>\n",
       "      <td>0</td>\n",
       "      <td>0</td>\n",
       "    </tr>\n",
       "    <tr>\n",
       "      <th>4</th>\n",
       "      <td>Valentine's Day Copper Rose / Seventh Annivers...</td>\n",
       "      <td>160.00</td>\n",
       "      <td>[{\"size_options\":\"Select an option\\n          ...</td>\n",
       "      <td>0</td>\n",
       "      <td>0</td>\n",
       "      <td>0</td>\n",
       "      <td>0</td>\n",
       "      <td>0</td>\n",
       "      <td>0</td>\n",
       "      <td>0</td>\n",
       "      <td>0</td>\n",
       "      <td>0</td>\n",
       "      <td>0</td>\n",
       "      <td>0</td>\n",
       "    </tr>\n",
       "    <tr>\n",
       "      <th>...</th>\n",
       "      <td>...</td>\n",
       "      <td>...</td>\n",
       "      <td>...</td>\n",
       "      <td>...</td>\n",
       "      <td>...</td>\n",
       "      <td>...</td>\n",
       "      <td>...</td>\n",
       "      <td>...</td>\n",
       "      <td>...</td>\n",
       "      <td>...</td>\n",
       "      <td>...</td>\n",
       "      <td>...</td>\n",
       "      <td>...</td>\n",
       "      <td>...</td>\n",
       "    </tr>\n",
       "    <tr>\n",
       "      <th>1048</th>\n",
       "      <td>Yellow Leopard 20oz Tumbler Sublimation Wrap,G...</td>\n",
       "      <td>4.80</td>\n",
       "      <td>[]</td>\n",
       "      <td>0</td>\n",
       "      <td>0</td>\n",
       "      <td>0</td>\n",
       "      <td>0</td>\n",
       "      <td>0</td>\n",
       "      <td>0</td>\n",
       "      <td>0</td>\n",
       "      <td>0</td>\n",
       "      <td>0</td>\n",
       "      <td>0</td>\n",
       "      <td>0</td>\n",
       "    </tr>\n",
       "    <tr>\n",
       "      <th>1049</th>\n",
       "      <td>Tropical Little Thing Mini Crab, Driftwood Wal...</td>\n",
       "      <td>150.00</td>\n",
       "      <td>[]</td>\n",
       "      <td>0</td>\n",
       "      <td>0</td>\n",
       "      <td>0</td>\n",
       "      <td>0</td>\n",
       "      <td>0</td>\n",
       "      <td>0</td>\n",
       "      <td>0</td>\n",
       "      <td>0</td>\n",
       "      <td>0</td>\n",
       "      <td>0</td>\n",
       "      <td>1</td>\n",
       "    </tr>\n",
       "    <tr>\n",
       "      <th>1050</th>\n",
       "      <td>Fall Pumpkin Mug Sublimation, Watercolor Flora...</td>\n",
       "      <td>2.00</td>\n",
       "      <td>[]</td>\n",
       "      <td>1</td>\n",
       "      <td>0</td>\n",
       "      <td>0</td>\n",
       "      <td>0</td>\n",
       "      <td>0</td>\n",
       "      <td>0</td>\n",
       "      <td>0</td>\n",
       "      <td>0</td>\n",
       "      <td>0</td>\n",
       "      <td>0</td>\n",
       "      <td>0</td>\n",
       "    </tr>\n",
       "    <tr>\n",
       "      <th>1051</th>\n",
       "      <td>Pheasant Art Print Giclee Limited Edition</td>\n",
       "      <td>39.89</td>\n",
       "      <td>[]</td>\n",
       "      <td>0</td>\n",
       "      <td>0</td>\n",
       "      <td>0</td>\n",
       "      <td>1</td>\n",
       "      <td>0</td>\n",
       "      <td>0</td>\n",
       "      <td>0</td>\n",
       "      <td>0</td>\n",
       "      <td>0</td>\n",
       "      <td>0</td>\n",
       "      <td>0</td>\n",
       "    </tr>\n",
       "    <tr>\n",
       "      <th>1052</th>\n",
       "      <td>Rabbit Print - Spring Decor, Watercolor Rabbit...</td>\n",
       "      <td>14.00</td>\n",
       "      <td>[{\"size_options\":\"Select a size\\n             ...</td>\n",
       "      <td>1</td>\n",
       "      <td>0</td>\n",
       "      <td>0</td>\n",
       "      <td>1</td>\n",
       "      <td>0</td>\n",
       "      <td>1</td>\n",
       "      <td>1</td>\n",
       "      <td>0</td>\n",
       "      <td>0</td>\n",
       "      <td>0</td>\n",
       "      <td>0</td>\n",
       "    </tr>\n",
       "  </tbody>\n",
       "</table>\n",
       "<p>1053 rows × 14 columns</p>\n",
       "</div>"
      ],
      "text/plain": [
       "                                                   name  min_price  \\\n",
       "0     Pastel Art, Mint Green Wall Art, Mint Green Ar...       6.00   \n",
       "1     San Francisco Print, Golden Gate Bridge Wall A...      18.00   \n",
       "2     Set 4 Coral Prints Mist Blue/Green, Nautical p...      82.00   \n",
       "3                  Whale nursery art. Whale Rider print      20.00   \n",
       "4     Valentine's Day Copper Rose / Seventh Annivers...     160.00   \n",
       "...                                                 ...        ...   \n",
       "1048  Yellow Leopard 20oz Tumbler Sublimation Wrap,G...       4.80   \n",
       "1049  Tropical Little Thing Mini Crab, Driftwood Wal...     150.00   \n",
       "1050  Fall Pumpkin Mug Sublimation, Watercolor Flora...       2.00   \n",
       "1051          Pheasant Art Print Giclee Limited Edition      39.89   \n",
       "1052  Rabbit Print - Spring Decor, Watercolor Rabbit...      14.00   \n",
       "\n",
       "                                           size_options  Watercolor  Portrait  \\\n",
       "0                                                    []           1         0   \n",
       "1     [{\"size_options\":\"Select an option\\n          ...           0         0   \n",
       "2     [{\"size_options\":\"Select a size\\n             ...           0         0   \n",
       "3     [{\"size_options\":\"Select a size\\n             ...           0         0   \n",
       "4     [{\"size_options\":\"Select an option\\n          ...           0         0   \n",
       "...                                                 ...         ...       ...   \n",
       "1048                                                 []           0         0   \n",
       "1049                                                 []           0         0   \n",
       "1050                                                 []           1         0   \n",
       "1051                                                 []           0         0   \n",
       "1052  [{\"size_options\":\"Select a size\\n             ...           1         0   \n",
       "\n",
       "      Pet  Print  Family  Paint  Painting  Nature  Custom  Abstract  House  \n",
       "0       0      1       0      0         0       0       0         1      0  \n",
       "1       0      1       0      0         0       0       0         0      0  \n",
       "2       0      1       0      0         0       0       0         0      0  \n",
       "3       0      0       0      0         0       0       0         0      0  \n",
       "4       0      0       0      0         0       0       0         0      0  \n",
       "...   ...    ...     ...    ...       ...     ...     ...       ...    ...  \n",
       "1048    0      0       0      0         0       0       0         0      0  \n",
       "1049    0      0       0      0         0       0       0         0      1  \n",
       "1050    0      0       0      0         0       0       0         0      0  \n",
       "1051    0      1       0      0         0       0       0         0      0  \n",
       "1052    0      1       0      1         1       0       0         0      0  \n",
       "\n",
       "[1053 rows x 14 columns]"
      ]
     },
     "execution_count": 17,
     "metadata": {},
     "output_type": "execute_result"
    }
   ],
   "source": [
    "data"
   ]
  },
  {
   "cell_type": "code",
   "execution_count": 18,
   "metadata": {},
   "outputs": [],
   "source": [
    "# the regex patterns to match\n",
    "prices_pattern = re.compile('\\$(.+?)\\)')\n",
    "\n",
    "pattern_nothing = r'(\\d+)x(\\d+)'\n",
    "pattern_nothing_dec = r'(\\d+(\\.\\d+)?x\\d+(\\.\\d+)?)'\n",
    "pattern_space_nothing = r'(\\d+) x (\\d+)'\n",
    "\n",
    "pattern_space_space_inches = r'(\\d+) x (\\d+)(?= in)'\n",
    "pattern_space_inches = r'(\\d+)?x(\\d+)(?= in)'\n",
    "pattern_inches = r'(\\d+)x(\\d+)(?=in)'\n",
    "pattern_space_space_inches_dec = r'(\\d+(\\.\\d+)?) x (\\d+(\\.\\d+)?(?= in))'\n",
    "pattern_space_inches_dec = r'(\\d+(\\.\\d+)?x\\d+(\\.\\d+)?(?= in))'\n",
    "pattern_inches_dec = r'(\\d+(\\.\\d+)?x\\d+(\\.\\d+)?(?=in))'\n",
    "\n",
    "pattern_space_space_cm = r'(\\d+) x (\\d+)(?= cm)'\n",
    "pattern_space_cm = r'(\\d+)?x(\\d+)(?= cm)'\n",
    "pattern_cm = r'(\\d+)x(\\d+)(?=cm)'\n",
    "pattern_space_space_cm_dec = r'(\\d+(\\.\\d+)?) x (\\d+(\\.\\d+)?(?= cm))'\n",
    "pattern_space_cm_dec = r'(\\d+(\\.\\d+)?x\\d+(\\.\\d+)?(?= cm))'\n",
    "pattern_cm_dec = r'(\\d+(\\.\\d+)?x\\d+(\\.\\d+)?(?=cm))'\n",
    "\n",
    "weird_pattern = r'(\\d+)\\\\\" x (\\d+)\\\\\"'\n",
    "\n",
    "# initialize empty lists\n",
    "prices = []\n",
    "sizes = []\n",
    "inches = []"
   ]
  },
  {
   "cell_type": "code",
   "execution_count": 19,
   "metadata": {},
   "outputs": [],
   "source": [
    "#iterate through each listing to get a list of the size/price options\n",
    "for text in data['size_options']:\n",
    "    \n",
    "    # find all possible matches in the input string\n",
    "    nothing_matches = re.findall(pattern_nothing, text)\n",
    "    nothing_matches_dec = re.findall(pattern_nothing_dec, text)\n",
    "    sp_nothing_matches = re.findall(pattern_space_nothing, text)\n",
    "    \n",
    "    spsp_inches_matches = re.findall(pattern_space_space_inches, text)\n",
    "    sp_inches_matches = re.findall(pattern_space_inches, text)\n",
    "    inches_matches = re.findall(pattern_inches, text)\n",
    "    spsp_inches_matches_dec = re.findall(pattern_space_space_inches_dec, text)\n",
    "    sp_inches_matches_dec = re.findall(pattern_space_inches_dec, text)\n",
    "    inches_matches_dec = re.findall(pattern_inches_dec, text)\n",
    "    \n",
    "    spsp_cm_matches = re.findall(pattern_space_space_cm, text)\n",
    "    sp_cm_matches = re.findall(pattern_space_cm, text)\n",
    "    cm_matches = re.findall(pattern_cm, text)\n",
    "    spsp_cm_matches_dec = re.findall(pattern_space_space_cm_dec, text)\n",
    "    sp_cm_matches_dec = re.findall(pattern_space_cm_dec, text)\n",
    "    cm_matches_dec = re.findall(pattern_cm_dec, text)\n",
    "    \n",
    "    weird_matches = re.findall(weird_pattern, text)\n",
    "    \n",
    "    price_matches = re.findall(prices_pattern, text)\n",
    "    \n",
    "    # append current listing's list to temporary list    \n",
    "    if (not not spsp_inches_matches):\n",
    "        sizes.append(spsp_inches_matches)\n",
    "        inches.append(1)\n",
    "    elif (not not sp_inches_matches):\n",
    "        sizes.append(sp_inches_matches)\n",
    "        inches.append(1)\n",
    "    elif (not not inches_matches):\n",
    "        sizes.append(inches_matches)\n",
    "        inches.append(1)\n",
    "        \n",
    "    elif (not not spsp_inches_matches_dec):\n",
    "        sizes.append([(float(match[0]), float(match[2])) for match in spsp_inches_matches_dec])\n",
    "        inches.append(1)\n",
    "    elif (not not sp_inches_matches_dec):\n",
    "        sizes.append([(float(match[0]), float(match[2])) for match in sp_inches_matches_dec])\n",
    "        inches.append(1)\n",
    "    elif (not not inches_matches_dec):\n",
    "        sizes.append([(float(match[0]), float(match[2])) for match in inches_matches_dec])\n",
    "        inches.append(1)\n",
    "        \n",
    "        \n",
    "    elif (not not weird_matches):\n",
    "        sizes.append(weird_matches)\n",
    "        inches.append(1)\n",
    "       \n",
    "        \n",
    "    elif (not not spsp_cm_matches):\n",
    "        sizes.append(spsp_cm_matches) \n",
    "        inches.append(0)\n",
    "    elif (not not sp_cm_matches):\n",
    "        sizes.append(sp_cm_matches)\n",
    "        inches.append(0)\n",
    "    elif (not not cm_matches):\n",
    "        sizes.append(cm_matches)\n",
    "        inches.append(0)\n",
    "        \n",
    "    elif (not not spsp_cm_matches_dec):\n",
    "        sizes.append([(float(match[0]), float(match[2])) for match in spsp_cm_matches_dec])\n",
    "        inches.append(0)\n",
    "    elif (not not sp_cm_matches_dec):\n",
    "        sizes.append([(float(match[0]), float(match[2])) for match in sp_cm_matches_dec])\n",
    "        inches.append(0)\n",
    "    elif (not not cm_matches_dec):\n",
    "        sizes.append([(float(match[0]), float(match[2])) for match in cm_matches_dec])\n",
    "        inches.append(0)\n",
    "    \n",
    "    \n",
    "    elif (not not nothing_matches):\n",
    "        sizes.append(nothing_matches)\n",
    "        inches.append(1)\n",
    "    elif (not not nothing_matches_dec):\n",
    "        sizes.append([(float(match[0]), float(match[2])) for match in nothing_matches_dec])\n",
    "        inches.append(1)\n",
    "    elif (not not sp_nothing_matches):\n",
    "        sizes.append(sp_nothing_matches)\n",
    "        inches.append(1)\n",
    "        \n",
    "    else:\n",
    "        sizes.append(np.nan)\n",
    "        inches.append(np.nan)\n",
    "    \n",
    "    if (not not price_matches):\n",
    "        prices.append(price_matches)\n",
    "    else:\n",
    "        prices.append(np.nan)\n",
    "    \n",
    "# add new column on data with list of prices\n",
    "data['prices'] = prices\n",
    "data['sizes'] = sizes\n",
    "data['inches'] = inches\n",
    "\n",
    "# drop old column\n",
    "# data.drop(data['size_options'])"
   ]
  },
  {
   "cell_type": "code",
   "execution_count": 20,
   "metadata": {},
   "outputs": [
    {
     "name": "stdout",
     "output_type": "stream",
     "text": [
      "342\n"
     ]
    }
   ],
   "source": [
    "print(data['sizes'].dropna().count())"
   ]
  },
  {
   "cell_type": "code",
   "execution_count": 21,
   "metadata": {},
   "outputs": [],
   "source": [
    "data_sizes = data.dropna(subset=['sizes', 'prices'])\n",
    "data_sizes = data_sizes.reset_index(drop=False)\n",
    "# data_sizes"
   ]
  },
  {
   "cell_type": "markdown",
   "metadata": {},
   "source": [
    "## Clean prices"
   ]
  },
  {
   "cell_type": "code",
   "execution_count": 22,
   "metadata": {},
   "outputs": [
    {
     "data": {
      "text/html": [
       "<div>\n",
       "<style scoped>\n",
       "    .dataframe tbody tr th:only-of-type {\n",
       "        vertical-align: middle;\n",
       "    }\n",
       "\n",
       "    .dataframe tbody tr th {\n",
       "        vertical-align: top;\n",
       "    }\n",
       "\n",
       "    .dataframe thead th {\n",
       "        text-align: right;\n",
       "    }\n",
       "</style>\n",
       "<table border=\"1\" class=\"dataframe\">\n",
       "  <thead>\n",
       "    <tr style=\"text-align: right;\">\n",
       "      <th></th>\n",
       "      <th>index</th>\n",
       "      <th>name</th>\n",
       "      <th>min_price</th>\n",
       "      <th>size_options</th>\n",
       "      <th>Watercolor</th>\n",
       "      <th>Portrait</th>\n",
       "      <th>Pet</th>\n",
       "      <th>Print</th>\n",
       "      <th>Family</th>\n",
       "      <th>Paint</th>\n",
       "      <th>Painting</th>\n",
       "      <th>Nature</th>\n",
       "      <th>Custom</th>\n",
       "      <th>Abstract</th>\n",
       "      <th>House</th>\n",
       "      <th>prices</th>\n",
       "      <th>sizes</th>\n",
       "      <th>inches</th>\n",
       "    </tr>\n",
       "  </thead>\n",
       "  <tbody>\n",
       "    <tr>\n",
       "      <th>336</th>\n",
       "      <td>1042</td>\n",
       "      <td>Kangaroo Art Print - Rustic Australian Interio...</td>\n",
       "      <td>19.0</td>\n",
       "      <td>[{\"size_options\":\"Select a size\\n             ...</td>\n",
       "      <td>0</td>\n",
       "      <td>0</td>\n",
       "      <td>0</td>\n",
       "      <td>1</td>\n",
       "      <td>0</td>\n",
       "      <td>0</td>\n",
       "      <td>0</td>\n",
       "      <td>0</td>\n",
       "      <td>0</td>\n",
       "      <td>0</td>\n",
       "      <td>0</td>\n",
       "      <td>[19.00 - $22.00, 29.00 - $32.00, 39.00 - $42.0...</td>\n",
       "      <td>[(8, 10), (12, 16), (16, 20), (18, 24), (24, 3...</td>\n",
       "      <td>1.0</td>\n",
       "    </tr>\n",
       "  </tbody>\n",
       "</table>\n",
       "</div>"
      ],
      "text/plain": [
       "     index                                               name  min_price  \\\n",
       "336   1042  Kangaroo Art Print - Rustic Australian Interio...       19.0   \n",
       "\n",
       "                                          size_options  Watercolor  Portrait  \\\n",
       "336  [{\"size_options\":\"Select a size\\n             ...           0         0   \n",
       "\n",
       "     Pet  Print  Family  Paint  Painting  Nature  Custom  Abstract  House  \\\n",
       "336    0      1       0      0         0       0       0         0      0   \n",
       "\n",
       "                                                prices  \\\n",
       "336  [19.00 - $22.00, 29.00 - $32.00, 39.00 - $42.0...   \n",
       "\n",
       "                                                 sizes  inches  \n",
       "336  [(8, 10), (12, 16), (16, 20), (18, 24), (24, 3...     1.0  "
      ]
     },
     "execution_count": 22,
     "metadata": {},
     "output_type": "execute_result"
    }
   ],
   "source": [
    "data_sizes.loc[data_sizes['index'] == 1042]"
   ]
  },
  {
   "cell_type": "code",
   "execution_count": 23,
   "metadata": {},
   "outputs": [
    {
     "data": {
      "text/plain": [
       "'[{\"size_options\":\"Select a size\\\\n                \\\\n                \\\\n                        5x7\\\\\" ($12.13)\\\\n                \\\\n                \\\\n                        A5 ($12.13)\\\\n                \\\\n                \\\\n                        8x10\\\\\" ($24.25)\\\\n                \\\\n                \\\\n                        A4 ($24.25)\\\\n                \\\\n                \\\\n                        11x14\\\\\" ($48.50)\\\\n                \\\\n                \\\\n                        A3 ($48.50)\"}]'"
      ]
     },
     "execution_count": 23,
     "metadata": {},
     "output_type": "execute_result"
    }
   ],
   "source": [
    "data_sizes.iloc[237]['size_options']"
   ]
  },
  {
   "cell_type": "code",
   "execution_count": 24,
   "metadata": {},
   "outputs": [
    {
     "data": {
      "text/plain": [
       "['18.00',\n",
       " '36.00',\n",
       " '56.00',\n",
       " '71.00',\n",
       " '102.00',\n",
       " '128.00',\n",
       " '138.00',\n",
       " '153.00',\n",
       " '163.00']"
      ]
     },
     "execution_count": 24,
     "metadata": {},
     "output_type": "execute_result"
    }
   ],
   "source": [
    "data_sizes['prices'].iloc[0]"
   ]
  },
  {
   "cell_type": "code",
   "execution_count": 25,
   "metadata": {},
   "outputs": [],
   "source": [
    "# get rid of commas and ranges in prices, and convert to floats\n",
    "price_list = []\n",
    "for i in range(len(data_sizes)):\n",
    "    # get rid of ranged prices\n",
    "    temp_prices = []\n",
    "    for j in range(len(data_sizes['prices'].iloc[i])):\n",
    "        if ('-' in data_sizes['prices'].iloc[i][j]):\n",
    "            temp_prices.append(data_sizes['prices'].iloc[i][j].split()[0])\n",
    "        else:\n",
    "            temp_prices.append(data_sizes['prices'].iloc[i][j])\n",
    "    price_list.append(temp_prices)\n",
    "        \n",
    "    # get rid of commas in prices\n",
    "    for j in range(len(price_list[i])):\n",
    "        if (',' in price_list[i][j]):\n",
    "            price_list[i][j] = price_list[i][j].replace(',', '')\n",
    "        \n",
    "# convert to floats\n",
    "price_list_float = []\n",
    "\n",
    "for ilist in price_list:\n",
    "    temp_list = []\n",
    "    if type(ilist) is list:\n",
    "        for string in ilist:\n",
    "            temp_list.append(float(string))\n",
    "    else:\n",
    "        temp_list.append(float(ilist))\n",
    "    price_list_float.append(temp_list)\n",
    "    \n",
    "# print(price_list_float)\n",
    "data_sizes['prices'] = price_list_float"
   ]
  },
  {
   "cell_type": "markdown",
   "metadata": {},
   "source": [
    "## Create new features"
   ]
  },
  {
   "cell_type": "code",
   "execution_count": 26,
   "metadata": {},
   "outputs": [],
   "source": [
    "# convert cm to inches\n",
    "cm_to_inch_conv = 2.54\n",
    "sizes_list = []\n",
    "for i in range(len(data_sizes)):\n",
    "    # if the size is currently in cm\n",
    "    if (data_sizes['inches'].iloc[i] == 0):\n",
    "        temp_sizes = []\n",
    "        for j in range(len(data_sizes['sizes'].iloc[i])):\n",
    "            width_in = float(data_sizes['sizes'].iloc[i][j][0]) / cm_to_inch_conv\n",
    "            height_in = float(data_sizes['sizes'].iloc[i][j][1]) / cm_to_inch_conv\n",
    "            temp_sizes.append((width_in, height_in))\n",
    "        sizes_list.append(temp_sizes)\n",
    "            \n",
    "    else:\n",
    "        sizes_list.append(data_sizes['sizes'].iloc[i])\n",
    "# sizes_list\n",
    "data_sizes['sizes_in'] = sizes_list"
   ]
  },
  {
   "cell_type": "code",
   "execution_count": 27,
   "metadata": {},
   "outputs": [
    {
     "data": {
      "text/plain": [
       "0      [18.0, 36.0, 56.0, 71.0, 102.0, 128.0, 138.0, ...\n",
       "1      [82.0, 128.0, 178.0, 336.0, 448.0, 564.0, 628....\n",
       "2                                     [40.0, 30.0, 20.0]\n",
       "3                          [33.23, 44.68, 91.66, 126.03]\n",
       "4      [38.25, 52.7, 52.7, 57.8, 57.8, 68.85, 68.85, ...\n",
       "                             ...                        \n",
       "335       [13.6, 25.5, 42.5, 51.0, 76.5, 114.75, 148.75]\n",
       "336           [19.0, 29.0, 39.0, 49.0, 59.0, 59.0, 69.0]\n",
       "337           [49.5, 64.8, 79.2, 81.0, 49.5, 64.8, 81.0]\n",
       "338                                  [48.0, 125.0, 22.0]\n",
       "339                                   [14.0, 19.0, 24.0]\n",
       "Name: prices, Length: 340, dtype: object"
      ]
     },
     "execution_count": 27,
     "metadata": {},
     "output_type": "execute_result"
    }
   ],
   "source": [
    "data_sizes['prices']"
   ]
  },
  {
   "cell_type": "code",
   "execution_count": 28,
   "metadata": {},
   "outputs": [],
   "source": [
    "# create area lists\n",
    "areas_list = []\n",
    "for i in range(len(data_sizes)):\n",
    "    \n",
    "    temp_areas = []\n",
    "    for j in range(len(data_sizes['sizes_in'].iloc[i])):\n",
    "        width_in = float(data_sizes['sizes_in'].iloc[i][j][0])\n",
    "        height_in = float(data_sizes['sizes_in'].iloc[i][j][1])\n",
    "        temp_areas.append(width_in * height_in)\n",
    "    areas_list.append(temp_areas)\n",
    "    \n",
    "data_sizes['areas'] = areas_list\n",
    "    "
   ]
  },
  {
   "cell_type": "code",
   "execution_count": 29,
   "metadata": {},
   "outputs": [
    {
     "data": {
      "text/plain": [
       "0      [35.0, 80.0, 154.0, 192.0, 320.0, 480.0, 600.0...\n",
       "1      [35.0, 80.0, 154.0, 320.0, 432.0, 864.0, 320.0...\n",
       "2                                    [154.0, 80.0, 35.0]\n",
       "3      [223.2004464008928, 542.50108500217, 1085.0021...\n",
       "4      [35.0, 80.0, 88.0, 154.0, 176.0, 192.0, 216.0,...\n",
       "                             ...                        \n",
       "335      [35.0, 80.0, 154.0, 192.0, 320.0, 480.0, 720.0]\n",
       "336    [80.0, 192.0, 320.0, 432.0, 768.0, 864.0, 1200.0]\n",
       "337                           [35.0, 80.0, 154.0, 192.0]\n",
       "338                                       [216.0, 600.0]\n",
       "339                                  [35.0, 80.0, 154.0]\n",
       "Name: areas, Length: 340, dtype: object"
      ]
     },
     "execution_count": 29,
     "metadata": {},
     "output_type": "execute_result"
    }
   ],
   "source": [
    "data_sizes['areas']"
   ]
  },
  {
   "cell_type": "code",
   "execution_count": 30,
   "metadata": {},
   "outputs": [
    {
     "data": {
      "text/plain": [
       "'[{\"size_options\":\"Select a size\\\\n                \\\\n                \\\\n                        11x14 inches ($40.00)\\\\n                \\\\n                \\\\n                        8x10 inches ($30.00)\\\\n                \\\\n                \\\\n                        5x7 inches ($20.00)\"}]'"
      ]
     },
     "execution_count": 30,
     "metadata": {},
     "output_type": "execute_result"
    }
   ],
   "source": [
    "data_sizes['size_options'][2]"
   ]
  },
  {
   "cell_type": "code",
   "execution_count": 31,
   "metadata": {},
   "outputs": [
    {
     "data": {
      "text/plain": [
       "[154.0, 80.0, 35.0]"
      ]
     },
     "execution_count": 31,
     "metadata": {},
     "output_type": "execute_result"
    }
   ],
   "source": [
    "data_sizes['areas'][2]"
   ]
  },
  {
   "cell_type": "code",
   "execution_count": 32,
   "metadata": {},
   "outputs": [],
   "source": [
    "# calculate price per square inch (ppsi)\n",
    "ppsi_list = []\n",
    "for i in range(len(data_sizes)):\n",
    "    \n",
    "    temp_ppsis = []\n",
    "    \n",
    "    if (len(data_sizes['prices'][i]) == len(data_sizes['areas'][i])):\n",
    "        \n",
    "        for j in range(len(data_sizes['prices'].iloc[i])):\n",
    "            temp_ppsis.append(data_sizes['prices'].iloc[i][j] / data_sizes['areas'].iloc[i][j])\n",
    "            \n",
    "        ppsi_list.append(temp_ppsis)\n",
    "        \n",
    "    else:\n",
    "        ppsi_list.append(np.nan)\n",
    "    \n",
    "data_sizes['ppsi'] = ppsi_list"
   ]
  },
  {
   "cell_type": "code",
   "execution_count": 33,
   "metadata": {},
   "outputs": [
    {
     "data": {
      "text/plain": [
       "[0.2597402597402597, 0.375, 0.5714285714285714]"
      ]
     },
     "execution_count": 33,
     "metadata": {},
     "output_type": "execute_result"
    }
   ],
   "source": [
    "data_sizes['ppsi'][2]"
   ]
  },
  {
   "cell_type": "code",
   "execution_count": 34,
   "metadata": {},
   "outputs": [
    {
     "data": {
      "text/plain": [
       "[('5', '7'),\n",
       " ('8', '10'),\n",
       " ('14', '11'),\n",
       " ('16', '20'),\n",
       " ('18', '24'),\n",
       " ('24', '36'),\n",
       " ('16', '20'),\n",
       " ('16', '20'),\n",
       " ('11', '14'),\n",
       " ('18', '24'),\n",
       " ('28', '40')]"
      ]
     },
     "execution_count": 34,
     "metadata": {},
     "output_type": "execute_result"
    }
   ],
   "source": [
    "data_sizes['sizes'].iloc[1]"
   ]
  },
  {
   "cell_type": "markdown",
   "metadata": {},
   "source": [
    "# Data Exploration"
   ]
  },
  {
   "cell_type": "code",
   "execution_count": 35,
   "metadata": {},
   "outputs": [],
   "source": [
    "# sns.heatmap(data_num_int.corr())"
   ]
  },
  {
   "cell_type": "code",
   "execution_count": 36,
   "metadata": {},
   "outputs": [],
   "source": [
    "# plt.hist(data.query('min_price < 50')['min_price'])"
   ]
  },
  {
   "cell_type": "code",
   "execution_count": 37,
   "metadata": {},
   "outputs": [],
   "source": [
    "data_cheap = data.query('min_price < 100')\n",
    "data_expensive = data.query('min_price > 100')"
   ]
  },
  {
   "cell_type": "code",
   "execution_count": 38,
   "metadata": {},
   "outputs": [],
   "source": [
    "# plt.hist(data_cheap['min_price'])"
   ]
  },
  {
   "cell_type": "code",
   "execution_count": 39,
   "metadata": {},
   "outputs": [],
   "source": [
    "# plt.hist(data_expensive['min_price'])"
   ]
  },
  {
   "cell_type": "markdown",
   "metadata": {},
   "source": [
    "## Histograms of individual categories"
   ]
  },
  {
   "cell_type": "code",
   "execution_count": 40,
   "metadata": {},
   "outputs": [
    {
     "data": {
      "text/plain": [
       "(array([2., 0., 0., 0., 2., 1., 1., 1., 1., 1.]),\n",
       " array([ 6.75 , 11.575, 16.4  , 21.225, 26.05 , 30.875, 35.7  , 40.525,\n",
       "        45.35 , 50.175, 55.   ]),\n",
       " <BarContainer object of 10 artists>)"
      ]
     },
     "execution_count": 40,
     "metadata": {},
     "output_type": "execute_result"
    },
    {
     "data": {
      "image/png": "[encoded data removed]",
      "text/plain": [
       "<Figure size 640x480 with 1 Axes>"
      ]
     },
     "metadata": {},
     "output_type": "display_data"
    }
   ],
   "source": [
    "plt.hist(data.query('Pet == 1')['min_price'])"
   ]
  },
  {
   "cell_type": "code",
   "execution_count": 41,
   "metadata": {},
   "outputs": [
    {
     "data": {
      "text/plain": [
       "(array([34., 20., 19.,  5.,  3.,  0.,  0.,  1.,  0.,  2.]),\n",
       " array([ 2.   , 11.777, 21.554, 31.331, 41.108, 50.885, 60.662, 70.439,\n",
       "        80.216, 89.993, 99.77 ]),\n",
       " <BarContainer object of 10 artists>)"
      ]
     },
     "execution_count": 41,
     "metadata": {},
     "output_type": "execute_result"
    },
    {
     "data": {
      "image/png": "[encoded data removed]",
      "text/plain": [
       "<Figure size 640x480 with 1 Axes>"
      ]
     },
     "metadata": {},
     "output_type": "display_data"
    }
   ],
   "source": [
    "plt.hist(data_cheap.query('Watercolor == 1')['min_price'])"
   ]
  },
  {
   "cell_type": "code",
   "execution_count": 42,
   "metadata": {},
   "outputs": [
    {
     "data": {
      "text/plain": [
       "(array([19., 11., 11.,  5.,  5.,  2.,  2.,  1.,  0.,  3.]),\n",
       " array([ 3.54 , 13.163, 22.786, 32.409, 42.032, 51.655, 61.278, 70.901,\n",
       "        80.524, 90.147, 99.77 ]),\n",
       " <BarContainer object of 10 artists>)"
      ]
     },
     "execution_count": 42,
     "metadata": {},
     "output_type": "execute_result"
    },
    {
     "data": {
      "image/png": "[encoded data removed]",
      "text/plain": [
       "<Figure size 640x480 with 1 Axes>"
      ]
     },
     "metadata": {},
     "output_type": "display_data"
    }
   ],
   "source": [
    "plt.hist(data_cheap.query('Paint == 1')['min_price'])"
   ]
  },
  {
   "cell_type": "markdown",
   "metadata": {},
   "source": [
    "## Cheap listing exploration (< $100)"
   ]
  },
  {
   "cell_type": "code",
   "execution_count": 43,
   "metadata": {},
   "outputs": [
    {
     "name": "stdout",
     "output_type": "stream",
     "text": [
      "Paint 59\n",
      "Watercolor 84\n",
      "Print 480\n",
      "Portrait 25\n",
      "Custom 37\n",
      "House 24\n",
      "Abstract 69\n",
      "Total number of listings above $100: 939\n"
     ]
    }
   ],
   "source": [
    "category_list = ['Paint', 'Watercolor', 'Print', 'Portrait', 'Custom', 'House', 'Abstract']\n",
    "for caty in category_list:\n",
    "    print(caty, len(data_cheap.query('{0} == 1'.format(caty))))\n",
    "print('Total number of listings above $100:', len(data_cheap))"
   ]
  },
  {
   "cell_type": "code",
   "execution_count": 44,
   "metadata": {},
   "outputs": [],
   "source": [
    "# caty = 'Pet'\n",
    "# np.mean(data_cheap.query('{0} == 1'.format(caty))['min_price'])"
   ]
  },
  {
   "cell_type": "markdown",
   "metadata": {},
   "source": [
    "### Visualization"
   ]
  },
  {
   "cell_type": "code",
   "execution_count": 45,
   "metadata": {},
   "outputs": [
    {
     "data": {
      "image/png": "[encoded data removed]",
      "text/plain": [
       "<Figure size 1500x300 with 1 Axes>"
      ]
     },
     "metadata": {},
     "output_type": "display_data"
    },
    {
     "data": {
      "image/png": "[encoded data removed]",
      "text/plain": [
       "<Figure size 1500x300 with 1 Axes>"
      ]
     },
     "metadata": {},
     "output_type": "display_data"
    }
   ],
   "source": [
    "category_list = ['Paint', 'Watercolor', 'Print', 'Portrait', 'Pet', 'Custom', 'House', 'Nature', 'Abstract']\n",
    "scripts_explore.bar_plot_categories_mean(data_cheap, category_list)\n",
    "scripts_explore.bar_plot_categories_median(data_cheap, category_list)"
   ]
  },
  {
   "cell_type": "markdown",
   "metadata": {},
   "source": [
    "Key takeaways:\n",
    "- Highest averages include: paintings, portraits, art of pets, and art of houses\n",
    "- Highest medians include: portraits, art of pets, custom art, and art of houses\n",
    "- Lowest averages and medians include: watercolors, prints, natures, and abstracts\n",
    "- Average (minimum*) price of an art listing is roughly $23 and median is #18"
   ]
  },
  {
   "cell_type": "markdown",
   "metadata": {},
   "source": [
    "## Expensive listings exploration (> $100)"
   ]
  },
  {
   "cell_type": "code",
   "execution_count": 46,
   "metadata": {},
   "outputs": [
    {
     "name": "stdout",
     "output_type": "stream",
     "text": [
      "Paint 17\n",
      "Watercolor 5\n",
      "Print 15\n",
      "Portrait 6\n",
      "Custom 8\n",
      "House 2\n",
      "Abstract 12\n",
      "Total number of listings above $100: 111\n"
     ]
    }
   ],
   "source": [
    "category_list = ['Paint', 'Watercolor', 'Print', 'Portrait', 'Custom', 'House', 'Abstract']\n",
    "for caty in category_list:\n",
    "    print(caty, len(data_expensive.query('{0} == 1'.format(caty))))\n",
    "print('Total number of listings above $100:', len(data_expensive))"
   ]
  },
  {
   "cell_type": "markdown",
   "metadata": {},
   "source": [
    "There are very few listings above $100 (111), so we need to be careful about any observations we make regarding that portion of the data."
   ]
  },
  {
   "cell_type": "code",
   "execution_count": 47,
   "metadata": {},
   "outputs": [
    {
     "data": {
      "image/png": "[encoded data removed]",
      "text/plain": [
       "<Figure size 1500x300 with 1 Axes>"
      ]
     },
     "metadata": {},
     "output_type": "display_data"
    },
    {
     "data": {
      "image/png": "[encoded data removed]",
      "text/plain": [
       "<Figure size 1500x300 with 1 Axes>"
      ]
     },
     "metadata": {},
     "output_type": "display_data"
    }
   ],
   "source": [
    "category_list = ['Paint', 'Watercolor', 'Print', 'Portrait', 'Custom', 'House', 'Abstract']\n",
    "scripts_explore.bar_plot_categories_mean(data_expensive, category_list)\n",
    "scripts_explore.bar_plot_categories_median(data_expensive, category_list)"
   ]
  },
  {
   "cell_type": "markdown",
   "metadata": {},
   "source": [
    "Key takeaways:\n",
    "- Highest averages include: paintings, portraits, and custom art\n",
    "- Highest medians include: paintings, portraits, and custom art\n",
    "- Lowest averages and medians include: watercolors, prints, house are and abstracts\n",
    "- Average (minimum*) price of an expensive art listing is roughly $600 and median is $320"
   ]
  },
  {
   "cell_type": "markdown",
   "metadata": {},
   "source": [
    "After noticing the average is much higher than any of our categorys' averages, I decide to check out what the other very expensive listings are"
   ]
  },
  {
   "cell_type": "code",
   "execution_count": 48,
   "metadata": {},
   "outputs": [
    {
     "data": {
      "text/plain": [
       "4       Valentine's Day Copper Rose / Seventh Annivers...\n",
       "66      Fruit oil painting still life, fruit wall art,...\n",
       "90                  Needle Felted Red Fox - Made to Order\n",
       "127               1911 Bay Tree Royal Imperial Easter Egg\n",
       "135     Traditional Lithuanian Woodcut Saint Izidorius...\n",
       "                              ...                        \n",
       "996                      Mr Toad - limited edition bronze\n",
       "1008    PBJ pink & gold (Artist's touch) - NOAH VERRIE...\n",
       "1017                                  Spring Collection 2\n",
       "1018                                  Spring Collection 4\n",
       "1040    Tortoise hatchling on the move. Open edition b...\n",
       "Name: name, Length: 71, dtype: string"
      ]
     },
     "execution_count": 48,
     "metadata": {},
     "output_type": "execute_result"
    }
   ],
   "source": [
    "indx = data_expensive.iloc[:, 3:14].where(data_expensive.iloc[:, 3:14] == 0).dropna().index.to_list()\n",
    "data_expensive.loc[indx, :]['name']"
   ]
  },
  {
   "cell_type": "markdown",
   "metadata": {},
   "source": [
    "# EDA with listing name"
   ]
  },
  {
   "cell_type": "markdown",
   "metadata": {},
   "source": [
    "## Determine most common words in listing names"
   ]
  },
  {
   "cell_type": "code",
   "execution_count": 124,
   "metadata": {},
   "outputs": [],
   "source": [
    "data_names = data[['name', 'min_price', 'prices', 'sizes', 'inches']]\n",
    "# data_names"
   ]
  },
  {
   "cell_type": "code",
   "execution_count": 50,
   "metadata": {},
   "outputs": [],
   "source": [
    "sys.path.insert(1, '/Users/evanrootness/DS_Projects/EtsyDSProject/py_scripts/')\n",
    "import scripts_data_transformation"
   ]
  },
  {
   "cell_type": "code",
   "execution_count": 125,
   "metadata": {},
   "outputs": [
    {
     "name": "stdout",
     "output_type": "stream",
     "text": [
      "Total number of words among all listing names: 16470\n",
      "Count of unique words among all listing names: 3415\n"
     ]
    }
   ],
   "source": [
    "unique_word_list, word_counter = scripts_data_transformation.df_to_list_and_dict(data['name'])"
   ]
  },
  {
   "cell_type": "code",
   "execution_count": 126,
   "metadata": {},
   "outputs": [],
   "source": [
    "words_ordered = scripts_data_transformation.order_words(word_counter, unique_word_list)"
   ]
  },
  {
   "cell_type": "code",
   "execution_count": 93,
   "metadata": {},
   "outputs": [
    {
     "name": "stdout",
     "output_type": "stream",
     "text": [
      "The top 10 most common words in listing names: ['Art' 'Print' 'Wall' 'art' 'Decor' 'print' 'Gift' 'Printable' 'Poster'\n",
      " 'Abstract']\n"
     ]
    }
   ],
   "source": [
    "words_ordered\n",
    "print('The top 10 most common words in listing names:', words_ordered[0, :10])"
   ]
  },
  {
   "cell_type": "code",
   "execution_count": 54,
   "metadata": {},
   "outputs": [
    {
     "data": {
      "text/plain": [
       "array([878, 671, 462, 421, 295, 235, 228, 196, 173, 148])"
      ]
     },
     "execution_count": 54,
     "metadata": {},
     "output_type": "execute_result"
    }
   ],
   "source": [
    "words_ordered[1, :10].astype(int)"
   ]
  },
  {
   "cell_type": "code",
   "execution_count": 55,
   "metadata": {},
   "outputs": [
    {
     "data": {
      "text/plain": [
       "array(['Baby', 'Beach', 'poster', 'Pink', 'Blue', 'Botanical', 'Custom',\n",
       "       'Canvas', 'Portrait', 'Set', 'gift', 'illustration', 'Photo',\n",
       "       'Mockup', 'Retro', 'room', 'Room', 'painting', 'Vintage',\n",
       "       'Tumbler', 'Flower', 'Illustration', 'Travel', 'Kitchen', 'Animal',\n",
       "       'Minimalist', 'Floral', 'Original', 'New', 'Design', 'Paris',\n",
       "       'City', 'Paper', 'nursery', 'Christmas', 'in', 'or', '&', 'Kids',\n",
       "       'map'], dtype='<U28')"
      ]
     },
     "execution_count": 55,
     "metadata": {},
     "output_type": "execute_result"
    }
   ],
   "source": [
    "words_ordered[0, 30:70]"
   ]
  },
  {
   "cell_type": "code",
   "execution_count": 56,
   "metadata": {},
   "outputs": [
    {
     "data": {
      "text/plain": [
       "<BarContainer object of 10 artists>"
      ]
     },
     "execution_count": 56,
     "metadata": {},
     "output_type": "execute_result"
    },
    {
     "data": {
      "image/png": "[encoded data removed]",
      "text/plain": [
       "<Figure size 640x480 with 1 Axes>"
      ]
     },
     "metadata": {},
     "output_type": "display_data"
    }
   ],
   "source": [
    "plt.bar(words_ordered[0, :10], words_ordered[1, :10].astype(int))"
   ]
  },
  {
   "cell_type": "markdown",
   "metadata": {},
   "source": [
    "## Convert most common words to categorial data (one-hot encode)"
   ]
  },
  {
   "cell_type": "markdown",
   "metadata": {},
   "source": [
    "Get rid of Python key words that mess with 'query' command (i.e. '-', '|', '/', 'and', and 'for')"
   ]
  },
  {
   "cell_type": "code",
   "execution_count": 116,
   "metadata": {},
   "outputs": [],
   "source": [
    "words_ordered = np.array([list(np.delete(words_ordered[0, :], list(words_ordered[0]).index('-'))), list(np.delete(words_ordered[1, :], list(words_ordered[0]).index('-')).astype(int))])\n",
    "\n",
    "words_ordered = np.array([list(np.delete(words_ordered[0, :], list(words_ordered[0]).index('|'))), list(np.delete(words_ordered[1, :], list(words_ordered[0]).index('|')).astype(int))])\n",
    "\n",
    "words_ordered = np.array([list(np.delete(words_ordered[0, :], list(words_ordered[0]).index('/'))), list(np.delete(words_ordered[1, :], list(words_ordered[0]).index('/')).astype(int))])\n",
    "\n",
    "words_ordered = np.array([list(np.delete(words_ordered[0, :], list(words_ordered[0]).index('and'))), list(np.delete(words_ordered[1, :], list(words_ordered[0]).index('and')).astype(int))])\n",
    "\n",
    "words_ordered = np.array([list(np.delete(words_ordered[0, :], list(words_ordered[0]).index('for'))), list(np.delete(words_ordered[1, :], list(words_ordered[0]).index('for')).astype(int))])\n",
    "\n",
    "words_ordered = np.array([list(np.delete(words_ordered[0, :], list(words_ordered[0]).index('in'))), list(np.delete(words_ordered[1, :], list(words_ordered[0]).index('in')).astype(int))])\n",
    "\n",
    "words_ordered = np.array([list(np.delete(words_ordered[0, :], list(words_ordered[0]).index('or'))), list(np.delete(words_ordered[1, :], list(words_ordered[0]).index('or')).astype(int))])\n",
    "\n",
    "words_ordered = np.array([list(np.delete(words_ordered[0, :], list(words_ordered[0]).index('&'))), list(np.delete(words_ordered[1, :], list(words_ordered[0]).index('&')).astype(int))])\n",
    "\n",
    "words_ordered = np.array([list(np.delete(words_ordered[0, :], list(words_ordered[0]).index('with'))), list(np.delete(words_ordered[1, :], list(words_ordered[0]).index('with')).astype(int))])"
   ]
  },
  {
   "cell_type": "code",
   "execution_count": 66,
   "metadata": {},
   "outputs": [
    {
     "data": {
      "text/plain": [
       "array(['Art', 'Print', 'Wall', 'art', 'Decor', 'print', 'Gift',\n",
       "       'Printable', 'Poster', 'Abstract'], dtype='<U28')"
      ]
     },
     "execution_count": 66,
     "metadata": {},
     "output_type": "execute_result"
    }
   ],
   "source": [
    "# no more character words that would cause errors with our next code\n",
    "words_ordered[0, :10]"
   ]
  },
  {
   "cell_type": "code",
   "execution_count": 127,
   "metadata": {},
   "outputs": [
    {
     "name": "stderr",
     "output_type": "stream",
     "text": [
      "/Users/evanrootness/DS_Projects/EtsyDSProject/py_scripts/scripts_explore.py:23: PerformanceWarning: DataFrame is highly fragmented.  This is usually the result of calling `frame.insert` many times, which has poor performance.  Consider joining all columns at once using pd.concat(axis=1) instead. To get a de-fragmented frame, use `newframe = frame.copy()`\n",
      "  data_copy[str(category)] = temp_category_list\n",
      "/Users/evanrootness/DS_Projects/EtsyDSProject/py_scripts/scripts_explore.py:23: PerformanceWarning: DataFrame is highly fragmented.  This is usually the result of calling `frame.insert` many times, which has poor performance.  Consider joining all columns at once using pd.concat(axis=1) instead. To get a de-fragmented frame, use `newframe = frame.copy()`\n",
      "  data_copy[str(category)] = temp_category_list\n"
     ]
    }
   ],
   "source": [
    "# one-hot encode categorical data from listing names (encode most popular keywords)\n",
    "data_names = scripts_explore.one_hot_encode(data_names, list(words_ordered[0, :50]))    "
   ]
  },
  {
   "cell_type": "code",
   "execution_count": null,
   "metadata": {},
   "outputs": [],
   "source": []
  },
  {
   "cell_type": "code",
   "execution_count": 88,
   "metadata": {},
   "outputs": [
    {
     "data": {
      "text/plain": [
       "Index(['name', 'min_price', 'prices', 'sizes', 'inches', 'Art', 'Print',\n",
       "       'Wall', 'art', 'Decor',\n",
       "       ...\n",
       "       'York', 'Landscape', 'Mountain', 'from', 'Artwork', '48x60', 'Instant',\n",
       "       'Fine', 'photography', 'PNG'],\n",
       "      dtype='object', length=105)"
      ]
     },
     "execution_count": 88,
     "metadata": {},
     "output_type": "execute_result"
    }
   ],
   "source": [
    "data_names.columns"
   ]
  },
  {
   "cell_type": "markdown",
   "metadata": {},
   "source": [
    "## Determine which words signify the most difference in prices"
   ]
  },
  {
   "cell_type": "code",
   "execution_count": 70,
   "metadata": {},
   "outputs": [
    {
     "name": "stdout",
     "output_type": "stream",
     "text": [
      "['Art' 'Print' 'Wall' ... 'linocut' 'PES' 'natural']\n"
     ]
    }
   ],
   "source": [
    "print(words_ordered[0])"
   ]
  },
  {
   "cell_type": "code",
   "execution_count": 149,
   "metadata": {},
   "outputs": [
    {
     "data": {
      "text/plain": [
       "18.0"
      ]
     },
     "execution_count": 149,
     "metadata": {},
     "output_type": "execute_result"
    }
   ],
   "source": [
    "data_names.where(data_names['Art'] == 1).dropna(subset='Art')['min_price'].median()"
   ]
  },
  {
   "cell_type": "code",
   "execution_count": 167,
   "metadata": {},
   "outputs": [],
   "source": [
    "def significance(data, ordered_list_of_words):\n",
    "    word_list = []\n",
    "    list_with = []\n",
    "    list_without = []\n",
    "    \n",
    "    for word in ordered_list_of_words:\n",
    "        word_list.append(word)\n",
    "\n",
    "        # list_with.append(data.query('{0} == 1'.format(word))['min_price'].median())\n",
    "        # list_without.append(data.query('{0} == 0'.format(word))['min_price'].median())\n",
    "        list_with.append(data.where(data[word] == 1).dropna(subset=word)['min_price'].median())\n",
    "        list_without.append(data.where(data[word] == 0).dropna(subset=word)['min_price'].median())\n",
    "        \n",
    "    # output a np.array of word and difference between 0 and 1 medians\n",
    "    return np.array([word_list, list_with, list_without])"
   ]
  },
  {
   "cell_type": "code",
   "execution_count": 164,
   "metadata": {},
   "outputs": [
    {
     "data": {
      "text/plain": [
       "array(['Art', 'Print', 'Wall'], dtype='<U28')"
      ]
     },
     "execution_count": 164,
     "metadata": {},
     "output_type": "execute_result"
    }
   ],
   "source": [
    "words_ordered[0][:3]"
   ]
  },
  {
   "cell_type": "code",
   "execution_count": 221,
   "metadata": {},
   "outputs": [],
   "source": [
    "test = significance(data_names, words_ordered[0][:20])\n",
    "differences = np.array([test[0, :], test[1, :].astype(float) - test[2, :].astype(float)])"
   ]
  },
  {
   "cell_type": "code",
   "execution_count": 218,
   "metadata": {},
   "outputs": [],
   "source": [
    "# differences[1, :].astype(float)"
   ]
  },
  {
   "cell_type": "code",
   "execution_count": null,
   "metadata": {},
   "outputs": [],
   "source": []
  },
  {
   "cell_type": "code",
   "execution_count": 225,
   "metadata": {},
   "outputs": [
    {
     "data": {
      "image/png": "[encoded data removed]",
      "text/plain": [
       "<Figure size 1500x400 with 1 Axes>"
      ]
     },
     "metadata": {},
     "output_type": "display_data"
    }
   ],
   "source": [
    "plt.figure(figsize=(15, 4))\n",
    "for i in range(len(differences)):\n",
    "    if float(differences[1, i]) > 0:\n",
    "        plt.bar(differences[0, :], height=differences[1, :].astype(float))\n",
    "    else:\n",
    "        plt.bar(differences[0, :], height=differences[1, :].astype(float))\n",
    "# plt.ylim(0, 30)\n",
    "plt.grid(alpha=0.3)"
   ]
  },
  {
   "cell_type": "code",
   "execution_count": null,
   "metadata": {},
   "outputs": [],
   "source": []
  }
 ],
 "metadata": {
  "interpreter": {
   "hash": "1e915f0a29dc84041eaeb02b7b1a21c440e37a87b61d44d5e84a515737dc82bc"
  },
  "kernelspec": {
   "display_name": "Python 3.8.5 64-bit ('base': conda)",
   "name": "python3"
  },
  "language_info": {
   "codemirror_mode": {
    "name": "ipython",
    "version": 3
   },
   "file_extension": ".py",
   "mimetype": "text/x-python",
   "name": "python",
   "nbconvert_exporter": "python",
   "pygments_lexer": "ipython3",
   "version": "3.11.5"
  },
  "orig_nbformat": 4
 },
 "nbformat": 4,
 "nbformat_minor": 2
}
