{
 "cells": [
  {
   "cell_type": "markdown",
   "metadata": {},
   "source": [
    "# Imports"
   ]
  },
  {
   "cell_type": "code",
   "execution_count": 1,
   "metadata": {},
   "outputs": [
    {
     "name": "stdout",
     "output_type": "stream",
     "text": [
      "/Users/evanrootness/Project1/EtsyDSProject\n"
     ]
    }
   ],
   "source": [
    "import os\n",
    "os.chdir(\"/Users/evanrootness/Project1/EtsyDSProject\")\n",
    "pwd = os.getcwd()\n",
    "print(pwd)"
   ]
  },
  {
   "cell_type": "code",
   "execution_count": 2,
   "metadata": {},
   "outputs": [],
   "source": [
    "import pandas as pd\n",
    "import numpy as np\n",
    "import matplotlib as mpl\n",
    "import matplotlib.pyplot as plt\n",
    "%matplotlib inline\n",
    "import math\n",
    "import scipy.optimize as opt\n",
    "import seaborn as sns\n",
    "from sklearn.model_selection import train_test_split\n",
    "import sys  "
   ]
  },
  {
   "cell_type": "code",
   "execution_count": 3,
   "metadata": {},
   "outputs": [],
   "source": [
    "import_data = pd.read_csv(pwd + '/data/ArtAllPages.csv')\n",
    "# import_data = pd.read_csv(pwd + '/data/art_map.csv')\n",
    "raw_data = import_data.copy()"
   ]
  },
  {
   "cell_type": "markdown",
   "metadata": {},
   "source": [
    "# Data Cleaning"
   ]
  },
  {
   "cell_type": "code",
   "execution_count": 4,
   "metadata": {},
   "outputs": [],
   "source": [
    "data = raw_data.drop(['web-scraper-order', 'web-scraper-start-url', 'product_link-href', 'Pagination', 'product_link'], axis = 1)"
   ]
  },
  {
   "cell_type": "code",
   "execution_count": 5,
   "metadata": {},
   "outputs": [
    {
     "name": "stdout",
     "output_type": "stream",
     "text": [
      "(1111, 3)\n"
     ]
    },
    {
     "data": {
      "text/html": [
       "<div>\n",
       "<style scoped>\n",
       "    .dataframe tbody tr th:only-of-type {\n",
       "        vertical-align: middle;\n",
       "    }\n",
       "\n",
       "    .dataframe tbody tr th {\n",
       "        vertical-align: top;\n",
       "    }\n",
       "\n",
       "    .dataframe thead th {\n",
       "        text-align: right;\n",
       "    }\n",
       "</style>\n",
       "<table border=\"1\" class=\"dataframe\">\n",
       "  <thead>\n",
       "    <tr style=\"text-align: right;\">\n",
       "      <th></th>\n",
       "      <th>name</th>\n",
       "      <th>min_price</th>\n",
       "      <th>size_options</th>\n",
       "    </tr>\n",
       "  </thead>\n",
       "  <tbody>\n",
       "    <tr>\n",
       "      <th>0</th>\n",
       "      <td>Pastel Art, Mint Green Wall Art, Mint Green Ar...</td>\n",
       "      <td>Price:\\n        $6.00</td>\n",
       "      <td>[]</td>\n",
       "    </tr>\n",
       "    <tr>\n",
       "      <th>1</th>\n",
       "      <td>San Francisco Print, Golden Gate Bridge Wall A...</td>\n",
       "      <td>Price:\\n        $18.00+</td>\n",
       "      <td>[{\"size_options\":\"Select an option\\n          ...</td>\n",
       "    </tr>\n",
       "    <tr>\n",
       "      <th>2</th>\n",
       "      <td>Set 4 Coral Prints Mist Blue/Green, Nautical p...</td>\n",
       "      <td>Price:\\n        $82.00+</td>\n",
       "      <td>[{\"size_options\":\"Select a size\\n             ...</td>\n",
       "    </tr>\n",
       "    <tr>\n",
       "      <th>3</th>\n",
       "      <td>Whale nursery art. Whale Rider print</td>\n",
       "      <td>Price:\\n        $20.00+</td>\n",
       "      <td>[{\"size_options\":\"Select a size\\n             ...</td>\n",
       "    </tr>\n",
       "    <tr>\n",
       "      <th>4</th>\n",
       "      <td>Valentine's Day Copper Rose / Seventh Annivers...</td>\n",
       "      <td>Price:\\n        $160.00+</td>\n",
       "      <td>[{\"size_options\":\"Select an option\\n          ...</td>\n",
       "    </tr>\n",
       "    <tr>\n",
       "      <th>...</th>\n",
       "      <td>...</td>\n",
       "      <td>...</td>\n",
       "      <td>...</td>\n",
       "    </tr>\n",
       "    <tr>\n",
       "      <th>1106</th>\n",
       "      <td>Yellow Leopard 20oz Tumbler Sublimation Wrap,G...</td>\n",
       "      <td>Price:\\n        $4.80</td>\n",
       "      <td>[]</td>\n",
       "    </tr>\n",
       "    <tr>\n",
       "      <th>1107</th>\n",
       "      <td>Tropical Little Thing Mini Crab, Driftwood Wal...</td>\n",
       "      <td>Price:\\n        $150.00</td>\n",
       "      <td>[]</td>\n",
       "    </tr>\n",
       "    <tr>\n",
       "      <th>1108</th>\n",
       "      <td>Fall Pumpkin Mug Sublimation, Watercolor Flora...</td>\n",
       "      <td>Price:\\n        $2.00</td>\n",
       "      <td>[]</td>\n",
       "    </tr>\n",
       "    <tr>\n",
       "      <th>1109</th>\n",
       "      <td>Pheasant Art Print Giclee Limited Edition</td>\n",
       "      <td>Price:\\n        $39.89</td>\n",
       "      <td>[]</td>\n",
       "    </tr>\n",
       "    <tr>\n",
       "      <th>1110</th>\n",
       "      <td>Rabbit Print - Spring Decor, Watercolor Rabbit...</td>\n",
       "      <td>Price:\\n        $14.00+</td>\n",
       "      <td>[{\"size_options\":\"Select a size\\n             ...</td>\n",
       "    </tr>\n",
       "  </tbody>\n",
       "</table>\n",
       "<p>1111 rows × 3 columns</p>\n",
       "</div>"
      ],
      "text/plain": [
       "                                                   name  \\\n",
       "0     Pastel Art, Mint Green Wall Art, Mint Green Ar...   \n",
       "1     San Francisco Print, Golden Gate Bridge Wall A...   \n",
       "2     Set 4 Coral Prints Mist Blue/Green, Nautical p...   \n",
       "3                  Whale nursery art. Whale Rider print   \n",
       "4     Valentine's Day Copper Rose / Seventh Annivers...   \n",
       "...                                                 ...   \n",
       "1106  Yellow Leopard 20oz Tumbler Sublimation Wrap,G...   \n",
       "1107  Tropical Little Thing Mini Crab, Driftwood Wal...   \n",
       "1108  Fall Pumpkin Mug Sublimation, Watercolor Flora...   \n",
       "1109          Pheasant Art Print Giclee Limited Edition   \n",
       "1110  Rabbit Print - Spring Decor, Watercolor Rabbit...   \n",
       "\n",
       "                     min_price  \\\n",
       "0        Price:\\n        $6.00   \n",
       "1      Price:\\n        $18.00+   \n",
       "2      Price:\\n        $82.00+   \n",
       "3      Price:\\n        $20.00+   \n",
       "4     Price:\\n        $160.00+   \n",
       "...                        ...   \n",
       "1106     Price:\\n        $4.80   \n",
       "1107   Price:\\n        $150.00   \n",
       "1108     Price:\\n        $2.00   \n",
       "1109    Price:\\n        $39.89   \n",
       "1110   Price:\\n        $14.00+   \n",
       "\n",
       "                                           size_options  \n",
       "0                                                    []  \n",
       "1     [{\"size_options\":\"Select an option\\n          ...  \n",
       "2     [{\"size_options\":\"Select a size\\n             ...  \n",
       "3     [{\"size_options\":\"Select a size\\n             ...  \n",
       "4     [{\"size_options\":\"Select an option\\n          ...  \n",
       "...                                                 ...  \n",
       "1106                                                 []  \n",
       "1107                                                 []  \n",
       "1108                                                 []  \n",
       "1109                                                 []  \n",
       "1110  [{\"size_options\":\"Select a size\\n             ...  \n",
       "\n",
       "[1111 rows x 3 columns]"
      ]
     },
     "execution_count": 5,
     "metadata": {},
     "output_type": "execute_result"
    }
   ],
   "source": [
    "print(data.shape)\n",
    "data"
   ]
  },
  {
   "cell_type": "code",
   "execution_count": 6,
   "metadata": {},
   "outputs": [
    {
     "data": {
      "text/plain": [
       "'[{\"size_options\":\"Select an option\\\\n                \\\\n                \\\\n                        5x7 ($18.00)\\\\n                \\\\n                \\\\n                        8x10 ($36.00)\\\\n                \\\\n                \\\\n                        11x14 ($56.00)\\\\n                \\\\n                \\\\n                        12x16 ($71.00)\\\\n                \\\\n                \\\\n                        16x20 ($102.00)\\\\n                \\\\n                \\\\n                        20x24 ($128.00)\\\\n                \\\\n                \\\\n                        20x30 ($138.00)\\\\n                \\\\n                \\\\n                        24x30 ($153.00)\\\\n                \\\\n                \\\\n                        24x36 ($163.00)\"}]'"
      ]
     },
     "execution_count": 6,
     "metadata": {},
     "output_type": "execute_result"
    }
   ],
   "source": [
    "data['size_options'][1]"
   ]
  },
  {
   "cell_type": "code",
   "execution_count": 7,
   "metadata": {},
   "outputs": [
    {
     "data": {
      "text/html": [
       "<div>\n",
       "<style scoped>\n",
       "    .dataframe tbody tr th:only-of-type {\n",
       "        vertical-align: middle;\n",
       "    }\n",
       "\n",
       "    .dataframe tbody tr th {\n",
       "        vertical-align: top;\n",
       "    }\n",
       "\n",
       "    .dataframe thead th {\n",
       "        text-align: right;\n",
       "    }\n",
       "</style>\n",
       "<table border=\"1\" class=\"dataframe\">\n",
       "  <thead>\n",
       "    <tr style=\"text-align: right;\">\n",
       "      <th></th>\n",
       "      <th>name</th>\n",
       "      <th>min_price</th>\n",
       "      <th>size_options</th>\n",
       "    </tr>\n",
       "  </thead>\n",
       "  <tbody>\n",
       "    <tr>\n",
       "      <th>count</th>\n",
       "      <td>1111</td>\n",
       "      <td>1111</td>\n",
       "      <td>1111</td>\n",
       "    </tr>\n",
       "    <tr>\n",
       "      <th>unique</th>\n",
       "      <td>1041</td>\n",
       "      <td>508</td>\n",
       "      <td>412</td>\n",
       "    </tr>\n",
       "    <tr>\n",
       "      <th>top</th>\n",
       "      <td>Yellow Leopard 20oz Tumbler Sublimation Wrap,G...</td>\n",
       "      <td>Price:\\n        $18.00+</td>\n",
       "      <td>[]</td>\n",
       "    </tr>\n",
       "    <tr>\n",
       "      <th>freq</th>\n",
       "      <td>5</td>\n",
       "      <td>32</td>\n",
       "      <td>547</td>\n",
       "    </tr>\n",
       "  </tbody>\n",
       "</table>\n",
       "</div>"
      ],
      "text/plain": [
       "                                                     name  \\\n",
       "count                                                1111   \n",
       "unique                                               1041   \n",
       "top     Yellow Leopard 20oz Tumbler Sublimation Wrap,G...   \n",
       "freq                                                    5   \n",
       "\n",
       "                      min_price size_options  \n",
       "count                      1111         1111  \n",
       "unique                      508          412  \n",
       "top     Price:\\n        $18.00+           []  \n",
       "freq                         32          547  "
      ]
     },
     "execution_count": 7,
     "metadata": {},
     "output_type": "execute_result"
    }
   ],
   "source": [
    "data.describe()"
   ]
  },
  {
   "cell_type": "code",
   "execution_count": 8,
   "metadata": {},
   "outputs": [],
   "source": [
    "# data.rename(columns={'shop_star_rating': 'stars'}, inplace=True)"
   ]
  },
  {
   "cell_type": "code",
   "execution_count": 9,
   "metadata": {},
   "outputs": [],
   "source": [
    "# data.fillna(value='0', inplace=True)"
   ]
  },
  {
   "cell_type": "code",
   "execution_count": 10,
   "metadata": {},
   "outputs": [],
   "source": [
    "data = data.astype(dtype='string')"
   ]
  },
  {
   "cell_type": "code",
   "execution_count": 11,
   "metadata": {},
   "outputs": [
    {
     "data": {
      "text/plain": [
       "name            string[python]\n",
       "min_price       string[python]\n",
       "size_options    string[python]\n",
       "dtype: object"
      ]
     },
     "execution_count": 11,
     "metadata": {},
     "output_type": "execute_result"
    }
   ],
   "source": [
    "data.dtypes"
   ]
  },
  {
   "cell_type": "code",
   "execution_count": 12,
   "metadata": {},
   "outputs": [],
   "source": [
    "# data_num = pd.DataFrame(data={'price': data['price'], 'reviews_product': data['reviews_product'], \n",
    "#                               'reviews_shop': data['reviews_shop'], 'stars': data['stars']})\n",
    "# data_num"
   ]
  },
  {
   "cell_type": "code",
   "execution_count": 13,
   "metadata": {},
   "outputs": [],
   "source": [
    "import re\n",
    "# name = \"price: $48.00\"\n",
    "# test = re.search('[^\\$]*$', name)\n",
    "# print(test)\n",
    "# print(test.group(0))"
   ]
  },
  {
   "cell_type": "code",
   "execution_count": 14,
   "metadata": {},
   "outputs": [],
   "source": [
    "price = []\n",
    "# reviews_product = []\n",
    "# reviews_shop = []\n",
    "# stars = []\n",
    "\n",
    "for i in range(len(data['min_price'])):\n",
    "    price.append(re.search('[^+]*', data['min_price'][i]).group(0))\n",
    "    price[i] = re.search('[^\\$]*$', price[i]).group(0).replace(',', '')\n",
    "    \n",
    "    # reviews_product.append(int(data_num['reviews_product'][i].replace(',', '')))\n",
    "    # reviews_shop.append(int(data_num['reviews_shop'][i].replace(',', '')))\n",
    "    # stars.append(re.search('[^\\s]*', data_num['stars'].astype(dtype='string')[i]).group(0))\n",
    "\n",
    "# datnum = []\n",
    "# all_rows = [price, reviews_product, reviews_shop, stars]\n",
    "# for row in all_rows:\n",
    "#     datnum.append(row)\n",
    "# data_num_int = pd.DataFrame(data={'price': datnum[0], 'reviews_product': datnum[1], \n",
    "#                                   'reviews_shop': datnum[2], 'stars': datnum[3]})\n",
    "\n",
    "data['min_price'] = price\n",
    "# data['reviews_product'] = reviews_product\n",
    "# data['reviews_shop'] = reviews_shop\n",
    "# data['stars'] = stars"
   ]
  },
  {
   "cell_type": "code",
   "execution_count": 15,
   "metadata": {},
   "outputs": [],
   "source": [
    "data = data.rename(columns={'min_price': 'price'})"
   ]
  },
  {
   "cell_type": "code",
   "execution_count": 16,
   "metadata": {},
   "outputs": [],
   "source": [
    "data['price'] = data['price'].astype(float)"
   ]
  },
  {
   "cell_type": "code",
   "execution_count": 17,
   "metadata": {},
   "outputs": [],
   "source": [
    "# data_num_int"
   ]
  },
  {
   "cell_type": "markdown",
   "metadata": {},
   "source": [
    "## Convert Names to Categorical Data"
   ]
  },
  {
   "cell_type": "code",
   "execution_count": 18,
   "metadata": {},
   "outputs": [],
   "source": [
    "def addCategoricalLists(init_data, list_of_categories):\n",
    "    for category in list_of_categories:\n",
    "        temp_category_list = []\n",
    "        for i in range(len(init_data)):\n",
    "            if (category in init_data['name'][i]):\n",
    "                temp_category_list.append(1)\n",
    "            else:\n",
    "                temp_category_list.append(0)\n",
    "        data[str(category)] = temp_category_list    "
   ]
  },
  {
   "cell_type": "code",
   "execution_count": 19,
   "metadata": {},
   "outputs": [],
   "source": [
    "addCategoricalLists(data, ['Watercolor', 'Portrait', 'Pet', 'Print', 'Family', 'Paint', 'Painting', 'Nature', 'Custom'])"
   ]
  },
  {
   "cell_type": "code",
   "execution_count": 20,
   "metadata": {},
   "outputs": [
    {
     "data": {
      "text/html": [
       "<div>\n",
       "<style scoped>\n",
       "    .dataframe tbody tr th:only-of-type {\n",
       "        vertical-align: middle;\n",
       "    }\n",
       "\n",
       "    .dataframe tbody tr th {\n",
       "        vertical-align: top;\n",
       "    }\n",
       "\n",
       "    .dataframe thead th {\n",
       "        text-align: right;\n",
       "    }\n",
       "</style>\n",
       "<table border=\"1\" class=\"dataframe\">\n",
       "  <thead>\n",
       "    <tr style=\"text-align: right;\">\n",
       "      <th></th>\n",
       "      <th>name</th>\n",
       "      <th>price</th>\n",
       "      <th>size_options</th>\n",
       "      <th>Watercolor</th>\n",
       "      <th>Portrait</th>\n",
       "      <th>Pet</th>\n",
       "      <th>Print</th>\n",
       "      <th>Family</th>\n",
       "      <th>Paint</th>\n",
       "      <th>Painting</th>\n",
       "      <th>Nature</th>\n",
       "      <th>Custom</th>\n",
       "    </tr>\n",
       "  </thead>\n",
       "  <tbody>\n",
       "    <tr>\n",
       "      <th>0</th>\n",
       "      <td>Pastel Art, Mint Green Wall Art, Mint Green Ar...</td>\n",
       "      <td>6.00</td>\n",
       "      <td>[]</td>\n",
       "      <td>1</td>\n",
       "      <td>0</td>\n",
       "      <td>0</td>\n",
       "      <td>1</td>\n",
       "      <td>0</td>\n",
       "      <td>0</td>\n",
       "      <td>0</td>\n",
       "      <td>0</td>\n",
       "      <td>0</td>\n",
       "    </tr>\n",
       "    <tr>\n",
       "      <th>1</th>\n",
       "      <td>San Francisco Print, Golden Gate Bridge Wall A...</td>\n",
       "      <td>18.00</td>\n",
       "      <td>[{\"size_options\":\"Select an option\\n          ...</td>\n",
       "      <td>0</td>\n",
       "      <td>0</td>\n",
       "      <td>0</td>\n",
       "      <td>1</td>\n",
       "      <td>0</td>\n",
       "      <td>0</td>\n",
       "      <td>0</td>\n",
       "      <td>0</td>\n",
       "      <td>0</td>\n",
       "    </tr>\n",
       "    <tr>\n",
       "      <th>2</th>\n",
       "      <td>Set 4 Coral Prints Mist Blue/Green, Nautical p...</td>\n",
       "      <td>82.00</td>\n",
       "      <td>[{\"size_options\":\"Select a size\\n             ...</td>\n",
       "      <td>0</td>\n",
       "      <td>0</td>\n",
       "      <td>0</td>\n",
       "      <td>1</td>\n",
       "      <td>0</td>\n",
       "      <td>0</td>\n",
       "      <td>0</td>\n",
       "      <td>0</td>\n",
       "      <td>0</td>\n",
       "    </tr>\n",
       "    <tr>\n",
       "      <th>3</th>\n",
       "      <td>Whale nursery art. Whale Rider print</td>\n",
       "      <td>20.00</td>\n",
       "      <td>[{\"size_options\":\"Select a size\\n             ...</td>\n",
       "      <td>0</td>\n",
       "      <td>0</td>\n",
       "      <td>0</td>\n",
       "      <td>0</td>\n",
       "      <td>0</td>\n",
       "      <td>0</td>\n",
       "      <td>0</td>\n",
       "      <td>0</td>\n",
       "      <td>0</td>\n",
       "    </tr>\n",
       "    <tr>\n",
       "      <th>4</th>\n",
       "      <td>Valentine's Day Copper Rose / Seventh Annivers...</td>\n",
       "      <td>160.00</td>\n",
       "      <td>[{\"size_options\":\"Select an option\\n          ...</td>\n",
       "      <td>0</td>\n",
       "      <td>0</td>\n",
       "      <td>0</td>\n",
       "      <td>0</td>\n",
       "      <td>0</td>\n",
       "      <td>0</td>\n",
       "      <td>0</td>\n",
       "      <td>0</td>\n",
       "      <td>0</td>\n",
       "    </tr>\n",
       "    <tr>\n",
       "      <th>...</th>\n",
       "      <td>...</td>\n",
       "      <td>...</td>\n",
       "      <td>...</td>\n",
       "      <td>...</td>\n",
       "      <td>...</td>\n",
       "      <td>...</td>\n",
       "      <td>...</td>\n",
       "      <td>...</td>\n",
       "      <td>...</td>\n",
       "      <td>...</td>\n",
       "      <td>...</td>\n",
       "      <td>...</td>\n",
       "    </tr>\n",
       "    <tr>\n",
       "      <th>1106</th>\n",
       "      <td>Yellow Leopard 20oz Tumbler Sublimation Wrap,G...</td>\n",
       "      <td>4.80</td>\n",
       "      <td>[]</td>\n",
       "      <td>0</td>\n",
       "      <td>0</td>\n",
       "      <td>0</td>\n",
       "      <td>0</td>\n",
       "      <td>0</td>\n",
       "      <td>0</td>\n",
       "      <td>0</td>\n",
       "      <td>0</td>\n",
       "      <td>0</td>\n",
       "    </tr>\n",
       "    <tr>\n",
       "      <th>1107</th>\n",
       "      <td>Tropical Little Thing Mini Crab, Driftwood Wal...</td>\n",
       "      <td>150.00</td>\n",
       "      <td>[]</td>\n",
       "      <td>0</td>\n",
       "      <td>0</td>\n",
       "      <td>0</td>\n",
       "      <td>0</td>\n",
       "      <td>0</td>\n",
       "      <td>0</td>\n",
       "      <td>0</td>\n",
       "      <td>0</td>\n",
       "      <td>0</td>\n",
       "    </tr>\n",
       "    <tr>\n",
       "      <th>1108</th>\n",
       "      <td>Fall Pumpkin Mug Sublimation, Watercolor Flora...</td>\n",
       "      <td>2.00</td>\n",
       "      <td>[]</td>\n",
       "      <td>1</td>\n",
       "      <td>0</td>\n",
       "      <td>0</td>\n",
       "      <td>0</td>\n",
       "      <td>0</td>\n",
       "      <td>0</td>\n",
       "      <td>0</td>\n",
       "      <td>0</td>\n",
       "      <td>0</td>\n",
       "    </tr>\n",
       "    <tr>\n",
       "      <th>1109</th>\n",
       "      <td>Pheasant Art Print Giclee Limited Edition</td>\n",
       "      <td>39.89</td>\n",
       "      <td>[]</td>\n",
       "      <td>0</td>\n",
       "      <td>0</td>\n",
       "      <td>0</td>\n",
       "      <td>1</td>\n",
       "      <td>0</td>\n",
       "      <td>0</td>\n",
       "      <td>0</td>\n",
       "      <td>0</td>\n",
       "      <td>0</td>\n",
       "    </tr>\n",
       "    <tr>\n",
       "      <th>1110</th>\n",
       "      <td>Rabbit Print - Spring Decor, Watercolor Rabbit...</td>\n",
       "      <td>14.00</td>\n",
       "      <td>[{\"size_options\":\"Select a size\\n             ...</td>\n",
       "      <td>1</td>\n",
       "      <td>0</td>\n",
       "      <td>0</td>\n",
       "      <td>1</td>\n",
       "      <td>0</td>\n",
       "      <td>1</td>\n",
       "      <td>1</td>\n",
       "      <td>0</td>\n",
       "      <td>0</td>\n",
       "    </tr>\n",
       "  </tbody>\n",
       "</table>\n",
       "<p>1111 rows × 12 columns</p>\n",
       "</div>"
      ],
      "text/plain": [
       "                                                   name   price  \\\n",
       "0     Pastel Art, Mint Green Wall Art, Mint Green Ar...    6.00   \n",
       "1     San Francisco Print, Golden Gate Bridge Wall A...   18.00   \n",
       "2     Set 4 Coral Prints Mist Blue/Green, Nautical p...   82.00   \n",
       "3                  Whale nursery art. Whale Rider print   20.00   \n",
       "4     Valentine's Day Copper Rose / Seventh Annivers...  160.00   \n",
       "...                                                 ...     ...   \n",
       "1106  Yellow Leopard 20oz Tumbler Sublimation Wrap,G...    4.80   \n",
       "1107  Tropical Little Thing Mini Crab, Driftwood Wal...  150.00   \n",
       "1108  Fall Pumpkin Mug Sublimation, Watercolor Flora...    2.00   \n",
       "1109          Pheasant Art Print Giclee Limited Edition   39.89   \n",
       "1110  Rabbit Print - Spring Decor, Watercolor Rabbit...   14.00   \n",
       "\n",
       "                                           size_options  Watercolor  Portrait  \\\n",
       "0                                                    []           1         0   \n",
       "1     [{\"size_options\":\"Select an option\\n          ...           0         0   \n",
       "2     [{\"size_options\":\"Select a size\\n             ...           0         0   \n",
       "3     [{\"size_options\":\"Select a size\\n             ...           0         0   \n",
       "4     [{\"size_options\":\"Select an option\\n          ...           0         0   \n",
       "...                                                 ...         ...       ...   \n",
       "1106                                                 []           0         0   \n",
       "1107                                                 []           0         0   \n",
       "1108                                                 []           1         0   \n",
       "1109                                                 []           0         0   \n",
       "1110  [{\"size_options\":\"Select a size\\n             ...           1         0   \n",
       "\n",
       "      Pet  Print  Family  Paint  Painting  Nature  Custom  \n",
       "0       0      1       0      0         0       0       0  \n",
       "1       0      1       0      0         0       0       0  \n",
       "2       0      1       0      0         0       0       0  \n",
       "3       0      0       0      0         0       0       0  \n",
       "4       0      0       0      0         0       0       0  \n",
       "...   ...    ...     ...    ...       ...     ...     ...  \n",
       "1106    0      0       0      0         0       0       0  \n",
       "1107    0      0       0      0         0       0       0  \n",
       "1108    0      0       0      0         0       0       0  \n",
       "1109    0      1       0      0         0       0       0  \n",
       "1110    0      1       0      1         1       0       0  \n",
       "\n",
       "[1111 rows x 12 columns]"
      ]
     },
     "execution_count": 20,
     "metadata": {},
     "output_type": "execute_result"
    }
   ],
   "source": [
    "data"
   ]
  },
  {
   "cell_type": "markdown",
   "metadata": {},
   "source": [
    "# Data Exploration"
   ]
  },
  {
   "cell_type": "code",
   "execution_count": 21,
   "metadata": {},
   "outputs": [],
   "source": [
    "# sns.heatmap(data_num_int.corr())"
   ]
  },
  {
   "cell_type": "code",
   "execution_count": 22,
   "metadata": {},
   "outputs": [
    {
     "data": {
      "text/plain": [
       "(array([1.037e+03, 2.300e+01, 1.100e+01, 1.100e+01, 5.000e+00, 1.000e+00,\n",
       "        1.000e+00, 0.000e+00, 2.000e+00, 2.000e+01]),\n",
       " array([1.800000e-01, 1.801620e+02, 3.601440e+02, 5.401260e+02,\n",
       "        7.201080e+02, 9.000900e+02, 1.080072e+03, 1.260054e+03,\n",
       "        1.440036e+03, 1.620018e+03, 1.800000e+03]),\n",
       " <BarContainer object of 10 artists>)"
      ]
     },
     "execution_count": 22,
     "metadata": {},
     "output_type": "execute_result"
    },
    {
     "data": {
      "image/png": "[encoded data removed]",
      "text/plain": [
       "<Figure size 640x480 with 1 Axes>"
      ]
     },
     "metadata": {},
     "output_type": "display_data"
    }
   ],
   "source": [
    "plt.hist(data['price'])"
   ]
  },
  {
   "cell_type": "code",
   "execution_count": 36,
   "metadata": {},
   "outputs": [],
   "source": [
    "data_cheap = data.where(data['price'] < 200).dropna()\n",
    "data_expensive = data.where(data['price'] > 200).dropna()"
   ]
  },
  {
   "cell_type": "code",
   "execution_count": 39,
   "metadata": {},
   "outputs": [
    {
     "data": {
      "text/plain": [
       "(array([526., 309.,  99.,  36.,  24.,  18.,   7.,  11.,   4.,   7.]),\n",
       " array([1.80000e-01, 2.01170e+01, 4.00540e+01, 5.99910e+01, 7.99280e+01,\n",
       "        9.98650e+01, 1.19802e+02, 1.39739e+02, 1.59676e+02, 1.79613e+02,\n",
       "        1.99550e+02]),\n",
       " <BarContainer object of 10 artists>)"
      ]
     },
     "execution_count": 39,
     "metadata": {},
     "output_type": "execute_result"
    },
    {
     "data": {
      "image/png": "[encoded data removed]",
      "text/plain": [
       "<Figure size 640x480 with 1 Axes>"
      ]
     },
     "metadata": {},
     "output_type": "display_data"
    }
   ],
   "source": [
    "plt.hist(data_cheap['price'])"
   ]
  },
  {
   "cell_type": "code",
   "execution_count": 40,
   "metadata": {},
   "outputs": [
    {
     "data": {
      "text/plain": [
       "(array([18., 11.,  8.,  8.,  1.,  0.,  1.,  0.,  2., 20.]),\n",
       " array([ 210.,  369.,  528.,  687.,  846., 1005., 1164., 1323., 1482.,\n",
       "        1641., 1800.]),\n",
       " <BarContainer object of 10 artists>)"
      ]
     },
     "execution_count": 40,
     "metadata": {},
     "output_type": "execute_result"
    },
    {
     "data": {
      "image/png": "[encoded data removed]",
      "text/plain": [
       "<Figure size 640x480 with 1 Axes>"
      ]
     },
     "metadata": {},
     "output_type": "display_data"
    }
   ],
   "source": [
    "plt.hist(data_expensive['price'])"
   ]
  },
  {
   "cell_type": "code",
   "execution_count": 32,
   "metadata": {},
   "outputs": [
    {
     "data": {
      "text/plain": [
       "Text(0, 0.5, 'Average Price')"
      ]
     },
     "execution_count": 32,
     "metadata": {},
     "output_type": "execute_result"
    },
    {
     "data": {
      "image/png": "[encoded data removed]",
      "text/plain": [
       "<Figure size 640x480 with 1 Axes>"
      ]
     },
     "metadata": {},
     "output_type": "display_data"
    }
   ],
   "source": [
    "avg_price_pet = np.mean(data_cheap.where(data_cheap['Pet'] == 1).dropna()['price'].astype(float))\n",
    "avg_price_no_pet = np.mean(data_cheap.where(data_cheap['Pet'] == 0).dropna()['price'].astype(float))\n",
    "plt.bar(x=['No pet', 'Pet'], height=[avg_price_no_pet, avg_price_pet], color = 'orangered')\n",
    "plt.ylabel('Average Price')"
   ]
  },
  {
   "cell_type": "code",
   "execution_count": 33,
   "metadata": {},
   "outputs": [
    {
     "data": {
      "text/plain": [
       "Text(0, 0.5, 'Average Price')"
      ]
     },
     "execution_count": 33,
     "metadata": {},
     "output_type": "execute_result"
    },
    {
     "data": {
      "image/png": "[encoded data removed]",
      "text/plain": [
       "<Figure size 640x480 with 1 Axes>"
      ]
     },
     "metadata": {},
     "output_type": "display_data"
    }
   ],
   "source": [
    "avg_price_watercolor = np.mean(data_cheap.where(data_cheap['Watercolor'] == 1).dropna()['price'].astype(float))\n",
    "avg_price_painting = np.mean(data_cheap.where((data_cheap['Paint'] == 1) | (data_cheap['Painting'] == 1)).dropna()['price'].astype(float))\n",
    "avg_price_print = np.mean(data_cheap.where(data_cheap['Print'] == 1).dropna()['price'].astype(float))\n",
    "plt.bar(x=['Watercolor', 'Painting', 'Print'], height=[avg_price_watercolor, avg_price_painting, avg_price_print], color = 'orangered')\n",
    "plt.ylabel('Average Price')"
   ]
  },
  {
   "cell_type": "code",
   "execution_count": 34,
   "metadata": {},
   "outputs": [
    {
     "data": {
      "text/plain": [
       "Text(0, 0.5, 'Average Price')"
      ]
     },
     "execution_count": 34,
     "metadata": {},
     "output_type": "execute_result"
    },
    {
     "data": {
      "image/png": "[encoded data removed]",
      "text/plain": [
       "<Figure size 640x480 with 1 Axes>"
      ]
     },
     "metadata": {},
     "output_type": "display_data"
    }
   ],
   "source": [
    "avg_price_portrait = np.mean(data_cheap.where(data_cheap['Portrait'] == 1).dropna()['price'].astype(float))\n",
    "avg_price_no_portrait = np.mean(data_cheap.where(data_cheap['Portrait'] == 0).dropna()['price'].astype(float))\n",
    "plt.bar(x=['No portrait', 'Portrait'], height=[avg_price_no_pet, avg_price_pet], color = 'orangered')\n",
    "plt.ylabel('Average Price')"
   ]
  },
  {
   "cell_type": "code",
   "execution_count": 35,
   "metadata": {},
   "outputs": [
    {
     "data": {
      "text/plain": [
       "Text(0, 0.5, 'Average Price')"
      ]
     },
     "execution_count": 35,
     "metadata": {},
     "output_type": "execute_result"
    },
    {
     "data": {
      "image/png": "[encoded data removed]",
      "text/plain": [
       "<Figure size 640x480 with 1 Axes>"
      ]
     },
     "metadata": {},
     "output_type": "display_data"
    }
   ],
   "source": [
    "avg_price_family = np.mean(data_cheap.where(data_cheap['Family'] == 1).dropna()['price'].astype(float))\n",
    "avg_price_no_family = np.mean(data_cheap.where(data_cheap['Family'] == 0).dropna()['price'].astype(float))\n",
    "plt.bar(x=['No family', 'Family'], height=[avg_price_no_family, avg_price_family], color = 'orangered')\n",
    "plt.ylabel('Average Price')"
   ]
  },
  {
   "cell_type": "markdown",
   "metadata": {},
   "source": [
    "Expensive listings exploration"
   ]
  },
  {
   "cell_type": "code",
   "execution_count": 42,
   "metadata": {},
   "outputs": [
    {
     "data": {
      "text/plain": [
       "Text(0, 0.5, 'Average Price')"
      ]
     },
     "execution_count": 42,
     "metadata": {},
     "output_type": "execute_result"
    },
    {
     "data": {
      "image/png": "[encoded data removed]",
      "text/plain": [
       "<Figure size 640x480 with 1 Axes>"
      ]
     },
     "metadata": {},
     "output_type": "display_data"
    }
   ],
   "source": [
    "avg_price_watercolor = np.mean(data_expensive.where(data_expensive['Watercolor'] == 1).dropna()['price'].astype(float))\n",
    "avg_price_painting = np.mean(data_expensive.where((data_expensive['Paint'] == 1) | (data_expensive['Painting'] == 1)).dropna()['price'].astype(float))\n",
    "avg_price_print = np.mean(data_expensive.where(data_expensive['Print'] == 1).dropna()['price'].astype(float))\n",
    "plt.bar(x=['Watercolor', 'Painting', 'Print'], height=[avg_price_watercolor, avg_price_painting, avg_price_print], color = 'orangered')\n",
    "plt.ylabel('Average Price')"
   ]
  }
 ],
 "metadata": {
  "interpreter": {
   "hash": "1e915f0a29dc84041eaeb02b7b1a21c440e37a87b61d44d5e84a515737dc82bc"
  },
  "kernelspec": {
   "display_name": "Python 3.8.5 64-bit ('base': conda)",
   "name": "python3"
  },
  "language_info": {
   "codemirror_mode": {
    "name": "ipython",
    "version": 3
   },
   "file_extension": ".py",
   "mimetype": "text/x-python",
   "name": "python",
   "nbconvert_exporter": "python",
   "pygments_lexer": "ipython3",
   "version": "3.11.5"
  },
  "orig_nbformat": 4
 },
 "nbformat": 4,
 "nbformat_minor": 2
}
