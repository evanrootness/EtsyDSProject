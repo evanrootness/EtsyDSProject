{
 "cells": [
  {
   "cell_type": "markdown",
   "metadata": {},
   "source": [
    "# Imports"
   ]
  },
  {
   "cell_type": "code",
   "execution_count": 1,
   "metadata": {},
   "outputs": [
    {
     "name": "stdout",
     "output_type": "stream",
     "text": [
      "/Users/evanrootness/DS_Projects/EtsyDSProject\n"
     ]
    }
   ],
   "source": [
    "import os\n",
    "\n",
    "os.chdir(\"/Users/evanrootness/DS_Projects/EtsyDSProject\")\n",
    "pwd = os.getcwd()\n",
    "print(pwd)"
   ]
  },
  {
   "cell_type": "code",
   "execution_count": 2,
   "metadata": {},
   "outputs": [],
   "source": [
    "import pandas as pd\n",
    "import numpy as np\n",
    "import matplotlib as mpl\n",
    "import matplotlib.pyplot as plt\n",
    "%matplotlib inline\n",
    "import math\n",
    "import scipy.optimize as opt\n",
    "import seaborn as sns\n",
    "from sklearn.model_selection import train_test_split\n",
    "import sys\n",
    "import re"
   ]
  },
  {
   "cell_type": "code",
   "execution_count": 3,
   "metadata": {},
   "outputs": [],
   "source": [
    "data = pd.read_csv(pwd + '/data/cleaned_data.csv', )\n",
    "# data"
   ]
  },
  {
   "cell_type": "markdown",
   "metadata": {},
   "source": [
    "# Train Test Split"
   ]
  },
  {
   "cell_type": "code",
   "execution_count": 4,
   "metadata": {},
   "outputs": [],
   "source": [
    "x_train, xtest, y_train, ytest = train_test_split(data.iloc[:, 5:], \n",
    "                                                  data.iloc[:, 1], test_size=0.3, random_state=0)"
   ]
  },
  {
   "cell_type": "markdown",
   "metadata": {},
   "source": [
    "# SVR Model"
   ]
  },
  {
   "cell_type": "code",
   "execution_count": 5,
   "metadata": {},
   "outputs": [],
   "source": [
    "from sklearn.svm import SVR\n",
    "from sklearn.metrics import accuracy_score, recall_score, precision_score, f1_score, confusion_matrix\n",
    "\n",
    "# # Create SVR model\n",
    "# model = SVR()\n",
    "\n",
    "# # Train the model\n",
    "# model.fit(x_train, y_train)"
   ]
  },
  {
   "cell_type": "code",
   "execution_count": 9,
   "metadata": {},
   "outputs": [],
   "source": [
    "# y_pred = model.predict(xtest)\n",
    "\n",
    "from sklearn.metrics import mean_absolute_error, mean_squared_error, r2_score\n",
    "\n",
    "# # Calculate regression metrics\n",
    "# mae = mean_absolute_error(ytest, y_pred)\n",
    "# mse = mean_squared_error(ytest, y_pred)\n",
    "# rmse = mean_squared_error(ytest, y_pred, squared=False)  # RMSE\n",
    "# r2 = r2_score(ytest, y_pred)\n",
    "\n",
    "# print('Mean absolute error:', mae, 'Mean squared error:', mse, 'Root mean squared error:', rmse, 'r2 score:', r2)"
   ]
  },
  {
   "cell_type": "code",
   "execution_count": 12,
   "metadata": {},
   "outputs": [],
   "source": [
    "def svr_iterations(degrees):\n",
    "    # mae_list = []\n",
    "    # rmse_list = []\n",
    "    # r2_list = []\n",
    "\n",
    "    for deg in range(degrees):\n",
    "        model = SVR(degree=deg)\n",
    "        model.fit(x_train, y_train)\n",
    "        y_pred = model.predict(xtest)\n",
    "        \n",
    "        mae = mean_absolute_error(ytest, y_pred)\n",
    "        rmse = mean_squared_error(ytest, y_pred, squared=False)\n",
    "        r2 = r2_score(ytest, y_pred)\n",
    "        \n",
    "        print('Degrees:', deg, 'Mean absolute error:', mae, 'Root mean squared error:', rmse, 'r2 score:', r2)\n",
    "        \n",
    "        # mae_list.append(mean_absolute_error(ytest, y_pred))\n",
    "        # rmse_list.append(mean_squared_error(ytest, y_pred, squared=False)) # RMSE\n",
    "        # r2_list.append(r2_score(ytest, y_pred))"
   ]
  },
  {
   "cell_type": "code",
   "execution_count": 13,
   "metadata": {},
   "outputs": [
    {
     "name": "stdout",
     "output_type": "stream",
     "text": [
      "Degrees: 0 Mean absolute error: 87.78765899360198 Root mean squared error: 317.9492583789345 r2 score: -0.046888118640800336\n",
      "Degrees: 1 Mean absolute error: 87.78765899360198 Root mean squared error: 317.9492583789345 r2 score: -0.046888118640800336\n",
      "Degrees: 2 Mean absolute error: 87.78765899360198 Root mean squared error: 317.9492583789345 r2 score: -0.046888118640800336\n",
      "Degrees: 3 Mean absolute error: 87.78765899360198 Root mean squared error: 317.9492583789345 r2 score: -0.046888118640800336\n",
      "Degrees: 4 Mean absolute error: 87.78765899360198 Root mean squared error: 317.9492583789345 r2 score: -0.046888118640800336\n"
     ]
    }
   ],
   "source": [
    "svr_iterations(5)"
   ]
  },
  {
   "cell_type": "code",
   "execution_count": 17,
   "metadata": {},
   "outputs": [
    {
     "name": "stdout",
     "output_type": "stream",
     "text": [
      "Kernel: linear Mean absolute error: 87.55764428641214 Root mean squared error: 317.78483405651707 r2 score: -0.04580562288807877\n",
      "Kernel: poly Mean absolute error: 88.02654503235823 Root mean squared error: 318.82611379556914 r2 score: -0.05267039554799724\n",
      "Kernel: rbf Mean absolute error: 87.78765899360198 Root mean squared error: 317.9492583789345 r2 score: -0.046888118640800336\n",
      "Kernel: sigmoid Mean absolute error: 88.38425695718217 Root mean squared error: 320.0533109537572 r2 score: -0.06078968232214321\n"
     ]
    }
   ],
   "source": [
    "def svr_iterations():\n",
    "    kernels = ['linear', 'poly', 'rbf', 'sigmoid']\n",
    "\n",
    "    for kern in kernels:\n",
    "        model = SVR(kernel=kern)\n",
    "        model.fit(x_train, y_train)\n",
    "        y_pred = model.predict(xtest)\n",
    "        \n",
    "        mae = mean_absolute_error(ytest, y_pred)\n",
    "        rmse = mean_squared_error(ytest, y_pred, squared=False)\n",
    "        r2 = r2_score(ytest, y_pred)\n",
    "        \n",
    "        print('Kernel:', kern, 'Mean absolute error:', mae, 'Root mean squared error:', rmse, 'r2 score:', r2)\n",
    "svr_iterations()"
   ]
  },
  {
   "cell_type": "markdown",
   "metadata": {},
   "source": [
    "# Model"
   ]
  },
  {
   "cell_type": "code",
   "execution_count": 21,
   "metadata": {},
   "outputs": [
    {
     "name": "stdout",
     "output_type": "stream",
     "text": [
      "Mean absolute error: 143.74970849997467 Root mean squared error: 272.33099198402647 r2 score: 0.23196895665911677\n"
     ]
    }
   ],
   "source": [
    "from sklearn.linear_model import LinearRegression\n",
    "\n",
    "model = LinearRegression()\n",
    "model.fit(x_train, y_train)\n",
    "y_pred = model.predict(xtest)\n",
    "\n",
    "mae = mean_absolute_error(ytest, y_pred)\n",
    "rmse = mean_squared_error(ytest, y_pred, squared=False)\n",
    "r2 = r2_score(ytest, y_pred)\n",
    "\n",
    "print('Mean absolute error:', mae, 'Root mean squared error:', rmse, 'r2 score:', r2)\n",
    "\n",
    "\n",
    "# cv = cross_val_score(lr, x_train, y_train, cv=6)\n",
    "# print(cv)\n",
    "# print(cv.mean())"
   ]
  },
  {
   "cell_type": "code",
   "execution_count": null,
   "metadata": {},
   "outputs": [],
   "source": []
  },
  {
   "cell_type": "markdown",
   "metadata": {},
   "source": [
    "# RidgeClassifier"
   ]
  },
  {
   "cell_type": "markdown",
   "metadata": {},
   "source": [
    "Can't use ridge class without binary labels (y_train, ytest)"
   ]
  },
  {
   "cell_type": "markdown",
   "metadata": {},
   "source": [
    "Could consider classifying listings as successful or not. Another idea is to try determining if a listing is from a small store/single artist or a larger store"
   ]
  },
  {
   "cell_type": "code",
   "execution_count": null,
   "metadata": {},
   "outputs": [],
   "source": [
    "# from sklearn.linear_model import RidgeClassifier \n",
    "# from sklearn.metrics import accuracy_score, recall_score, precision_score, f1_score, confusion_matrix\n",
    "\n",
    "# # alpha = 1.0  # Regularization strength (you can adjust this)\n",
    "# # max_iter = 1000  # Maximum number of iterations for the solver to converge\n",
    "# # solver = 'auto'  # Solver for optimization ('auto' chooses automatically)\n",
    "# # tol = 1e-3  # Tolerance for stopping criterion\n",
    "\n",
    "# # # training the model\n",
    "# # ridge_classifier = RidgeClassifier(\n",
    "# #     alpha=alpha, max_iter=max_iter, solver=solver, tol=tol)\n",
    "# # ridge_classifier.fit(x_train, y_train)\n",
    "\n",
    "# model = RidgeClassifier()\n",
    "# model.fit(x_train, y_train)"
   ]
  },
  {
   "cell_type": "code",
   "execution_count": null,
   "metadata": {},
   "outputs": [],
   "source": [
    "# from sklearn.linear_model import LogisticRegression\n",
    "# from sklearn.model_selection import cross_val_score\n",
    "\n",
    "# lr = LogisticRegression(max_iter = 2000)\n",
    "# cv = cross_val_score(lr, x_train, y_train, cv=6)\n",
    "# print(cv)\n",
    "# print(cv.mean())"
   ]
  },
  {
   "cell_type": "code",
   "execution_count": null,
   "metadata": {},
   "outputs": [],
   "source": [
    "# y_pred = model.predict(xtest)\n",
    "\n",
    "# # Calculate Classification metrics\n",
    "# accuracy = accuracy_score(ytest, y_pred)\n",
    "# precision = precision_score(ytest, y_pred, average='weighted')\n",
    "# recall = recall_score(ytest, y_pred, average='weighted')\n",
    "# f1 = f1_score(ytest, y_pred, average='weighted')\n",
    "# print(f\"RidgeClassifier model scores Accuracy: {accuracy}, Precision: {precision}, Recall: {recall}, F1-Score: {f1}\")\n",
    "\n",
    "# confusion_matrix(ytest, y_pred, labels = [1,0])"
   ]
  }
 ],
 "metadata": {
  "kernelspec": {
   "display_name": "base",
   "language": "python",
   "name": "python3"
  },
  "language_info": {
   "codemirror_mode": {
    "name": "ipython",
    "version": 3
   },
   "file_extension": ".py",
   "mimetype": "text/x-python",
   "name": "python",
   "nbconvert_exporter": "python",
   "pygments_lexer": "ipython3",
   "version": "3.11.5"
  },
  "orig_nbformat": 4
 },
 "nbformat": 4,
 "nbformat_minor": 2
}
